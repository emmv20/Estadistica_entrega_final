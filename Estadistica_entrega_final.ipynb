{
 "cells": [
  {
   "cell_type": "code",
   "execution_count": 187,
   "metadata": {},
   "outputs": [],
   "source": [
    "library(plyr,ldply)\n",
    "library(ggplot2)\n",
    "library(dplyr)\n",
    "library(plyr,llply)\n",
    "library(tidyverse)\n",
    "options(repr.plot.height=4,repr.plot.width=6)"
   ]
  },
  {
   "cell_type": "markdown",
   "metadata": {},
   "source": [
    "#1\n",
    "Cargar los datos en un dataframe llamado: airbnb"
   ]
  },
  {
   "cell_type": "code",
   "execution_count": 2,
   "metadata": {},
   "outputs": [],
   "source": [
    "#1\n",
    "airbnb <- read.csv('data//airbnb.csv',sep = ',', stringsAsFactors = T)"
   ]
  },
  {
   "cell_type": "markdown",
   "metadata": {},
   "source": [
    "#2\n",
    "Mostrar las primeras 6 filas del dataframe"
   ]
  },
  {
   "cell_type": "code",
   "execution_count": 6,
   "metadata": {
    "scrolled": true
   },
   "outputs": [
    {
     "data": {
      "text/html": [
       "<table class=\"dataframe\">\n",
       "<caption>A data.frame: 6 × 13</caption>\n",
       "<thead>\n",
       "\t<tr><th></th><th scope=col>Zipcode</th><th scope=col>Neighbourhood.Cleansed</th><th scope=col>Property.Type</th><th scope=col>Room.Type</th><th scope=col>Accommodates</th><th scope=col>Bathrooms</th><th scope=col>Bedrooms</th><th scope=col>Beds</th><th scope=col>Bed.Type</th><th scope=col>Amenities</th><th scope=col>Square.Feet</th><th scope=col>Price</th><th scope=col>Review.Scores.Rating</th></tr>\n",
       "\t<tr><th></th><th scope=col>&lt;fct&gt;</th><th scope=col>&lt;fct&gt;</th><th scope=col>&lt;fct&gt;</th><th scope=col>&lt;fct&gt;</th><th scope=col>&lt;int&gt;</th><th scope=col>&lt;dbl&gt;</th><th scope=col>&lt;int&gt;</th><th scope=col>&lt;int&gt;</th><th scope=col>&lt;fct&gt;</th><th scope=col>&lt;fct&gt;</th><th scope=col>&lt;int&gt;</th><th scope=col>&lt;int&gt;</th><th scope=col>&lt;int&gt;</th></tr>\n",
       "</thead>\n",
       "<tbody>\n",
       "\t<tr><th scope=row>1</th><td>28004</td><td>Universidad</td><td>Apartment</td><td>Private room   </td><td>2</td><td>2</td><td>1</td><td>1</td><td>Real Bed</td><td>TV,Wireless Internet,Kitchen,Pets allowed,Pets live on this property,Buzzer/wireless intercom,Heating,Suitable for events,Washer,First aid kit,Essentials,Lock on bedroom door,Iron                                                                                                                                                                             </td><td> NA</td><td>35</td><td> NA</td></tr>\n",
       "\t<tr><th scope=row>2</th><td>28004</td><td>Universidad</td><td>Apartment</td><td>Entire home/apt</td><td>6</td><td>1</td><td>3</td><td>5</td><td>Real Bed</td><td>TV,Internet,Wireless Internet,Air conditioning,Kitchen,Indoor fireplace,Heating,Family/kid friendly,Washer,Dryer,Smoke detector,Carbon monoxide detector,Essentials,Shampoo                                                                                                                                                                                     </td><td> NA</td><td>92</td><td> 96</td></tr>\n",
       "\t<tr><th scope=row>3</th><td>28004</td><td>Universidad</td><td>Apartment</td><td>Entire home/apt</td><td>3</td><td>1</td><td>2</td><td>2</td><td>Real Bed</td><td>TV,Internet,Wireless Internet,Air conditioning,Kitchen,Doorman,Heating,Family/kid friendly,Washer,Essentials,Shampoo,Hangers,Hair dryer,Iron,Laptop friendly workspace                                                                                                                                                                                          </td><td> NA</td><td>55</td><td> 91</td></tr>\n",
       "\t<tr><th scope=row>4</th><td>28004</td><td>Universidad</td><td>Loft     </td><td>Entire home/apt</td><td>3</td><td>2</td><td>1</td><td>1</td><td>Real Bed</td><td>TV,Internet,Wireless Internet,Air conditioning,Kitchen,Pets allowed,Breakfast,Elevator in building,Indoor fireplace,Buzzer/wireless intercom,Heating,Washer,Essentials,Shampoo,Hangers,Hair dryer,Iron,Laptop friendly workspace,translation missing: en.hosting_amenity_49,translation missing: en.hosting_amenity_50                                          </td><td> NA</td><td>60</td><td>100</td></tr>\n",
       "\t<tr><th scope=row>5</th><td>28015</td><td>Universidad</td><td>Apartment</td><td>Entire home/apt</td><td>5</td><td>1</td><td>1</td><td>1</td><td>Real Bed</td><td>TV,Wireless Internet,Air conditioning,Kitchen,Smoking allowed,Pets allowed,Elevator in building,Heating,Family/kid friendly,Washer,Essentials,Iron                                                                                                                                                                                                              </td><td>538</td><td>75</td><td> 90</td></tr>\n",
       "\t<tr><th scope=row>6</th><td>28004</td><td>Universidad</td><td>Apartment</td><td>Entire home/apt</td><td>2</td><td>1</td><td>0</td><td>1</td><td>Real Bed</td><td>TV,Cable TV,Internet,Wireless Internet,Air conditioning,Wheelchair accessible,Kitchen,Doorman,Elevator in building,Buzzer/wireless intercom,Heating,Washer,Smoke detector,Carbon monoxide detector,First aid kit,Safety card,Fire extinguisher,Essentials,Shampoo,24-hour check-in,Hangers,Hair dryer,Iron,Laptop friendly workspace,Self Check-In,Doorman Entry</td><td> NA</td><td>55</td><td> 95</td></tr>\n",
       "</tbody>\n",
       "</table>\n"
      ],
      "text/latex": [
       "A data.frame: 6 × 13\n",
       "\\begin{tabular}{r|lllllllllllll}\n",
       "  & Zipcode & Neighbourhood.Cleansed & Property.Type & Room.Type & Accommodates & Bathrooms & Bedrooms & Beds & Bed.Type & Amenities & Square.Feet & Price & Review.Scores.Rating\\\\\n",
       "  & <fct> & <fct> & <fct> & <fct> & <int> & <dbl> & <int> & <int> & <fct> & <fct> & <int> & <int> & <int>\\\\\n",
       "\\hline\n",
       "\t1 & 28004 & Universidad & Apartment & Private room    & 2 & 2 & 1 & 1 & Real Bed & TV,Wireless Internet,Kitchen,Pets allowed,Pets live on this property,Buzzer/wireless intercom,Heating,Suitable for events,Washer,First aid kit,Essentials,Lock on bedroom door,Iron                                                                                                                                                                              &  NA & 35 &  NA\\\\\n",
       "\t2 & 28004 & Universidad & Apartment & Entire home/apt & 6 & 1 & 3 & 5 & Real Bed & TV,Internet,Wireless Internet,Air conditioning,Kitchen,Indoor fireplace,Heating,Family/kid friendly,Washer,Dryer,Smoke detector,Carbon monoxide detector,Essentials,Shampoo                                                                                                                                                                                      &  NA & 92 &  96\\\\\n",
       "\t3 & 28004 & Universidad & Apartment & Entire home/apt & 3 & 1 & 2 & 2 & Real Bed & TV,Internet,Wireless Internet,Air conditioning,Kitchen,Doorman,Heating,Family/kid friendly,Washer,Essentials,Shampoo,Hangers,Hair dryer,Iron,Laptop friendly workspace                                                                                                                                                                                           &  NA & 55 &  91\\\\\n",
       "\t4 & 28004 & Universidad & Loft      & Entire home/apt & 3 & 2 & 1 & 1 & Real Bed & TV,Internet,Wireless Internet,Air conditioning,Kitchen,Pets allowed,Breakfast,Elevator in building,Indoor fireplace,Buzzer/wireless intercom,Heating,Washer,Essentials,Shampoo,Hangers,Hair dryer,Iron,Laptop friendly workspace,translation missing: en.hosting\\_amenity\\_49,translation missing: en.hosting\\_amenity\\_50                                           &  NA & 60 & 100\\\\\n",
       "\t5 & 28015 & Universidad & Apartment & Entire home/apt & 5 & 1 & 1 & 1 & Real Bed & TV,Wireless Internet,Air conditioning,Kitchen,Smoking allowed,Pets allowed,Elevator in building,Heating,Family/kid friendly,Washer,Essentials,Iron                                                                                                                                                                                                               & 538 & 75 &  90\\\\\n",
       "\t6 & 28004 & Universidad & Apartment & Entire home/apt & 2 & 1 & 0 & 1 & Real Bed & TV,Cable TV,Internet,Wireless Internet,Air conditioning,Wheelchair accessible,Kitchen,Doorman,Elevator in building,Buzzer/wireless intercom,Heating,Washer,Smoke detector,Carbon monoxide detector,First aid kit,Safety card,Fire extinguisher,Essentials,Shampoo,24-hour check-in,Hangers,Hair dryer,Iron,Laptop friendly workspace,Self Check-In,Doorman Entry &  NA & 55 &  95\\\\\n",
       "\\end{tabular}\n"
      ],
      "text/markdown": [
       "\n",
       "A data.frame: 6 × 13\n",
       "\n",
       "| <!--/--> | Zipcode &lt;fct&gt; | Neighbourhood.Cleansed &lt;fct&gt; | Property.Type &lt;fct&gt; | Room.Type &lt;fct&gt; | Accommodates &lt;int&gt; | Bathrooms &lt;dbl&gt; | Bedrooms &lt;int&gt; | Beds &lt;int&gt; | Bed.Type &lt;fct&gt; | Amenities &lt;fct&gt; | Square.Feet &lt;int&gt; | Price &lt;int&gt; | Review.Scores.Rating &lt;int&gt; |\n",
       "|---|---|---|---|---|---|---|---|---|---|---|---|---|---|\n",
       "| 1 | 28004 | Universidad | Apartment | Private room    | 2 | 2 | 1 | 1 | Real Bed | TV,Wireless Internet,Kitchen,Pets allowed,Pets live on this property,Buzzer/wireless intercom,Heating,Suitable for events,Washer,First aid kit,Essentials,Lock on bedroom door,Iron                                                                                                                                                                              |  NA | 35 |  NA |\n",
       "| 2 | 28004 | Universidad | Apartment | Entire home/apt | 6 | 1 | 3 | 5 | Real Bed | TV,Internet,Wireless Internet,Air conditioning,Kitchen,Indoor fireplace,Heating,Family/kid friendly,Washer,Dryer,Smoke detector,Carbon monoxide detector,Essentials,Shampoo                                                                                                                                                                                      |  NA | 92 |  96 |\n",
       "| 3 | 28004 | Universidad | Apartment | Entire home/apt | 3 | 1 | 2 | 2 | Real Bed | TV,Internet,Wireless Internet,Air conditioning,Kitchen,Doorman,Heating,Family/kid friendly,Washer,Essentials,Shampoo,Hangers,Hair dryer,Iron,Laptop friendly workspace                                                                                                                                                                                           |  NA | 55 |  91 |\n",
       "| 4 | 28004 | Universidad | Loft      | Entire home/apt | 3 | 2 | 1 | 1 | Real Bed | TV,Internet,Wireless Internet,Air conditioning,Kitchen,Pets allowed,Breakfast,Elevator in building,Indoor fireplace,Buzzer/wireless intercom,Heating,Washer,Essentials,Shampoo,Hangers,Hair dryer,Iron,Laptop friendly workspace,translation missing: en.hosting_amenity_49,translation missing: en.hosting_amenity_50                                           |  NA | 60 | 100 |\n",
       "| 5 | 28015 | Universidad | Apartment | Entire home/apt | 5 | 1 | 1 | 1 | Real Bed | TV,Wireless Internet,Air conditioning,Kitchen,Smoking allowed,Pets allowed,Elevator in building,Heating,Family/kid friendly,Washer,Essentials,Iron                                                                                                                                                                                                               | 538 | 75 |  90 |\n",
       "| 6 | 28004 | Universidad | Apartment | Entire home/apt | 2 | 1 | 0 | 1 | Real Bed | TV,Cable TV,Internet,Wireless Internet,Air conditioning,Wheelchair accessible,Kitchen,Doorman,Elevator in building,Buzzer/wireless intercom,Heating,Washer,Smoke detector,Carbon monoxide detector,First aid kit,Safety card,Fire extinguisher,Essentials,Shampoo,24-hour check-in,Hangers,Hair dryer,Iron,Laptop friendly workspace,Self Check-In,Doorman Entry |  NA | 55 |  95 |\n",
       "\n"
      ],
      "text/plain": [
       "  Zipcode Neighbourhood.Cleansed Property.Type Room.Type       Accommodates\n",
       "1 28004   Universidad            Apartment     Private room    2           \n",
       "2 28004   Universidad            Apartment     Entire home/apt 6           \n",
       "3 28004   Universidad            Apartment     Entire home/apt 3           \n",
       "4 28004   Universidad            Loft          Entire home/apt 3           \n",
       "5 28015   Universidad            Apartment     Entire home/apt 5           \n",
       "6 28004   Universidad            Apartment     Entire home/apt 2           \n",
       "  Bathrooms Bedrooms Beds Bed.Type\n",
       "1 2         1        1    Real Bed\n",
       "2 1         3        5    Real Bed\n",
       "3 1         2        2    Real Bed\n",
       "4 2         1        1    Real Bed\n",
       "5 1         1        1    Real Bed\n",
       "6 1         0        1    Real Bed\n",
       "  Amenities                                                                                                                                                                                                                                                                                                                                                       \n",
       "1 TV,Wireless Internet,Kitchen,Pets allowed,Pets live on this property,Buzzer/wireless intercom,Heating,Suitable for events,Washer,First aid kit,Essentials,Lock on bedroom door,Iron                                                                                                                                                                             \n",
       "2 TV,Internet,Wireless Internet,Air conditioning,Kitchen,Indoor fireplace,Heating,Family/kid friendly,Washer,Dryer,Smoke detector,Carbon monoxide detector,Essentials,Shampoo                                                                                                                                                                                     \n",
       "3 TV,Internet,Wireless Internet,Air conditioning,Kitchen,Doorman,Heating,Family/kid friendly,Washer,Essentials,Shampoo,Hangers,Hair dryer,Iron,Laptop friendly workspace                                                                                                                                                                                          \n",
       "4 TV,Internet,Wireless Internet,Air conditioning,Kitchen,Pets allowed,Breakfast,Elevator in building,Indoor fireplace,Buzzer/wireless intercom,Heating,Washer,Essentials,Shampoo,Hangers,Hair dryer,Iron,Laptop friendly workspace,translation missing: en.hosting_amenity_49,translation missing: en.hosting_amenity_50                                          \n",
       "5 TV,Wireless Internet,Air conditioning,Kitchen,Smoking allowed,Pets allowed,Elevator in building,Heating,Family/kid friendly,Washer,Essentials,Iron                                                                                                                                                                                                              \n",
       "6 TV,Cable TV,Internet,Wireless Internet,Air conditioning,Wheelchair accessible,Kitchen,Doorman,Elevator in building,Buzzer/wireless intercom,Heating,Washer,Smoke detector,Carbon monoxide detector,First aid kit,Safety card,Fire extinguisher,Essentials,Shampoo,24-hour check-in,Hangers,Hair dryer,Iron,Laptop friendly workspace,Self Check-In,Doorman Entry\n",
       "  Square.Feet Price Review.Scores.Rating\n",
       "1  NA         35     NA                 \n",
       "2  NA         92     96                 \n",
       "3  NA         55     91                 \n",
       "4  NA         60    100                 \n",
       "5 538         75     90                 \n",
       "6  NA         55     95                 "
      ]
     },
     "metadata": {},
     "output_type": "display_data"
    }
   ],
   "source": [
    "#2\n",
    "head(airbnb,6)"
   ]
  },
  {
   "cell_type": "markdown",
   "metadata": {},
   "source": [
    "#3\n",
    "Renombrar las columnas de la siguiente forma:\n",
    "\n",
    "| Nombre original | Nuevo nombre |\n",
    "| - | - |\n",
    "| Zipcode | CodigoPostal |\n",
    "| Neighbourhood.Cleansed | Barrio |\n",
    "| Property.Type\t| TipoPropiedad |\n",
    "| Room.Type | TipoAlquiler |\n",
    "| Accommodates | MaxOcupantes |\n",
    "| Bathrooms\t| NumBanyos |\n",
    "| Bedrooms\t| NumDormitorios |\n",
    "| Beds\t|  NumCamas |\n",
    "| Bed.Type\t| TipoCama |\n",
    "| Amenities | Comodidades |\n",
    "| Square.Feet | PiesCuadrados |\n",
    "| Price\t| Precio |\n",
    "| Review.Scores.Rating | Puntuacion |"
   ]
  },
  {
   "cell_type": "code",
   "execution_count": 7,
   "metadata": {},
   "outputs": [
    {
     "data": {
      "text/html": [
       "<table class=\"dataframe\">\n",
       "<caption>A data.frame: 6 × 13</caption>\n",
       "<thead>\n",
       "\t<tr><th></th><th scope=col>CodigoPostal</th><th scope=col>Barrio</th><th scope=col>TipoPropiedad</th><th scope=col>TipoAlquiler</th><th scope=col>MaxOcupantes</th><th scope=col>NumBanyos</th><th scope=col>NumDormitorios</th><th scope=col>NumCamas</th><th scope=col>TipoCama</th><th scope=col>Comodidades</th><th scope=col>PiesCuadrados</th><th scope=col>Precio</th><th scope=col>Puntuacion</th></tr>\n",
       "\t<tr><th></th><th scope=col>&lt;fct&gt;</th><th scope=col>&lt;fct&gt;</th><th scope=col>&lt;fct&gt;</th><th scope=col>&lt;fct&gt;</th><th scope=col>&lt;int&gt;</th><th scope=col>&lt;dbl&gt;</th><th scope=col>&lt;int&gt;</th><th scope=col>&lt;int&gt;</th><th scope=col>&lt;fct&gt;</th><th scope=col>&lt;fct&gt;</th><th scope=col>&lt;int&gt;</th><th scope=col>&lt;int&gt;</th><th scope=col>&lt;int&gt;</th></tr>\n",
       "</thead>\n",
       "<tbody>\n",
       "\t<tr><th scope=row>1</th><td>28004</td><td>Universidad</td><td>Apartment</td><td>Private room   </td><td>2</td><td>2</td><td>1</td><td>1</td><td>Real Bed</td><td>TV,Wireless Internet,Kitchen,Pets allowed,Pets live on this property,Buzzer/wireless intercom,Heating,Suitable for events,Washer,First aid kit,Essentials,Lock on bedroom door,Iron                                                                                                                                                                             </td><td> NA</td><td>35</td><td> NA</td></tr>\n",
       "\t<tr><th scope=row>2</th><td>28004</td><td>Universidad</td><td>Apartment</td><td>Entire home/apt</td><td>6</td><td>1</td><td>3</td><td>5</td><td>Real Bed</td><td>TV,Internet,Wireless Internet,Air conditioning,Kitchen,Indoor fireplace,Heating,Family/kid friendly,Washer,Dryer,Smoke detector,Carbon monoxide detector,Essentials,Shampoo                                                                                                                                                                                     </td><td> NA</td><td>92</td><td> 96</td></tr>\n",
       "\t<tr><th scope=row>3</th><td>28004</td><td>Universidad</td><td>Apartment</td><td>Entire home/apt</td><td>3</td><td>1</td><td>2</td><td>2</td><td>Real Bed</td><td>TV,Internet,Wireless Internet,Air conditioning,Kitchen,Doorman,Heating,Family/kid friendly,Washer,Essentials,Shampoo,Hangers,Hair dryer,Iron,Laptop friendly workspace                                                                                                                                                                                          </td><td> NA</td><td>55</td><td> 91</td></tr>\n",
       "\t<tr><th scope=row>4</th><td>28004</td><td>Universidad</td><td>Loft     </td><td>Entire home/apt</td><td>3</td><td>2</td><td>1</td><td>1</td><td>Real Bed</td><td>TV,Internet,Wireless Internet,Air conditioning,Kitchen,Pets allowed,Breakfast,Elevator in building,Indoor fireplace,Buzzer/wireless intercom,Heating,Washer,Essentials,Shampoo,Hangers,Hair dryer,Iron,Laptop friendly workspace,translation missing: en.hosting_amenity_49,translation missing: en.hosting_amenity_50                                          </td><td> NA</td><td>60</td><td>100</td></tr>\n",
       "\t<tr><th scope=row>5</th><td>28015</td><td>Universidad</td><td>Apartment</td><td>Entire home/apt</td><td>5</td><td>1</td><td>1</td><td>1</td><td>Real Bed</td><td>TV,Wireless Internet,Air conditioning,Kitchen,Smoking allowed,Pets allowed,Elevator in building,Heating,Family/kid friendly,Washer,Essentials,Iron                                                                                                                                                                                                              </td><td>538</td><td>75</td><td> 90</td></tr>\n",
       "\t<tr><th scope=row>6</th><td>28004</td><td>Universidad</td><td>Apartment</td><td>Entire home/apt</td><td>2</td><td>1</td><td>0</td><td>1</td><td>Real Bed</td><td>TV,Cable TV,Internet,Wireless Internet,Air conditioning,Wheelchair accessible,Kitchen,Doorman,Elevator in building,Buzzer/wireless intercom,Heating,Washer,Smoke detector,Carbon monoxide detector,First aid kit,Safety card,Fire extinguisher,Essentials,Shampoo,24-hour check-in,Hangers,Hair dryer,Iron,Laptop friendly workspace,Self Check-In,Doorman Entry</td><td> NA</td><td>55</td><td> 95</td></tr>\n",
       "</tbody>\n",
       "</table>\n"
      ],
      "text/latex": [
       "A data.frame: 6 × 13\n",
       "\\begin{tabular}{r|lllllllllllll}\n",
       "  & CodigoPostal & Barrio & TipoPropiedad & TipoAlquiler & MaxOcupantes & NumBanyos & NumDormitorios & NumCamas & TipoCama & Comodidades & PiesCuadrados & Precio & Puntuacion\\\\\n",
       "  & <fct> & <fct> & <fct> & <fct> & <int> & <dbl> & <int> & <int> & <fct> & <fct> & <int> & <int> & <int>\\\\\n",
       "\\hline\n",
       "\t1 & 28004 & Universidad & Apartment & Private room    & 2 & 2 & 1 & 1 & Real Bed & TV,Wireless Internet,Kitchen,Pets allowed,Pets live on this property,Buzzer/wireless intercom,Heating,Suitable for events,Washer,First aid kit,Essentials,Lock on bedroom door,Iron                                                                                                                                                                              &  NA & 35 &  NA\\\\\n",
       "\t2 & 28004 & Universidad & Apartment & Entire home/apt & 6 & 1 & 3 & 5 & Real Bed & TV,Internet,Wireless Internet,Air conditioning,Kitchen,Indoor fireplace,Heating,Family/kid friendly,Washer,Dryer,Smoke detector,Carbon monoxide detector,Essentials,Shampoo                                                                                                                                                                                      &  NA & 92 &  96\\\\\n",
       "\t3 & 28004 & Universidad & Apartment & Entire home/apt & 3 & 1 & 2 & 2 & Real Bed & TV,Internet,Wireless Internet,Air conditioning,Kitchen,Doorman,Heating,Family/kid friendly,Washer,Essentials,Shampoo,Hangers,Hair dryer,Iron,Laptop friendly workspace                                                                                                                                                                                           &  NA & 55 &  91\\\\\n",
       "\t4 & 28004 & Universidad & Loft      & Entire home/apt & 3 & 2 & 1 & 1 & Real Bed & TV,Internet,Wireless Internet,Air conditioning,Kitchen,Pets allowed,Breakfast,Elevator in building,Indoor fireplace,Buzzer/wireless intercom,Heating,Washer,Essentials,Shampoo,Hangers,Hair dryer,Iron,Laptop friendly workspace,translation missing: en.hosting\\_amenity\\_49,translation missing: en.hosting\\_amenity\\_50                                           &  NA & 60 & 100\\\\\n",
       "\t5 & 28015 & Universidad & Apartment & Entire home/apt & 5 & 1 & 1 & 1 & Real Bed & TV,Wireless Internet,Air conditioning,Kitchen,Smoking allowed,Pets allowed,Elevator in building,Heating,Family/kid friendly,Washer,Essentials,Iron                                                                                                                                                                                                               & 538 & 75 &  90\\\\\n",
       "\t6 & 28004 & Universidad & Apartment & Entire home/apt & 2 & 1 & 0 & 1 & Real Bed & TV,Cable TV,Internet,Wireless Internet,Air conditioning,Wheelchair accessible,Kitchen,Doorman,Elevator in building,Buzzer/wireless intercom,Heating,Washer,Smoke detector,Carbon monoxide detector,First aid kit,Safety card,Fire extinguisher,Essentials,Shampoo,24-hour check-in,Hangers,Hair dryer,Iron,Laptop friendly workspace,Self Check-In,Doorman Entry &  NA & 55 &  95\\\\\n",
       "\\end{tabular}\n"
      ],
      "text/markdown": [
       "\n",
       "A data.frame: 6 × 13\n",
       "\n",
       "| <!--/--> | CodigoPostal &lt;fct&gt; | Barrio &lt;fct&gt; | TipoPropiedad &lt;fct&gt; | TipoAlquiler &lt;fct&gt; | MaxOcupantes &lt;int&gt; | NumBanyos &lt;dbl&gt; | NumDormitorios &lt;int&gt; | NumCamas &lt;int&gt; | TipoCama &lt;fct&gt; | Comodidades &lt;fct&gt; | PiesCuadrados &lt;int&gt; | Precio &lt;int&gt; | Puntuacion &lt;int&gt; |\n",
       "|---|---|---|---|---|---|---|---|---|---|---|---|---|---|\n",
       "| 1 | 28004 | Universidad | Apartment | Private room    | 2 | 2 | 1 | 1 | Real Bed | TV,Wireless Internet,Kitchen,Pets allowed,Pets live on this property,Buzzer/wireless intercom,Heating,Suitable for events,Washer,First aid kit,Essentials,Lock on bedroom door,Iron                                                                                                                                                                              |  NA | 35 |  NA |\n",
       "| 2 | 28004 | Universidad | Apartment | Entire home/apt | 6 | 1 | 3 | 5 | Real Bed | TV,Internet,Wireless Internet,Air conditioning,Kitchen,Indoor fireplace,Heating,Family/kid friendly,Washer,Dryer,Smoke detector,Carbon monoxide detector,Essentials,Shampoo                                                                                                                                                                                      |  NA | 92 |  96 |\n",
       "| 3 | 28004 | Universidad | Apartment | Entire home/apt | 3 | 1 | 2 | 2 | Real Bed | TV,Internet,Wireless Internet,Air conditioning,Kitchen,Doorman,Heating,Family/kid friendly,Washer,Essentials,Shampoo,Hangers,Hair dryer,Iron,Laptop friendly workspace                                                                                                                                                                                           |  NA | 55 |  91 |\n",
       "| 4 | 28004 | Universidad | Loft      | Entire home/apt | 3 | 2 | 1 | 1 | Real Bed | TV,Internet,Wireless Internet,Air conditioning,Kitchen,Pets allowed,Breakfast,Elevator in building,Indoor fireplace,Buzzer/wireless intercom,Heating,Washer,Essentials,Shampoo,Hangers,Hair dryer,Iron,Laptop friendly workspace,translation missing: en.hosting_amenity_49,translation missing: en.hosting_amenity_50                                           |  NA | 60 | 100 |\n",
       "| 5 | 28015 | Universidad | Apartment | Entire home/apt | 5 | 1 | 1 | 1 | Real Bed | TV,Wireless Internet,Air conditioning,Kitchen,Smoking allowed,Pets allowed,Elevator in building,Heating,Family/kid friendly,Washer,Essentials,Iron                                                                                                                                                                                                               | 538 | 75 |  90 |\n",
       "| 6 | 28004 | Universidad | Apartment | Entire home/apt | 2 | 1 | 0 | 1 | Real Bed | TV,Cable TV,Internet,Wireless Internet,Air conditioning,Wheelchair accessible,Kitchen,Doorman,Elevator in building,Buzzer/wireless intercom,Heating,Washer,Smoke detector,Carbon monoxide detector,First aid kit,Safety card,Fire extinguisher,Essentials,Shampoo,24-hour check-in,Hangers,Hair dryer,Iron,Laptop friendly workspace,Self Check-In,Doorman Entry |  NA | 55 |  95 |\n",
       "\n"
      ],
      "text/plain": [
       "  CodigoPostal Barrio      TipoPropiedad TipoAlquiler    MaxOcupantes NumBanyos\n",
       "1 28004        Universidad Apartment     Private room    2            2        \n",
       "2 28004        Universidad Apartment     Entire home/apt 6            1        \n",
       "3 28004        Universidad Apartment     Entire home/apt 3            1        \n",
       "4 28004        Universidad Loft          Entire home/apt 3            2        \n",
       "5 28015        Universidad Apartment     Entire home/apt 5            1        \n",
       "6 28004        Universidad Apartment     Entire home/apt 2            1        \n",
       "  NumDormitorios NumCamas TipoCama\n",
       "1 1              1        Real Bed\n",
       "2 3              5        Real Bed\n",
       "3 2              2        Real Bed\n",
       "4 1              1        Real Bed\n",
       "5 1              1        Real Bed\n",
       "6 0              1        Real Bed\n",
       "  Comodidades                                                                                                                                                                                                                                                                                                                                                     \n",
       "1 TV,Wireless Internet,Kitchen,Pets allowed,Pets live on this property,Buzzer/wireless intercom,Heating,Suitable for events,Washer,First aid kit,Essentials,Lock on bedroom door,Iron                                                                                                                                                                             \n",
       "2 TV,Internet,Wireless Internet,Air conditioning,Kitchen,Indoor fireplace,Heating,Family/kid friendly,Washer,Dryer,Smoke detector,Carbon monoxide detector,Essentials,Shampoo                                                                                                                                                                                     \n",
       "3 TV,Internet,Wireless Internet,Air conditioning,Kitchen,Doorman,Heating,Family/kid friendly,Washer,Essentials,Shampoo,Hangers,Hair dryer,Iron,Laptop friendly workspace                                                                                                                                                                                          \n",
       "4 TV,Internet,Wireless Internet,Air conditioning,Kitchen,Pets allowed,Breakfast,Elevator in building,Indoor fireplace,Buzzer/wireless intercom,Heating,Washer,Essentials,Shampoo,Hangers,Hair dryer,Iron,Laptop friendly workspace,translation missing: en.hosting_amenity_49,translation missing: en.hosting_amenity_50                                          \n",
       "5 TV,Wireless Internet,Air conditioning,Kitchen,Smoking allowed,Pets allowed,Elevator in building,Heating,Family/kid friendly,Washer,Essentials,Iron                                                                                                                                                                                                              \n",
       "6 TV,Cable TV,Internet,Wireless Internet,Air conditioning,Wheelchair accessible,Kitchen,Doorman,Elevator in building,Buzzer/wireless intercom,Heating,Washer,Smoke detector,Carbon monoxide detector,First aid kit,Safety card,Fire extinguisher,Essentials,Shampoo,24-hour check-in,Hangers,Hair dryer,Iron,Laptop friendly workspace,Self Check-In,Doorman Entry\n",
       "  PiesCuadrados Precio Puntuacion\n",
       "1  NA           35      NA       \n",
       "2  NA           92      96       \n",
       "3  NA           55      91       \n",
       "4  NA           60     100       \n",
       "5 538           75      90       \n",
       "6  NA           55      95       "
      ]
     },
     "metadata": {},
     "output_type": "display_data"
    }
   ],
   "source": [
    "#3\n",
    "colnames(airbnb) <-c(\"CodigoPostal\",\"Barrio\",\"TipoPropiedad\",\"TipoAlquiler\",\"MaxOcupantes\",\"NumBanyos\",\n",
    "\"NumDormitorios\",\"NumCamas\",\"TipoCama\",\"Comodidades\",\"PiesCuadrados\",\"Precio\",\"Puntuacion\")\n",
    "head(airbnb)"
   ]
  },
  {
   "cell_type": "markdown",
   "metadata": {},
   "source": [
    "#4\n",
    "Crea una nueva columna llamada MetrosCuadrados a partir de la columna PiesCuadrados.\n",
    "\n",
    "Ayuda: 1 pie cuadrado son 0,092903 metros cuadrdados"
   ]
  },
  {
   "cell_type": "code",
   "execution_count": 11,
   "metadata": {
    "scrolled": true
   },
   "outputs": [
    {
     "data": {
      "text/html": [
       "<table class=\"dataframe\">\n",
       "<caption>A data.frame: 1 × 14</caption>\n",
       "<thead>\n",
       "\t<tr><th></th><th scope=col>CodigoPostal</th><th scope=col>Barrio</th><th scope=col>TipoPropiedad</th><th scope=col>TipoAlquiler</th><th scope=col>MaxOcupantes</th><th scope=col>NumBanyos</th><th scope=col>NumDormitorios</th><th scope=col>NumCamas</th><th scope=col>TipoCama</th><th scope=col>Comodidades</th><th scope=col>PiesCuadrados</th><th scope=col>Precio</th><th scope=col>Puntuacion</th><th scope=col>MetrosCuadrados</th></tr>\n",
       "\t<tr><th></th><th scope=col>&lt;fct&gt;</th><th scope=col>&lt;fct&gt;</th><th scope=col>&lt;fct&gt;</th><th scope=col>&lt;fct&gt;</th><th scope=col>&lt;int&gt;</th><th scope=col>&lt;dbl&gt;</th><th scope=col>&lt;int&gt;</th><th scope=col>&lt;int&gt;</th><th scope=col>&lt;fct&gt;</th><th scope=col>&lt;fct&gt;</th><th scope=col>&lt;int&gt;</th><th scope=col>&lt;int&gt;</th><th scope=col>&lt;int&gt;</th><th scope=col>&lt;dbl&gt;</th></tr>\n",
       "</thead>\n",
       "<tbody>\n",
       "\t<tr><th scope=row>1</th><td>28004</td><td>Universidad</td><td>Apartment</td><td>Private room</td><td>2</td><td>2</td><td>1</td><td>1</td><td>Real Bed</td><td>TV,Wireless Internet,Kitchen,Pets allowed,Pets live on this property,Buzzer/wireless intercom,Heating,Suitable for events,Washer,First aid kit,Essentials,Lock on bedroom door,Iron</td><td>NA</td><td>35</td><td>NA</td><td>NA</td></tr>\n",
       "</tbody>\n",
       "</table>\n"
      ],
      "text/latex": [
       "A data.frame: 1 × 14\n",
       "\\begin{tabular}{r|llllllllllllll}\n",
       "  & CodigoPostal & Barrio & TipoPropiedad & TipoAlquiler & MaxOcupantes & NumBanyos & NumDormitorios & NumCamas & TipoCama & Comodidades & PiesCuadrados & Precio & Puntuacion & MetrosCuadrados\\\\\n",
       "  & <fct> & <fct> & <fct> & <fct> & <int> & <dbl> & <int> & <int> & <fct> & <fct> & <int> & <int> & <int> & <dbl>\\\\\n",
       "\\hline\n",
       "\t1 & 28004 & Universidad & Apartment & Private room & 2 & 2 & 1 & 1 & Real Bed & TV,Wireless Internet,Kitchen,Pets allowed,Pets live on this property,Buzzer/wireless intercom,Heating,Suitable for events,Washer,First aid kit,Essentials,Lock on bedroom door,Iron & NA & 35 & NA & NA\\\\\n",
       "\\end{tabular}\n"
      ],
      "text/markdown": [
       "\n",
       "A data.frame: 1 × 14\n",
       "\n",
       "| <!--/--> | CodigoPostal &lt;fct&gt; | Barrio &lt;fct&gt; | TipoPropiedad &lt;fct&gt; | TipoAlquiler &lt;fct&gt; | MaxOcupantes &lt;int&gt; | NumBanyos &lt;dbl&gt; | NumDormitorios &lt;int&gt; | NumCamas &lt;int&gt; | TipoCama &lt;fct&gt; | Comodidades &lt;fct&gt; | PiesCuadrados &lt;int&gt; | Precio &lt;int&gt; | Puntuacion &lt;int&gt; | MetrosCuadrados &lt;dbl&gt; |\n",
       "|---|---|---|---|---|---|---|---|---|---|---|---|---|---|---|\n",
       "| 1 | 28004 | Universidad | Apartment | Private room | 2 | 2 | 1 | 1 | Real Bed | TV,Wireless Internet,Kitchen,Pets allowed,Pets live on this property,Buzzer/wireless intercom,Heating,Suitable for events,Washer,First aid kit,Essentials,Lock on bedroom door,Iron | NA | 35 | NA | NA |\n",
       "\n"
      ],
      "text/plain": [
       "  CodigoPostal Barrio      TipoPropiedad TipoAlquiler MaxOcupantes NumBanyos\n",
       "1 28004        Universidad Apartment     Private room 2            2        \n",
       "  NumDormitorios NumCamas TipoCama\n",
       "1 1              1        Real Bed\n",
       "  Comodidades                                                                                                                                                                        \n",
       "1 TV,Wireless Internet,Kitchen,Pets allowed,Pets live on this property,Buzzer/wireless intercom,Heating,Suitable for events,Washer,First aid kit,Essentials,Lock on bedroom door,Iron\n",
       "  PiesCuadrados Precio Puntuacion MetrosCuadrados\n",
       "1 NA            35     NA         NA             "
      ]
     },
     "metadata": {},
     "output_type": "display_data"
    }
   ],
   "source": [
    "#4\n",
    "feet <- 0.092903\n",
    "airbnb[\"MetrosCuadrados\"] <- airbnb[\"PiesCuadrados\"]*feet\n",
    "head(airbnb,1)"
   ]
  },
  {
   "cell_type": "markdown",
   "metadata": {},
   "source": [
    "#5\n",
    "Miremos el código postal. Es una variable con entradas erroneas.\n",
    "Hay valores como '', '-'  y '28' que deberían ser considerados como NA.\n",
    "Así mismo también debería ser NA todos los que no compiencen por 28, ya que estamos con códigos postales de Madrid\n",
    "\n",
    "El código postal 28002, 28004 y 28051 tienen entradas repetidas. \n",
    "Por ejemplo las entradas 28002\\n20882 deberían ir dnetro de 28002\n",
    "\n",
    "El codigo 2804 debería ser 28004, 2805 deberia ser 28005 y 2815 juncto con 2815 debería ser 28015\n",
    "\n",
    "Limpia los datos de la columna Codigo Postal"
   ]
  },
  {
   "cell_type": "code",
   "execution_count": 12,
   "metadata": {},
   "outputs": [],
   "source": [
    "#5\n",
    "\n",
    "airbnb$CodigoPostal <- as.character(airbnb$CodigoPostal)\n",
    "airbnb$CodigoPostal[airbnb$CodigoPostal=='-']<-NA\n",
    "airbnb$CodigoPostal[airbnb$CodigoPostal=='']<-NA\n",
    "airbnb$CodigoPostal[airbnb$CodigoPostal==' ']<-NA\n",
    "airbnb$CodigoPostal[airbnb$CodigoPostal==',']<-NA\n",
    "airbnb$CodigoPostal[airbnb$CodigoPostal=='28']<-NA\n",
    "airbnb$CodigoPostal[airbnb$CodigoPostal=='28002\\n28002']<-'28002'\n",
    "airbnb$CodigoPostal[airbnb$CodigoPostal=='28051\\n28051']<-'28051'\n",
    "airbnb$CodigoPostal[airbnb$CodigoPostal=='Madrid 28004']<-'28004'\n",
    "airbnb$CodigoPostal[airbnb$CodigoPostal=='Madrid 2804']<-'28004'\n",
    "airbnb$CodigoPostal[airbnb$CodigoPostal=='Madrid 2805']<-'28005'\n",
    "airbnb$CodigoPostal[airbnb$CodigoPostal=='Madrid 2815']<-'28015'\n",
    "airbnb$CodigoPostal[airbnb$CodigoPostal=='28002 28002']<-'28002'\n",
    "airbnb$CodigoPostal[airbnb$CodigoPostal=='28051 28051']<-'28051'\n",
    "airbnb$CodigoPostal[airbnb$CodigoPostal=='280013']<-'28013'\n",
    "airbnb$CodigoPostal <- as.numeric(airbnb$CodigoPostal)\n",
    "airbnb$CodigoPostal[airbnb$CodigoPostal < 28000]<-NA\n",
    "\n",
    "\n"
   ]
  },
  {
   "cell_type": "markdown",
   "metadata": {},
   "source": [
    "#6\n",
    "Una vez limpios los datos ¿Cuales son los códigos postales que tenemos? "
   ]
  },
  {
   "cell_type": "code",
   "execution_count": 14,
   "metadata": {},
   "outputs": [
    {
     "data": {
      "text/html": [
       "<table class=\"dataframe\">\n",
       "<caption>A data.frame: 61 × 1</caption>\n",
       "<thead>\n",
       "\t<tr><th></th><th scope=col>Codigos Postales</th></tr>\n",
       "\t<tr><th></th><th scope=col>&lt;dbl&gt;</th></tr>\n",
       "</thead>\n",
       "<tbody>\n",
       "\t<tr><th scope=row>1</th><td>28004</td></tr>\n",
       "\t<tr><th scope=row>5</th><td>28015</td></tr>\n",
       "\t<tr><th scope=row>13</th><td>28013</td></tr>\n",
       "\t<tr><th scope=row>14</th><td>28005</td></tr>\n",
       "\t<tr><th scope=row>18</th><td>28012</td></tr>\n",
       "\t<tr><th scope=row>27</th><td>28014</td></tr>\n",
       "\t<tr><th scope=row>37</th><td>28045</td></tr>\n",
       "\t<tr><th scope=row>142</th><td>28007</td></tr>\n",
       "\t<tr><th scope=row>148</th><td>28028</td></tr>\n",
       "\t<tr><th scope=row>149</th><td>28009</td></tr>\n",
       "\t<tr><th scope=row>261</th><td>28001</td></tr>\n",
       "\t<tr><th scope=row>263</th><td>28006</td></tr>\n",
       "\t<tr><th scope=row>336</th><td>28010</td></tr>\n",
       "\t<tr><th scope=row>357</th><td>28002</td></tr>\n",
       "\t<tr><th scope=row>362</th><td>28034</td></tr>\n",
       "\t<tr><th scope=row>363</th><td>28050</td></tr>\n",
       "\t<tr><th scope=row>364</th><td>28008</td></tr>\n",
       "\t<tr><th scope=row>365</th><td>28011</td></tr>\n",
       "\t<tr><th scope=row>367</th><td>28049</td></tr>\n",
       "\t<tr><th scope=row>368</th><td>28038</td></tr>\n",
       "\t<tr><th scope=row>369</th><td>28053</td></tr>\n",
       "\t<tr><th scope=row>371</th><td>28047</td></tr>\n",
       "\t<tr><th scope=row>384</th><td>28025</td></tr>\n",
       "\t<tr><th scope=row>385</th><td>28019</td></tr>\n",
       "\t<tr><th scope=row>387</th><td>28024</td></tr>\n",
       "\t<tr><th scope=row>398</th><td>28016</td></tr>\n",
       "\t<tr><th scope=row>400</th><td>28036</td></tr>\n",
       "\t<tr><th scope=row>406</th><td>28046</td></tr>\n",
       "\t<tr><th scope=row>407</th><td>28039</td></tr>\n",
       "\t<tr><th scope=row>409</th><td>28020</td></tr>\n",
       "\t<tr><th scope=row>⋮</th><td>⋮</td></tr>\n",
       "\t<tr><th scope=row>416</th><td>28029</td></tr>\n",
       "\t<tr><th scope=row>455</th><td>28054</td></tr>\n",
       "\t<tr><th scope=row>457</th><td>28041</td></tr>\n",
       "\t<tr><th scope=row>459</th><td>28026</td></tr>\n",
       "\t<tr><th scope=row>464</th><td>28058</td></tr>\n",
       "\t<tr><th scope=row>467</th><td>28018</td></tr>\n",
       "\t<tr><th scope=row>472</th><td>28030</td></tr>\n",
       "\t<tr><th scope=row>475</th><td>28017</td></tr>\n",
       "\t<tr><th scope=row>477</th><td>28027</td></tr>\n",
       "\t<tr><th scope=row>486</th><td>28043</td></tr>\n",
       "\t<tr><th scope=row>487</th><td>28033</td></tr>\n",
       "\t<tr><th scope=row>498</th><td>28055</td></tr>\n",
       "\t<tr><th scope=row>499</th><td>28021</td></tr>\n",
       "\t<tr><th scope=row>501</th><td>28032</td></tr>\n",
       "\t<tr><th scope=row>505</th><td>28037</td></tr>\n",
       "\t<tr><th scope=row>507</th><td>28022</td></tr>\n",
       "\t<tr><th scope=row>509</th><td>28042</td></tr>\n",
       "\t<tr><th scope=row>523</th><td>28094</td></tr>\n",
       "\t<tr><th scope=row>854</th><td>28035</td></tr>\n",
       "\t<tr><th scope=row>878</th><td>28040</td></tr>\n",
       "\t<tr><th scope=row>901</th><td>28031</td></tr>\n",
       "\t<tr><th scope=row>1205</th><td>28044</td></tr>\n",
       "\t<tr><th scope=row>1289</th><td>28105</td></tr>\n",
       "\t<tr><th scope=row>1483</th><td>28023</td></tr>\n",
       "\t<tr><th scope=row>1943</th><td>28051</td></tr>\n",
       "\t<tr><th scope=row>5041</th><td>28850</td></tr>\n",
       "\t<tr><th scope=row>5784</th><td>28048</td></tr>\n",
       "\t<tr><th scope=row>7494</th><td>28056</td></tr>\n",
       "\t<tr><th scope=row>9442</th><td>28060</td></tr>\n",
       "\t<tr><th scope=row>11651</th><td>28052</td></tr>\n",
       "</tbody>\n",
       "</table>\n"
      ],
      "text/latex": [
       "A data.frame: 61 × 1\n",
       "\\begin{tabular}{r|l}\n",
       "  & Codigos Postales\\\\\n",
       "  & <dbl>\\\\\n",
       "\\hline\n",
       "\t1 & 28004\\\\\n",
       "\t5 & 28015\\\\\n",
       "\t13 & 28013\\\\\n",
       "\t14 & 28005\\\\\n",
       "\t18 & 28012\\\\\n",
       "\t27 & 28014\\\\\n",
       "\t37 & 28045\\\\\n",
       "\t142 & 28007\\\\\n",
       "\t148 & 28028\\\\\n",
       "\t149 & 28009\\\\\n",
       "\t261 & 28001\\\\\n",
       "\t263 & 28006\\\\\n",
       "\t336 & 28010\\\\\n",
       "\t357 & 28002\\\\\n",
       "\t362 & 28034\\\\\n",
       "\t363 & 28050\\\\\n",
       "\t364 & 28008\\\\\n",
       "\t365 & 28011\\\\\n",
       "\t367 & 28049\\\\\n",
       "\t368 & 28038\\\\\n",
       "\t369 & 28053\\\\\n",
       "\t371 & 28047\\\\\n",
       "\t384 & 28025\\\\\n",
       "\t385 & 28019\\\\\n",
       "\t387 & 28024\\\\\n",
       "\t398 & 28016\\\\\n",
       "\t400 & 28036\\\\\n",
       "\t406 & 28046\\\\\n",
       "\t407 & 28039\\\\\n",
       "\t409 & 28020\\\\\n",
       "\t⋮ & ⋮\\\\\n",
       "\t416 & 28029\\\\\n",
       "\t455 & 28054\\\\\n",
       "\t457 & 28041\\\\\n",
       "\t459 & 28026\\\\\n",
       "\t464 & 28058\\\\\n",
       "\t467 & 28018\\\\\n",
       "\t472 & 28030\\\\\n",
       "\t475 & 28017\\\\\n",
       "\t477 & 28027\\\\\n",
       "\t486 & 28043\\\\\n",
       "\t487 & 28033\\\\\n",
       "\t498 & 28055\\\\\n",
       "\t499 & 28021\\\\\n",
       "\t501 & 28032\\\\\n",
       "\t505 & 28037\\\\\n",
       "\t507 & 28022\\\\\n",
       "\t509 & 28042\\\\\n",
       "\t523 & 28094\\\\\n",
       "\t854 & 28035\\\\\n",
       "\t878 & 28040\\\\\n",
       "\t901 & 28031\\\\\n",
       "\t1205 & 28044\\\\\n",
       "\t1289 & 28105\\\\\n",
       "\t1483 & 28023\\\\\n",
       "\t1943 & 28051\\\\\n",
       "\t5041 & 28850\\\\\n",
       "\t5784 & 28048\\\\\n",
       "\t7494 & 28056\\\\\n",
       "\t9442 & 28060\\\\\n",
       "\t11651 & 28052\\\\\n",
       "\\end{tabular}\n"
      ],
      "text/markdown": [
       "\n",
       "A data.frame: 61 × 1\n",
       "\n",
       "| <!--/--> | Codigos Postales &lt;dbl&gt; |\n",
       "|---|---|\n",
       "| 1 | 28004 |\n",
       "| 5 | 28015 |\n",
       "| 13 | 28013 |\n",
       "| 14 | 28005 |\n",
       "| 18 | 28012 |\n",
       "| 27 | 28014 |\n",
       "| 37 | 28045 |\n",
       "| 142 | 28007 |\n",
       "| 148 | 28028 |\n",
       "| 149 | 28009 |\n",
       "| 261 | 28001 |\n",
       "| 263 | 28006 |\n",
       "| 336 | 28010 |\n",
       "| 357 | 28002 |\n",
       "| 362 | 28034 |\n",
       "| 363 | 28050 |\n",
       "| 364 | 28008 |\n",
       "| 365 | 28011 |\n",
       "| 367 | 28049 |\n",
       "| 368 | 28038 |\n",
       "| 369 | 28053 |\n",
       "| 371 | 28047 |\n",
       "| 384 | 28025 |\n",
       "| 385 | 28019 |\n",
       "| 387 | 28024 |\n",
       "| 398 | 28016 |\n",
       "| 400 | 28036 |\n",
       "| 406 | 28046 |\n",
       "| 407 | 28039 |\n",
       "| 409 | 28020 |\n",
       "| ⋮ | ⋮ |\n",
       "| 416 | 28029 |\n",
       "| 455 | 28054 |\n",
       "| 457 | 28041 |\n",
       "| 459 | 28026 |\n",
       "| 464 | 28058 |\n",
       "| 467 | 28018 |\n",
       "| 472 | 28030 |\n",
       "| 475 | 28017 |\n",
       "| 477 | 28027 |\n",
       "| 486 | 28043 |\n",
       "| 487 | 28033 |\n",
       "| 498 | 28055 |\n",
       "| 499 | 28021 |\n",
       "| 501 | 28032 |\n",
       "| 505 | 28037 |\n",
       "| 507 | 28022 |\n",
       "| 509 | 28042 |\n",
       "| 523 | 28094 |\n",
       "| 854 | 28035 |\n",
       "| 878 | 28040 |\n",
       "| 901 | 28031 |\n",
       "| 1205 | 28044 |\n",
       "| 1289 | 28105 |\n",
       "| 1483 | 28023 |\n",
       "| 1943 | 28051 |\n",
       "| 5041 | 28850 |\n",
       "| 5784 | 28048 |\n",
       "| 7494 | 28056 |\n",
       "| 9442 | 28060 |\n",
       "| 11651 | 28052 |\n",
       "\n"
      ],
      "text/plain": [
       "      Codigos Postales\n",
       "1     28004           \n",
       "5     28015           \n",
       "13    28013           \n",
       "14    28005           \n",
       "18    28012           \n",
       "27    28014           \n",
       "37    28045           \n",
       "142   28007           \n",
       "148   28028           \n",
       "149   28009           \n",
       "261   28001           \n",
       "263   28006           \n",
       "336   28010           \n",
       "357   28002           \n",
       "362   28034           \n",
       "363   28050           \n",
       "364   28008           \n",
       "365   28011           \n",
       "367   28049           \n",
       "368   28038           \n",
       "369   28053           \n",
       "371   28047           \n",
       "384   28025           \n",
       "385   28019           \n",
       "387   28024           \n",
       "398   28016           \n",
       "400   28036           \n",
       "406   28046           \n",
       "407   28039           \n",
       "409   28020           \n",
       "⋮     ⋮               \n",
       "416   28029           \n",
       "455   28054           \n",
       "457   28041           \n",
       "459   28026           \n",
       "464   28058           \n",
       "467   28018           \n",
       "472   28030           \n",
       "475   28017           \n",
       "477   28027           \n",
       "486   28043           \n",
       "487   28033           \n",
       "498   28055           \n",
       "499   28021           \n",
       "501   28032           \n",
       "505   28037           \n",
       "507   28022           \n",
       "509   28042           \n",
       "523   28094           \n",
       "854   28035           \n",
       "878   28040           \n",
       "901   28031           \n",
       "1205  28044           \n",
       "1289  28105           \n",
       "1483  28023           \n",
       "1943  28051           \n",
       "5041  28850           \n",
       "5784  28048           \n",
       "7494  28056           \n",
       "9442  28060           \n",
       "11651 28052           "
      ]
     },
     "metadata": {},
     "output_type": "display_data"
    }
   ],
   "source": [
    "#6\n",
    "list6 <- as.data.frame(na.omit(airbnb$CodigoPostal))\n",
    "colnames(list6) <- c(\"Codigos Postales\")\n",
    "unique(list6)"
   ]
  },
  {
   "cell_type": "markdown",
   "metadata": {},
   "source": [
    "#7\n",
    "¿Cuales son los 5 códigos postales con más entradas? ¿Y con menos? ¿Cuantas entradas tienen?"
   ]
  },
  {
   "cell_type": "code",
   "execution_count": 548,
   "metadata": {},
   "outputs": [
    {
     "data": {
      "text/plain": [
       "\n",
       "28012 28004 28005 28013 28014 \n",
       " 2060  1795  1194  1020   630 "
      ]
     },
     "metadata": {},
     "output_type": "display_data"
    },
    {
     "data": {
      "text/plain": [
       "\n",
       "28048 28052 28056 28058 28060 \n",
       "    1     1     1     1     1 "
      ]
     },
     "metadata": {},
     "output_type": "display_data"
    }
   ],
   "source": [
    "#7\n",
    "sort(table(airbnb$CodigoPostal),decreasing=T)[1:5]\n",
    "sort(table(airbnb$CodigoPostal),decreasing=F)[1:5]"
   ]
  },
  {
   "cell_type": "markdown",
   "metadata": {},
   "source": [
    "#8\n",
    "¿Cuales son los barrios que hay en el código postal 28012?\n"
   ]
  },
  {
   "cell_type": "code",
   "execution_count": 15,
   "metadata": {},
   "outputs": [
    {
     "data": {
      "text/html": [
       "<table class=\"dataframe\">\n",
       "<caption>A data.frame: 11 × 1</caption>\n",
       "<thead>\n",
       "\t<tr><th scope=col>Barrios</th></tr>\n",
       "\t<tr><th scope=col>&lt;chr&gt;</th></tr>\n",
       "</thead>\n",
       "<tbody>\n",
       "\t<tr><td>Acacias        </td></tr>\n",
       "\t<tr><td>Arapiles       </td></tr>\n",
       "\t<tr><td>Atocha         </td></tr>\n",
       "\t<tr><td>Cortes         </td></tr>\n",
       "\t<tr><td>Delicias       </td></tr>\n",
       "\t<tr><td>Embajadores    </td></tr>\n",
       "\t<tr><td>Goya           </td></tr>\n",
       "\t<tr><td>Palacio        </td></tr>\n",
       "\t<tr><td>Palos de Moguer</td></tr>\n",
       "\t<tr><td>Sol            </td></tr>\n",
       "\t<tr><td>Universidad    </td></tr>\n",
       "</tbody>\n",
       "</table>\n"
      ],
      "text/latex": [
       "A data.frame: 11 × 1\n",
       "\\begin{tabular}{l}\n",
       " Barrios\\\\\n",
       " <chr>\\\\\n",
       "\\hline\n",
       "\t Acacias        \\\\\n",
       "\t Arapiles       \\\\\n",
       "\t Atocha         \\\\\n",
       "\t Cortes         \\\\\n",
       "\t Delicias       \\\\\n",
       "\t Embajadores    \\\\\n",
       "\t Goya           \\\\\n",
       "\t Palacio        \\\\\n",
       "\t Palos de Moguer\\\\\n",
       "\t Sol            \\\\\n",
       "\t Universidad    \\\\\n",
       "\\end{tabular}\n"
      ],
      "text/markdown": [
       "\n",
       "A data.frame: 11 × 1\n",
       "\n",
       "| Barrios &lt;chr&gt; |\n",
       "|---|\n",
       "| Acacias         |\n",
       "| Arapiles        |\n",
       "| Atocha          |\n",
       "| Cortes          |\n",
       "| Delicias        |\n",
       "| Embajadores     |\n",
       "| Goya            |\n",
       "| Palacio         |\n",
       "| Palos de Moguer |\n",
       "| Sol             |\n",
       "| Universidad     |\n",
       "\n"
      ],
      "text/plain": [
       "   Barrios        \n",
       "1  Acacias        \n",
       "2  Arapiles       \n",
       "3  Atocha         \n",
       "4  Cortes         \n",
       "5  Delicias       \n",
       "6  Embajadores    \n",
       "7  Goya           \n",
       "8  Palacio        \n",
       "9  Palos de Moguer\n",
       "10 Sol            \n",
       "11 Universidad    "
      ]
     },
     "metadata": {},
     "output_type": "display_data"
    }
   ],
   "source": [
    "#8\n",
    "list8 <- airbnb %>% filter(CodigoPostal==\"28012\")\n",
    "list8 <- as.data.frame(levels(droplevels(unique(list8$Barrio))))\n",
    "colnames(list8) <- c(\"Barrios\")\n",
    "list8"
   ]
  },
  {
   "cell_type": "markdown",
   "metadata": {},
   "source": [
    "#9 ¿Cuantas entradas hay en cada uno de esos barrios para el codigo postal 28012?"
   ]
  },
  {
   "cell_type": "code",
   "execution_count": 585,
   "metadata": {},
   "outputs": [
    {
     "data": {
      "text/html": [
       "<table class=\"dataframe\">\n",
       "<caption>A data.frame: 20 × 2</caption>\n",
       "<thead>\n",
       "\t<tr><th scope=col>Barrios</th><th scope=col>Entradas</th></tr>\n",
       "\t<tr><th scope=col>&lt;fct&gt;</th><th scope=col>&lt;int&gt;</th></tr>\n",
       "</thead>\n",
       "<tbody>\n",
       "\t<tr><td>Embajadores     </td><td>1449</td></tr>\n",
       "\t<tr><td>Sol             </td><td> 301</td></tr>\n",
       "\t<tr><td>Cortes          </td><td> 216</td></tr>\n",
       "\t<tr><td>Palos de Moguer </td><td>  46</td></tr>\n",
       "\t<tr><td>Palacio         </td><td>  27</td></tr>\n",
       "\t<tr><td>Acacias         </td><td>  13</td></tr>\n",
       "\t<tr><td>Universidad     </td><td>   4</td></tr>\n",
       "\t<tr><td>Arapiles        </td><td>   1</td></tr>\n",
       "\t<tr><td>Atocha          </td><td>   1</td></tr>\n",
       "\t<tr><td>Delicias        </td><td>   1</td></tr>\n",
       "\t<tr><td>Goya            </td><td>   1</td></tr>\n",
       "\t<tr><td>Abrantes        </td><td>   0</td></tr>\n",
       "\t<tr><td>Adelfas         </td><td>   0</td></tr>\n",
       "\t<tr><td>Aeropuerto      </td><td>   0</td></tr>\n",
       "\t<tr><td>Aguilas         </td><td>   0</td></tr>\n",
       "\t<tr><td>Alameda de Osuna</td><td>   0</td></tr>\n",
       "\t<tr><td>Almagro         </td><td>   0</td></tr>\n",
       "\t<tr><td>Almenara        </td><td>   0</td></tr>\n",
       "\t<tr><td>Almendrales     </td><td>   0</td></tr>\n",
       "\t<tr><td>Aluche          </td><td>   0</td></tr>\n",
       "</tbody>\n",
       "</table>\n"
      ],
      "text/latex": [
       "A data.frame: 20 × 2\n",
       "\\begin{tabular}{ll}\n",
       " Barrios & Entradas\\\\\n",
       " <fct> & <int>\\\\\n",
       "\\hline\n",
       "\t Embajadores      & 1449\\\\\n",
       "\t Sol              &  301\\\\\n",
       "\t Cortes           &  216\\\\\n",
       "\t Palos de Moguer  &   46\\\\\n",
       "\t Palacio          &   27\\\\\n",
       "\t Acacias          &   13\\\\\n",
       "\t Universidad      &    4\\\\\n",
       "\t Arapiles         &    1\\\\\n",
       "\t Atocha           &    1\\\\\n",
       "\t Delicias         &    1\\\\\n",
       "\t Goya             &    1\\\\\n",
       "\t Abrantes         &    0\\\\\n",
       "\t Adelfas          &    0\\\\\n",
       "\t Aeropuerto       &    0\\\\\n",
       "\t Aguilas          &    0\\\\\n",
       "\t Alameda de Osuna &    0\\\\\n",
       "\t Almagro          &    0\\\\\n",
       "\t Almenara         &    0\\\\\n",
       "\t Almendrales      &    0\\\\\n",
       "\t Aluche           &    0\\\\\n",
       "\\end{tabular}\n"
      ],
      "text/markdown": [
       "\n",
       "A data.frame: 20 × 2\n",
       "\n",
       "| Barrios &lt;fct&gt; | Entradas &lt;int&gt; |\n",
       "|---|---|\n",
       "| Embajadores      | 1449 |\n",
       "| Sol              |  301 |\n",
       "| Cortes           |  216 |\n",
       "| Palos de Moguer  |   46 |\n",
       "| Palacio          |   27 |\n",
       "| Acacias          |   13 |\n",
       "| Universidad      |    4 |\n",
       "| Arapiles         |    1 |\n",
       "| Atocha           |    1 |\n",
       "| Delicias         |    1 |\n",
       "| Goya             |    1 |\n",
       "| Abrantes         |    0 |\n",
       "| Adelfas          |    0 |\n",
       "| Aeropuerto       |    0 |\n",
       "| Aguilas          |    0 |\n",
       "| Alameda de Osuna |    0 |\n",
       "| Almagro          |    0 |\n",
       "| Almenara         |    0 |\n",
       "| Almendrales      |    0 |\n",
       "| Aluche           |    0 |\n",
       "\n"
      ],
      "text/plain": [
       "   Barrios          Entradas\n",
       "1  Embajadores      1449    \n",
       "2  Sol               301    \n",
       "3  Cortes            216    \n",
       "4  Palos de Moguer    46    \n",
       "5  Palacio            27    \n",
       "6  Acacias            13    \n",
       "7  Universidad         4    \n",
       "8  Arapiles            1    \n",
       "9  Atocha              1    \n",
       "10 Delicias            1    \n",
       "11 Goya                1    \n",
       "12 Abrantes            0    \n",
       "13 Adelfas             0    \n",
       "14 Aeropuerto          0    \n",
       "15 Aguilas             0    \n",
       "16 Alameda de Osuna    0    \n",
       "17 Almagro             0    \n",
       "18 Almenara            0    \n",
       "19 Almendrales         0    \n",
       "20 Aluche              0    "
      ]
     },
     "metadata": {},
     "output_type": "display_data"
    }
   ],
   "source": [
    "#9\n",
    "\n",
    "list9 <- as.data.frame(sort(table(airbnb[airbnb$CodigoPostal == \"28012\", \"Barrio\"]), decreasing=T)[1:20])\n",
    "\n",
    "colnames(list9) <- c(\"Barrios\",\"Entradas\")\n",
    "\n",
    "list9"
   ]
  },
  {
   "cell_type": "markdown",
   "metadata": {},
   "source": [
    "#10\n",
    "¿Cuantos barrios hay en todo el dataset airbnb? ¿Cuales son?"
   ]
  },
  {
   "cell_type": "code",
   "execution_count": 17,
   "metadata": {},
   "outputs": [
    {
     "data": {
      "text/html": [
       "'hay 125 Barrios en todo el dataset'"
      ],
      "text/latex": [
       "'hay 125 Barrios en todo el dataset'"
      ],
      "text/markdown": [
       "'hay 125 Barrios en todo el dataset'"
      ],
      "text/plain": [
       "[1] \"hay 125 Barrios en todo el dataset\""
      ]
     },
     "metadata": {},
     "output_type": "display_data"
    },
    {
     "data": {
      "text/html": [
       "<table class=\"dataframe\">\n",
       "<caption>A data.frame: 125 × 1</caption>\n",
       "<thead>\n",
       "\t<tr><th></th><th scope=col>Barrios</th></tr>\n",
       "\t<tr><th></th><th scope=col>&lt;fct&gt;</th></tr>\n",
       "</thead>\n",
       "<tbody>\n",
       "\t<tr><th scope=row>1</th><td>Universidad     </td></tr>\n",
       "\t<tr><th scope=row>2</th><td>Sol             </td></tr>\n",
       "\t<tr><th scope=row>3</th><td>Imperial        </td></tr>\n",
       "\t<tr><th scope=row>4</th><td>Acacias         </td></tr>\n",
       "\t<tr><th scope=row>5</th><td>Chopera         </td></tr>\n",
       "\t<tr><th scope=row>6</th><td>Delicias        </td></tr>\n",
       "\t<tr><th scope=row>7</th><td>Palos de Moguer </td></tr>\n",
       "\t<tr><th scope=row>8</th><td>Embajadores     </td></tr>\n",
       "\t<tr><th scope=row>9</th><td>Cortes          </td></tr>\n",
       "\t<tr><th scope=row>10</th><td>Atocha          </td></tr>\n",
       "\t<tr><th scope=row>11</th><td>Pacífico        </td></tr>\n",
       "\t<tr><th scope=row>12</th><td>Adelfas         </td></tr>\n",
       "\t<tr><th scope=row>13</th><td>Estrella        </td></tr>\n",
       "\t<tr><th scope=row>14</th><td>Ibiza           </td></tr>\n",
       "\t<tr><th scope=row>15</th><td>Jerónimos       </td></tr>\n",
       "\t<tr><th scope=row>16</th><td>Niño Jesús      </td></tr>\n",
       "\t<tr><th scope=row>17</th><td>Palacio         </td></tr>\n",
       "\t<tr><th scope=row>18</th><td>Justicia        </td></tr>\n",
       "\t<tr><th scope=row>19</th><td>Recoletos       </td></tr>\n",
       "\t<tr><th scope=row>20</th><td>Goya            </td></tr>\n",
       "\t<tr><th scope=row>21</th><td>Fuente del Berro</td></tr>\n",
       "\t<tr><th scope=row>22</th><td>Arapiles        </td></tr>\n",
       "\t<tr><th scope=row>23</th><td>Trafalgar       </td></tr>\n",
       "\t<tr><th scope=row>24</th><td>Almagro         </td></tr>\n",
       "\t<tr><th scope=row>25</th><td>Guindalera      </td></tr>\n",
       "\t<tr><th scope=row>26</th><td>Lista           </td></tr>\n",
       "\t<tr><th scope=row>27</th><td>Castellana      </td></tr>\n",
       "\t<tr><th scope=row>28</th><td>El Viso         </td></tr>\n",
       "\t<tr><th scope=row>29</th><td>Prosperidad     </td></tr>\n",
       "\t<tr><th scope=row>30</th><td>Valverde        </td></tr>\n",
       "\t<tr><th scope=row>⋮</th><td>⋮</td></tr>\n",
       "\t<tr><th scope=row>96</th><td>Marroquina                 </td></tr>\n",
       "\t<tr><th scope=row>97</th><td>Media Legua                </td></tr>\n",
       "\t<tr><th scope=row>98</th><td>Los Rosales                </td></tr>\n",
       "\t<tr><th scope=row>99</th><td>Casco Histórico de Vallecas</td></tr>\n",
       "\t<tr><th scope=row>100</th><td>Timón                      </td></tr>\n",
       "\t<tr><th scope=row>101</th><td>Corralejos                 </td></tr>\n",
       "\t<tr><th scope=row>102</th><td>Cuatro Vientos             </td></tr>\n",
       "\t<tr><th scope=row>103</th><td>Colina                     </td></tr>\n",
       "\t<tr><th scope=row>104</th><td>San Cristobal              </td></tr>\n",
       "\t<tr><th scope=row>105</th><td>Alameda de Osuna           </td></tr>\n",
       "\t<tr><th scope=row>106</th><td>Aeropuerto                 </td></tr>\n",
       "\t<tr><th scope=row>107</th><td>Palomas                    </td></tr>\n",
       "\t<tr><th scope=row>108</th><td>Zofío                      </td></tr>\n",
       "\t<tr><th scope=row>109</th><td>Aguilas                    </td></tr>\n",
       "\t<tr><th scope=row>110</th><td>Legazpi                    </td></tr>\n",
       "\t<tr><th scope=row>111</th><td>Fuentelareina              </td></tr>\n",
       "\t<tr><th scope=row>112</th><td>Aravaca                    </td></tr>\n",
       "\t<tr><th scope=row>113</th><td>Ambroz                     </td></tr>\n",
       "\t<tr><th scope=row>114</th><td>Canillejas                 </td></tr>\n",
       "\t<tr><th scope=row>115</th><td>Valdezarza                 </td></tr>\n",
       "\t<tr><th scope=row>116</th><td>Amposta                    </td></tr>\n",
       "\t<tr><th scope=row>117</th><td>San Pascual                </td></tr>\n",
       "\t<tr><th scope=row>118</th><td>Santa Eugenia              </td></tr>\n",
       "\t<tr><th scope=row>119</th><td>Arcos                      </td></tr>\n",
       "\t<tr><th scope=row>120</th><td>Rosas                      </td></tr>\n",
       "\t<tr><th scope=row>121</th><td>Valdemarín                 </td></tr>\n",
       "\t<tr><th scope=row>122</th><td>El Plantío                 </td></tr>\n",
       "\t<tr><th scope=row>123</th><td>Hellín                     </td></tr>\n",
       "\t<tr><th scope=row>124</th><td>Pavones                    </td></tr>\n",
       "\t<tr><th scope=row>125</th><td>Orcasitas                  </td></tr>\n",
       "</tbody>\n",
       "</table>\n"
      ],
      "text/latex": [
       "A data.frame: 125 × 1\n",
       "\\begin{tabular}{r|l}\n",
       "  & Barrios\\\\\n",
       "  & <fct>\\\\\n",
       "\\hline\n",
       "\t1 & Universidad     \\\\\n",
       "\t2 & Sol             \\\\\n",
       "\t3 & Imperial        \\\\\n",
       "\t4 & Acacias         \\\\\n",
       "\t5 & Chopera         \\\\\n",
       "\t6 & Delicias        \\\\\n",
       "\t7 & Palos de Moguer \\\\\n",
       "\t8 & Embajadores     \\\\\n",
       "\t9 & Cortes          \\\\\n",
       "\t10 & Atocha          \\\\\n",
       "\t11 & Pacífico        \\\\\n",
       "\t12 & Adelfas         \\\\\n",
       "\t13 & Estrella        \\\\\n",
       "\t14 & Ibiza           \\\\\n",
       "\t15 & Jerónimos       \\\\\n",
       "\t16 & Niño Jesús      \\\\\n",
       "\t17 & Palacio         \\\\\n",
       "\t18 & Justicia        \\\\\n",
       "\t19 & Recoletos       \\\\\n",
       "\t20 & Goya            \\\\\n",
       "\t21 & Fuente del Berro\\\\\n",
       "\t22 & Arapiles        \\\\\n",
       "\t23 & Trafalgar       \\\\\n",
       "\t24 & Almagro         \\\\\n",
       "\t25 & Guindalera      \\\\\n",
       "\t26 & Lista           \\\\\n",
       "\t27 & Castellana      \\\\\n",
       "\t28 & El Viso         \\\\\n",
       "\t29 & Prosperidad     \\\\\n",
       "\t30 & Valverde        \\\\\n",
       "\t⋮ & ⋮\\\\\n",
       "\t96 & Marroquina                 \\\\\n",
       "\t97 & Media Legua                \\\\\n",
       "\t98 & Los Rosales                \\\\\n",
       "\t99 & Casco Histórico de Vallecas\\\\\n",
       "\t100 & Timón                      \\\\\n",
       "\t101 & Corralejos                 \\\\\n",
       "\t102 & Cuatro Vientos             \\\\\n",
       "\t103 & Colina                     \\\\\n",
       "\t104 & San Cristobal              \\\\\n",
       "\t105 & Alameda de Osuna           \\\\\n",
       "\t106 & Aeropuerto                 \\\\\n",
       "\t107 & Palomas                    \\\\\n",
       "\t108 & Zofío                      \\\\\n",
       "\t109 & Aguilas                    \\\\\n",
       "\t110 & Legazpi                    \\\\\n",
       "\t111 & Fuentelareina              \\\\\n",
       "\t112 & Aravaca                    \\\\\n",
       "\t113 & Ambroz                     \\\\\n",
       "\t114 & Canillejas                 \\\\\n",
       "\t115 & Valdezarza                 \\\\\n",
       "\t116 & Amposta                    \\\\\n",
       "\t117 & San Pascual                \\\\\n",
       "\t118 & Santa Eugenia              \\\\\n",
       "\t119 & Arcos                      \\\\\n",
       "\t120 & Rosas                      \\\\\n",
       "\t121 & Valdemarín                 \\\\\n",
       "\t122 & El Plantío                 \\\\\n",
       "\t123 & Hellín                     \\\\\n",
       "\t124 & Pavones                    \\\\\n",
       "\t125 & Orcasitas                  \\\\\n",
       "\\end{tabular}\n"
      ],
      "text/markdown": [
       "\n",
       "A data.frame: 125 × 1\n",
       "\n",
       "| <!--/--> | Barrios &lt;fct&gt; |\n",
       "|---|---|\n",
       "| 1 | Universidad      |\n",
       "| 2 | Sol              |\n",
       "| 3 | Imperial         |\n",
       "| 4 | Acacias          |\n",
       "| 5 | Chopera          |\n",
       "| 6 | Delicias         |\n",
       "| 7 | Palos de Moguer  |\n",
       "| 8 | Embajadores      |\n",
       "| 9 | Cortes           |\n",
       "| 10 | Atocha           |\n",
       "| 11 | Pacífico         |\n",
       "| 12 | Adelfas          |\n",
       "| 13 | Estrella         |\n",
       "| 14 | Ibiza            |\n",
       "| 15 | Jerónimos        |\n",
       "| 16 | Niño Jesús       |\n",
       "| 17 | Palacio          |\n",
       "| 18 | Justicia         |\n",
       "| 19 | Recoletos        |\n",
       "| 20 | Goya             |\n",
       "| 21 | Fuente del Berro |\n",
       "| 22 | Arapiles         |\n",
       "| 23 | Trafalgar        |\n",
       "| 24 | Almagro          |\n",
       "| 25 | Guindalera       |\n",
       "| 26 | Lista            |\n",
       "| 27 | Castellana       |\n",
       "| 28 | El Viso          |\n",
       "| 29 | Prosperidad      |\n",
       "| 30 | Valverde         |\n",
       "| ⋮ | ⋮ |\n",
       "| 96 | Marroquina                  |\n",
       "| 97 | Media Legua                 |\n",
       "| 98 | Los Rosales                 |\n",
       "| 99 | Casco Histórico de Vallecas |\n",
       "| 100 | Timón                       |\n",
       "| 101 | Corralejos                  |\n",
       "| 102 | Cuatro Vientos              |\n",
       "| 103 | Colina                      |\n",
       "| 104 | San Cristobal               |\n",
       "| 105 | Alameda de Osuna            |\n",
       "| 106 | Aeropuerto                  |\n",
       "| 107 | Palomas                     |\n",
       "| 108 | Zofío                       |\n",
       "| 109 | Aguilas                     |\n",
       "| 110 | Legazpi                     |\n",
       "| 111 | Fuentelareina               |\n",
       "| 112 | Aravaca                     |\n",
       "| 113 | Ambroz                      |\n",
       "| 114 | Canillejas                  |\n",
       "| 115 | Valdezarza                  |\n",
       "| 116 | Amposta                     |\n",
       "| 117 | San Pascual                 |\n",
       "| 118 | Santa Eugenia               |\n",
       "| 119 | Arcos                       |\n",
       "| 120 | Rosas                       |\n",
       "| 121 | Valdemarín                  |\n",
       "| 122 | El Plantío                  |\n",
       "| 123 | Hellín                      |\n",
       "| 124 | Pavones                     |\n",
       "| 125 | Orcasitas                   |\n",
       "\n"
      ],
      "text/plain": [
       "    Barrios                    \n",
       "1   Universidad                \n",
       "2   Sol                        \n",
       "3   Imperial                   \n",
       "4   Acacias                    \n",
       "5   Chopera                    \n",
       "6   Delicias                   \n",
       "7   Palos de Moguer            \n",
       "8   Embajadores                \n",
       "9   Cortes                     \n",
       "10  Atocha                     \n",
       "11  Pacífico                   \n",
       "12  Adelfas                    \n",
       "13  Estrella                   \n",
       "14  Ibiza                      \n",
       "15  Jerónimos                  \n",
       "16  Niño Jesús                 \n",
       "17  Palacio                    \n",
       "18  Justicia                   \n",
       "19  Recoletos                  \n",
       "20  Goya                       \n",
       "21  Fuente del Berro           \n",
       "22  Arapiles                   \n",
       "23  Trafalgar                  \n",
       "24  Almagro                    \n",
       "25  Guindalera                 \n",
       "26  Lista                      \n",
       "27  Castellana                 \n",
       "28  El Viso                    \n",
       "29  Prosperidad                \n",
       "30  Valverde                   \n",
       "⋮   ⋮                          \n",
       "96  Marroquina                 \n",
       "97  Media Legua                \n",
       "98  Los Rosales                \n",
       "99  Casco Histórico de Vallecas\n",
       "100 Timón                      \n",
       "101 Corralejos                 \n",
       "102 Cuatro Vientos             \n",
       "103 Colina                     \n",
       "104 San Cristobal              \n",
       "105 Alameda de Osuna           \n",
       "106 Aeropuerto                 \n",
       "107 Palomas                    \n",
       "108 Zofío                      \n",
       "109 Aguilas                    \n",
       "110 Legazpi                    \n",
       "111 Fuentelareina              \n",
       "112 Aravaca                    \n",
       "113 Ambroz                     \n",
       "114 Canillejas                 \n",
       "115 Valdezarza                 \n",
       "116 Amposta                    \n",
       "117 San Pascual                \n",
       "118 Santa Eugenia              \n",
       "119 Arcos                      \n",
       "120 Rosas                      \n",
       "121 Valdemarín                 \n",
       "122 El Plantío                 \n",
       "123 Hellín                     \n",
       "124 Pavones                    \n",
       "125 Orcasitas                  "
      ]
     },
     "metadata": {},
     "output_type": "display_data"
    }
   ],
   "source": [
    "#length(table(airbnb[, \"Barrio\"]))\n",
    "#10\n",
    "resp10 <- length(unique(airbnb$Barrio))\n",
    "paste(\"hay\",resp10,\"Barrios en todo el dataset\")\n",
    "\n",
    "resp102 <- as.data.frame(unique(airbnb$Barrio))\n",
    "colnames(resp102) <- c(\"Barrios\")\n",
    "\n",
    "sample(na.omit(resp102))\n"
   ]
  },
  {
   "cell_type": "markdown",
   "metadata": {},
   "source": [
    "#11\n",
    "¿Cuales son los 5 barrios que tienen mayor número entradas?"
   ]
  },
  {
   "cell_type": "code",
   "execution_count": 49,
   "metadata": {},
   "outputs": [
    {
     "data": {
      "text/html": [
       "<table class=\"dataframe\">\n",
       "<caption>A data.frame: 5 × 2</caption>\n",
       "<thead>\n",
       "\t<tr><th scope=col>Var1</th><th scope=col>Freq</th></tr>\n",
       "\t<tr><th scope=col>&lt;fct&gt;</th><th scope=col>&lt;int&gt;</th></tr>\n",
       "</thead>\n",
       "<tbody>\n",
       "\t<tr><td>Embajadores</td><td>1844</td></tr>\n",
       "\t<tr><td>Universidad</td><td>1358</td></tr>\n",
       "\t<tr><td>Palacio    </td><td>1083</td></tr>\n",
       "\t<tr><td>Sol        </td><td> 940</td></tr>\n",
       "\t<tr><td>Justicia   </td><td> 785</td></tr>\n",
       "</tbody>\n",
       "</table>\n"
      ],
      "text/latex": [
       "A data.frame: 5 × 2\n",
       "\\begin{tabular}{ll}\n",
       " Var1 & Freq\\\\\n",
       " <fct> & <int>\\\\\n",
       "\\hline\n",
       "\t Embajadores & 1844\\\\\n",
       "\t Universidad & 1358\\\\\n",
       "\t Palacio     & 1083\\\\\n",
       "\t Sol         &  940\\\\\n",
       "\t Justicia    &  785\\\\\n",
       "\\end{tabular}\n"
      ],
      "text/markdown": [
       "\n",
       "A data.frame: 5 × 2\n",
       "\n",
       "| Var1 &lt;fct&gt; | Freq &lt;int&gt; |\n",
       "|---|---|\n",
       "| Embajadores | 1844 |\n",
       "| Universidad | 1358 |\n",
       "| Palacio     | 1083 |\n",
       "| Sol         |  940 |\n",
       "| Justicia    |  785 |\n",
       "\n"
      ],
      "text/plain": [
       "  Var1        Freq\n",
       "1 Embajadores 1844\n",
       "2 Universidad 1358\n",
       "3 Palacio     1083\n",
       "4 Sol          940\n",
       "5 Justicia     785"
      ]
     },
     "metadata": {},
     "output_type": "display_data"
    }
   ],
   "source": [
    "#11\n",
    "a11 <- sort(table(airbnb$Barrio),decreasing=T,)[1:5]\n",
    "data.frame(a11)"
   ]
  },
  {
   "cell_type": "markdown",
   "metadata": {},
   "source": [
    "#12\n",
    "¿Cuantos Tipos de Alquiler diferentes hay? ¿Cuales son? ¿Cuantas entradas en el dataframe hay por cada tipo?"
   ]
  },
  {
   "cell_type": "code",
   "execution_count": 50,
   "metadata": {},
   "outputs": [
    {
     "data": {
      "text/html": [
       "<table class=\"dataframe\">\n",
       "<caption>A data.frame: 3 × 2</caption>\n",
       "<thead>\n",
       "\t<tr><th scope=col>Var1</th><th scope=col>Freq</th></tr>\n",
       "\t<tr><th scope=col>&lt;fct&gt;</th><th scope=col>&lt;int&gt;</th></tr>\n",
       "</thead>\n",
       "<tbody>\n",
       "\t<tr><td>Entire home/apt</td><td>7903</td></tr>\n",
       "\t<tr><td>Private room   </td><td>5113</td></tr>\n",
       "\t<tr><td>Shared room    </td><td> 191</td></tr>\n",
       "</tbody>\n",
       "</table>\n"
      ],
      "text/latex": [
       "A data.frame: 3 × 2\n",
       "\\begin{tabular}{ll}\n",
       " Var1 & Freq\\\\\n",
       " <fct> & <int>\\\\\n",
       "\\hline\n",
       "\t Entire home/apt & 7903\\\\\n",
       "\t Private room    & 5113\\\\\n",
       "\t Shared room     &  191\\\\\n",
       "\\end{tabular}\n"
      ],
      "text/markdown": [
       "\n",
       "A data.frame: 3 × 2\n",
       "\n",
       "| Var1 &lt;fct&gt; | Freq &lt;int&gt; |\n",
       "|---|---|\n",
       "| Entire home/apt | 7903 |\n",
       "| Private room    | 5113 |\n",
       "| Shared room     |  191 |\n",
       "\n"
      ],
      "text/plain": [
       "  Var1            Freq\n",
       "1 Entire home/apt 7903\n",
       "2 Private room    5113\n",
       "3 Shared room      191"
      ]
     },
     "metadata": {},
     "output_type": "display_data"
    }
   ],
   "source": [
    "#12\n",
    "data.frame(table(airbnb[,\"TipoAlquiler\"]))"
   ]
  },
  {
   "cell_type": "markdown",
   "metadata": {},
   "source": [
    "#13\n",
    "Muestra el diagrama de cajas del precio para cada uno de los diferentes Tipos de Alquiler"
   ]
  },
  {
   "cell_type": "code",
   "execution_count": 51,
   "metadata": {},
   "outputs": [
    {
     "name": "stderr",
     "output_type": "stream",
     "text": [
      "Warning message:\n",
      "“Removed 9 rows containing non-finite values (stat_boxplot).”\n"
     ]
    },
    {
     "data": {
      "image/png": "[encoded data removed]",
      "text/plain": [
       "plot without title"
      ]
     },
     "metadata": {
      "image/png": {
       "height": 240,
       "width": 360
      }
     },
     "output_type": "display_data"
    }
   ],
   "source": [
    "#13\n",
    "a13 <- ggplot(airbnb, aes(\n",
    "    x=TipoAlquiler, \n",
    "    y=Precio, \n",
    "    fill=TipoAlquiler)) + \n",
    "    geom_boxplot()\n",
    "a13"
   ]
  },
  {
   "cell_type": "markdown",
   "metadata": {},
   "source": [
    "#14\n",
    "Cual es el precio medio de alquiler de cada uno, la diferencia que hay ¿es estadísticamente significativa?\n",
    "¿Con que test lo comprobarías?"
   ]
  },
  {
   "cell_type": "code",
   "execution_count": 118,
   "metadata": {},
   "outputs": [
    {
     "data": {
      "text/html": [
       "<table class=\"dataframe\">\n",
       "<caption>A tibble: 3 × 2</caption>\n",
       "<thead>\n",
       "\t<tr><th scope=col>TipoAlquiler</th><th scope=col>Promedio</th></tr>\n",
       "\t<tr><th scope=col>&lt;fct&gt;</th><th scope=col>&lt;dbl&gt;</th></tr>\n",
       "</thead>\n",
       "<tbody>\n",
       "\t<tr><td>Entire home/apt</td><td>87.29661</td></tr>\n",
       "\t<tr><td>Private room   </td><td>34.25514</td></tr>\n",
       "\t<tr><td>Shared room    </td><td>29.85340</td></tr>\n",
       "</tbody>\n",
       "</table>\n"
      ],
      "text/latex": [
       "A tibble: 3 × 2\n",
       "\\begin{tabular}{ll}\n",
       " TipoAlquiler & Promedio\\\\\n",
       " <fct> & <dbl>\\\\\n",
       "\\hline\n",
       "\t Entire home/apt & 87.29661\\\\\n",
       "\t Private room    & 34.25514\\\\\n",
       "\t Shared room     & 29.85340\\\\\n",
       "\\end{tabular}\n"
      ],
      "text/markdown": [
       "\n",
       "A tibble: 3 × 2\n",
       "\n",
       "| TipoAlquiler &lt;fct&gt; | Promedio &lt;dbl&gt; |\n",
       "|---|---|\n",
       "| Entire home/apt | 87.29661 |\n",
       "| Private room    | 34.25514 |\n",
       "| Shared room     | 29.85340 |\n",
       "\n"
      ],
      "text/plain": [
       "  TipoAlquiler    Promedio\n",
       "1 Entire home/apt 87.29661\n",
       "2 Private room    34.25514\n",
       "3 Shared room     29.85340"
      ]
     },
     "metadata": {},
     "output_type": "display_data"
    }
   ],
   "source": [
    "precioMedioAlq <- airbnb %>%\n",
    "  group_by(TipoAlquiler) %>%\n",
    "  summarize(Promedio = mean(Precio, na.rm = T))\n",
    "\n",
    "precioMedioAlq\n"
   ]
  },
  {
   "cell_type": "code",
   "execution_count": null,
   "metadata": {},
   "outputs": [],
   "source": [
    "\n",
    "paste(\"------------------------------------- Shapiro-Wilk normality test\")\n",
    "\n",
    "# RECHAZAMOS H0\n",
    "# No se asemeja a una distribución normal, debemos utilizar Kruskal-Wallis\n",
    "\n",
    "shapiro.test(precioMedioAlq$Promedio)\n",
    "hist(precioMedioAlq$Promedio)\n",
    "\n",
    "shapiro.test(head(airbnb$Precio[airbnb$TipoAlquiler=='Entire home/apt'], 5000))\n",
    "\n",
    "\n",
    "shapiro.test(head(airbnb$Precio[airbnb$TipoAlquiler=='Private room'],5000))\n",
    "\n",
    "\n",
    "shapiro.test(airbnb$Precio[airbnb$TipoAlquiler=='Shared room'])\n",
    "\n",
    "\n",
    "paste(\"------------------------------------- Kruskal-Wallis test\")"
   ]
  },
  {
   "cell_type": "code",
   "execution_count": 119,
   "metadata": {},
   "outputs": [
    {
     "data": {
      "text/plain": [
       "\n",
       "\tKruskal-Wallis rank sum test\n",
       "\n",
       "data:  valor by tipo_habitacion\n",
       "Kruskal-Wallis chi-squared = 7235.6, df = 2, p-value < 2.2e-16\n"
      ]
     },
     "metadata": {},
     "output_type": "display_data"
    },
    {
     "data": {
      "text/html": [
       "<span style=white-space:pre-wrap>'El p-value &lt; 2.2, concluimos que la variable dependiente[Promedio] es muy significativa entre Tipos de Alquileres   '</span>"
      ],
      "text/latex": [
       "'El p-value < 2.2, concluimos que la variable dependiente{[}Promedio{]} es muy significativa entre Tipos de Alquileres   '"
      ],
      "text/markdown": [
       "<span style=white-space:pre-wrap>'El p-value &lt; 2.2, concluimos que la variable dependiente[Promedio] es muy significativa entre Tipos de Alquileres   '</span>"
      ],
      "text/plain": [
       "[1] \"El p-value < 2.2, concluimos que la variable dependiente[Promedio] es muy significativa entre Tipos de Alquileres   \""
      ]
     },
     "metadata": {},
     "output_type": "display_data"
    }
   ],
   "source": [
    "#kruskal.test(weight ~ group, data = my_data)\n",
    "\n",
    "ktest <- rbind(data.frame(valor=airbnb$Precio[airbnb$TipoAlquiler=='Shared room'],tipo_habitacion='Shared room'),\n",
    "               data.frame(valor=airbnb$Precio[airbnb$TipoAlquiler=='Entire home/apt'],tipo_habitacion='Entire home/apt'),\n",
    "               data.frame(valor=airbnb$Precio[airbnb$TipoAlquiler=='Private room'],tipo_habitacion='Private room'))\n",
    "\n",
    "result <- kruskal.test(valor ~ tipo_habitacion, data=ktest)\n",
    "result\n",
    "paste(\"El p-value < 2.2, concluimos que la variable dependiente[Promedio] es muy significativa entre Tipos de Alquileres   \")\n",
    "\n",
    "\n"
   ]
  },
  {
   "cell_type": "markdown",
   "metadata": {},
   "source": [
    "#15\n",
    "Filtra el dataframe cuyos tipo de alquiler sea  'Entire home/apt' y guardalo en un dataframe llamado \n",
    "*airbnb_entire*.\n",
    "Estas serán las entradas que tienen un alquiler del piso completo."
   ]
  },
  {
   "cell_type": "code",
   "execution_count": 207,
   "metadata": {},
   "outputs": [
    {
     "data": {
      "text/html": [
       "<table class=\"dataframe\">\n",
       "<caption>A data.frame: 7903 × 14</caption>\n",
       "<thead>\n",
       "\t<tr><th></th><th scope=col>CodigoPostal</th><th scope=col>Barrio</th><th scope=col>TipoPropiedad</th><th scope=col>TipoAlquiler</th><th scope=col>MaxOcupantes</th><th scope=col>NumBanyos</th><th scope=col>NumDormitorios</th><th scope=col>NumCamas</th><th scope=col>TipoCama</th><th scope=col>Comodidades</th><th scope=col>PiesCuadrados</th><th scope=col>Precio</th><th scope=col>Puntuacion</th><th scope=col>MetrosCuadrados</th></tr>\n",
       "\t<tr><th></th><th scope=col>&lt;dbl&gt;</th><th scope=col>&lt;fct&gt;</th><th scope=col>&lt;fct&gt;</th><th scope=col>&lt;fct&gt;</th><th scope=col>&lt;int&gt;</th><th scope=col>&lt;dbl&gt;</th><th scope=col>&lt;int&gt;</th><th scope=col>&lt;int&gt;</th><th scope=col>&lt;fct&gt;</th><th scope=col>&lt;fct&gt;</th><th scope=col>&lt;int&gt;</th><th scope=col>&lt;int&gt;</th><th scope=col>&lt;int&gt;</th><th scope=col>&lt;dbl&gt;</th></tr>\n",
       "</thead>\n",
       "<tbody>\n",
       "\t<tr><th scope=row>2</th><td>28004</td><td>Universidad</td><td>Apartment  </td><td>Entire home/apt</td><td> 6</td><td>1</td><td>3</td><td> 5</td><td>Real Bed     </td><td>TV,Internet,Wireless Internet,Air conditioning,Kitchen,Indoor fireplace,Heating,Family/kid friendly,Washer,Dryer,Smoke detector,Carbon monoxide detector,Essentials,Shampoo                                                                                                                                                                                     </td><td> NA</td><td> 92</td><td> 96</td><td>      NA</td></tr>\n",
       "\t<tr><th scope=row>3</th><td>28004</td><td>Universidad</td><td>Apartment  </td><td>Entire home/apt</td><td> 3</td><td>1</td><td>2</td><td> 2</td><td>Real Bed     </td><td>TV,Internet,Wireless Internet,Air conditioning,Kitchen,Doorman,Heating,Family/kid friendly,Washer,Essentials,Shampoo,Hangers,Hair dryer,Iron,Laptop friendly workspace                                                                                                                                                                                          </td><td> NA</td><td> 55</td><td> 91</td><td>      NA</td></tr>\n",
       "\t<tr><th scope=row>4</th><td>28004</td><td>Universidad</td><td>Loft       </td><td>Entire home/apt</td><td> 3</td><td>2</td><td>1</td><td> 1</td><td>Real Bed     </td><td>TV,Internet,Wireless Internet,Air conditioning,Kitchen,Pets allowed,Breakfast,Elevator in building,Indoor fireplace,Buzzer/wireless intercom,Heating,Washer,Essentials,Shampoo,Hangers,Hair dryer,Iron,Laptop friendly workspace,translation missing: en.hosting_amenity_49,translation missing: en.hosting_amenity_50                                          </td><td> NA</td><td> 60</td><td>100</td><td>      NA</td></tr>\n",
       "\t<tr><th scope=row>5</th><td>28015</td><td>Universidad</td><td>Apartment  </td><td>Entire home/apt</td><td> 5</td><td>1</td><td>1</td><td> 1</td><td>Real Bed     </td><td>TV,Wireless Internet,Air conditioning,Kitchen,Smoking allowed,Pets allowed,Elevator in building,Heating,Family/kid friendly,Washer,Essentials,Iron                                                                                                                                                                                                              </td><td>538</td><td> 75</td><td> 90</td><td>49.98181</td></tr>\n",
       "\t<tr><th scope=row>6</th><td>28004</td><td>Universidad</td><td>Apartment  </td><td>Entire home/apt</td><td> 2</td><td>1</td><td>0</td><td> 1</td><td>Real Bed     </td><td>TV,Cable TV,Internet,Wireless Internet,Air conditioning,Wheelchair accessible,Kitchen,Doorman,Elevator in building,Buzzer/wireless intercom,Heating,Washer,Smoke detector,Carbon monoxide detector,First aid kit,Safety card,Fire extinguisher,Essentials,Shampoo,24-hour check-in,Hangers,Hair dryer,Iron,Laptop friendly workspace,Self Check-In,Doorman Entry</td><td> NA</td><td> 55</td><td> 95</td><td>      NA</td></tr>\n",
       "\t<tr><th scope=row>8</th><td>28004</td><td>Universidad</td><td>Apartment  </td><td>Entire home/apt</td><td> 3</td><td>1</td><td>1</td><td>NA</td><td>Real Bed     </td><td>TV,Wireless Internet,Air conditioning,Kitchen,Elevator in building,Buzzer/wireless intercom,Heating,Washer                                                                                                                                                                                                                                                      </td><td> NA</td><td> 70</td><td> 84</td><td>      NA</td></tr>\n",
       "\t<tr><th scope=row>9</th><td>28015</td><td>Universidad</td><td>Apartment  </td><td>Entire home/apt</td><td> 2</td><td>1</td><td>1</td><td> 1</td><td>Real Bed     </td><td>TV,Internet,Wireless Internet,Kitchen,Elevator in building,Buzzer/wireless intercom,Heating,Family/kid friendly,Washer,Dryer,Essentials,Shampoo,translation missing: en.hosting_amenity_49                                                                                                                                                                      </td><td>700</td><td> 90</td><td> 98</td><td>65.03210</td></tr>\n",
       "\t<tr><th scope=row>10</th><td>28004</td><td>Universidad</td><td>Apartment  </td><td>Entire home/apt</td><td> 4</td><td>2</td><td>2</td><td> 2</td><td>Real Bed     </td><td>TV,Wireless Internet,Air conditioning,Kitchen,Elevator in building,Hot tub,Heating,Family/kid friendly,Washer,Dryer,Essentials,Hair dryer,Iron                                                                                                                                                                                                                  </td><td> NA</td><td>155</td><td> NA</td><td>      NA</td></tr>\n",
       "\t<tr><th scope=row>11</th><td>28004</td><td>Universidad</td><td>Apartment  </td><td>Entire home/apt</td><td> 4</td><td>1</td><td>1</td><td> 2</td><td>Real Bed     </td><td>TV,Wireless Internet,Air conditioning,Wheelchair accessible,Kitchen,Elevator in building,Buzzer/wireless intercom,Heating,Family/kid friendly,Washer,Essentials,Shampoo                                                                                                                                                                                         </td><td> 40</td><td> 70</td><td> 90</td><td> 3.71612</td></tr>\n",
       "\t<tr><th scope=row>15</th><td>28013</td><td>Sol        </td><td>Apartment  </td><td>Entire home/apt</td><td> 4</td><td>1</td><td>1</td><td> 1</td><td>Real Bed     </td><td>TV,Wireless Internet,Air conditioning,Kitchen,Doorman,Elevator in building,Buzzer/wireless intercom,Heating,Family/kid friendly,Suitable for events,Washer,Essentials,Hangers,Hair dryer,Iron                                                                                                                                                                   </td><td>646</td><td> 75</td><td> 91</td><td>60.01534</td></tr>\n",
       "\t<tr><th scope=row>16</th><td>28013</td><td>Sol        </td><td>Condominium</td><td>Entire home/apt</td><td> 6</td><td>1</td><td>2</td><td> 3</td><td>Real Bed     </td><td>TV,Wireless Internet,Air conditioning,Kitchen,Doorman,Elevator in building,Buzzer/wireless intercom,Heating,Family/kid friendly,Washer,Dryer,Essentials,Shampoo,Hangers,Hair dryer,Iron                                                                                                                                                                         </td><td> NA</td><td>130</td><td>100</td><td>      NA</td></tr>\n",
       "\t<tr><th scope=row>17</th><td>28013</td><td>Sol        </td><td>Apartment  </td><td>Entire home/apt</td><td> 4</td><td>1</td><td>1</td><td> 2</td><td>Real Bed     </td><td>TV,Internet,Wireless Internet,Air conditioning,Kitchen,Doorman,Elevator in building,Buzzer/wireless intercom,Heating,Family/kid friendly,Washer,Smoke detector,Carbon monoxide detector,First aid kit,Safety card,Fire extinguisher,Essentials,Shampoo,24-hour check-in,Hangers,Hair dryer,Iron,Laptop friendly workspace                                       </td><td> NA</td><td>100</td><td> 97</td><td>      NA</td></tr>\n",
       "\t<tr><th scope=row>18</th><td>28012</td><td>Sol        </td><td>Apartment  </td><td>Entire home/apt</td><td> 6</td><td>1</td><td>2</td><td> 2</td><td>Real Bed     </td><td>TV,Internet,Wireless Internet,Air conditioning,Kitchen,Smoking allowed,Elevator in building,Buzzer/wireless intercom,Heating,Family/kid friendly,Washer,Dryer,Essentials,Shampoo,Hangers,Hair dryer,Iron,Laptop friendly workspace                                                                                                                              </td><td> NA</td><td>160</td><td> 95</td><td>      NA</td></tr>\n",
       "\t<tr><th scope=row>19</th><td>28013</td><td>Sol        </td><td>Apartment  </td><td>Entire home/apt</td><td> 4</td><td>1</td><td>1</td><td> 2</td><td>Real Bed     </td><td>TV,Internet,Wireless Internet,Air conditioning,Kitchen,Heating,Washer,Essentials,Hangers,Hair dryer,translation missing: en.hosting_amenity_50                                                                                                                                                                                                                  </td><td> NA</td><td> 49</td><td> 95</td><td>      NA</td></tr>\n",
       "\t<tr><th scope=row>21</th><td>28013</td><td>Sol        </td><td>Apartment  </td><td>Entire home/apt</td><td> 4</td><td>1</td><td>1</td><td> 2</td><td>Real Bed     </td><td>TV,Wireless Internet,Kitchen,Pets allowed,Elevator in building,Heating,Family/kid friendly,Washer,Essentials,Shampoo,Hangers,Hair dryer,Laptop friendly workspace                                                                                                                                                                                               </td><td> NA</td><td> 70</td><td> 88</td><td>      NA</td></tr>\n",
       "\t<tr><th scope=row>22</th><td>28005</td><td>Sol        </td><td>Apartment  </td><td>Entire home/apt</td><td>10</td><td>2</td><td>4</td><td> 7</td><td>Real Bed     </td><td>TV,Internet,Wireless Internet,Air conditioning,Kitchen,Heating,Family/kid friendly,Washer,Essentials                                                                                                                                                                                                                                                            </td><td> NA</td><td>210</td><td> 81</td><td>      NA</td></tr>\n",
       "\t<tr><th scope=row>23</th><td>28013</td><td>Sol        </td><td>Apartment  </td><td>Entire home/apt</td><td> 6</td><td>1</td><td>2</td><td> 4</td><td>Real Bed     </td><td>TV,Internet,Wireless Internet,Air conditioning,Kitchen,Smoking allowed,Pets allowed,Doorman,Elevator in building,Buzzer/wireless intercom,Heating,Family/kid friendly,Washer,First aid kit,Safety card,Essentials,Shampoo,Hangers,Hair dryer,Iron                                                                                                               </td><td> NA</td><td>120</td><td> 99</td><td>      NA</td></tr>\n",
       "\t<tr><th scope=row>24</th><td>28012</td><td>Sol        </td><td>Apartment  </td><td>Entire home/apt</td><td> 4</td><td>1</td><td>1</td><td> 2</td><td>Real Bed     </td><td>TV,Internet,Wireless Internet,Air conditioning,Kitchen,Elevator in building,Heating,Family/kid friendly,Washer,Smoke detector,Carbon monoxide detector,Essentials,Shampoo,24-hour check-in,Hangers,Hair dryer,Iron,Laptop friendly workspace                                                                                                                    </td><td> NA</td><td> 50</td><td> 91</td><td>      NA</td></tr>\n",
       "\t<tr><th scope=row>25</th><td>28012</td><td>Sol        </td><td>Apartment  </td><td>Entire home/apt</td><td> 4</td><td>1</td><td>1</td><td> 1</td><td>Real Bed     </td><td>TV,Cable TV,Internet,Wireless Internet,Air conditioning,Kitchen,Elevator in building,Buzzer/wireless intercom,Heating,Family/kid friendly,Washer,Essentials,Hair dryer,Iron                                                                                                                                                                                     </td><td>753</td><td>100</td><td> 87</td><td>69.95596</td></tr>\n",
       "\t<tr><th scope=row>26</th><td>28013</td><td>Sol        </td><td>Apartment  </td><td>Entire home/apt</td><td> 4</td><td>1</td><td>1</td><td> 2</td><td>Real Bed     </td><td>TV,Internet,Wireless Internet,Air conditioning,Kitchen,Breakfast,Elevator in building,Heating,Family/kid friendly,Washer,First aid kit,Fire extinguisher,Essentials,Shampoo,Hangers,Hair dryer,Iron,Laptop friendly workspace                                                                                                                                   </td><td> NA</td><td> 75</td><td>100</td><td>      NA</td></tr>\n",
       "\t<tr><th scope=row>27</th><td>28014</td><td>Sol        </td><td>Condominium</td><td>Entire home/apt</td><td> 8</td><td>2</td><td>2</td><td> 5</td><td>Real Bed     </td><td>TV,Internet,Wireless Internet,Air conditioning,Wheelchair accessible,Kitchen,Doorman,Elevator in building,Buzzer/wireless intercom,Heating,Family/kid friendly,Washer,Smoke detector,Carbon monoxide detector,Essentials,Shampoo,24-hour check-in,Hangers,Hair dryer,Iron,Laptop friendly workspace                                                             </td><td> NA</td><td>155</td><td> 93</td><td>      NA</td></tr>\n",
       "\t<tr><th scope=row>28</th><td>28013</td><td>Sol        </td><td>Apartment  </td><td>Entire home/apt</td><td> 6</td><td>2</td><td>2</td><td> 3</td><td>Real Bed     </td><td>TV,Internet,Wireless Internet,Air conditioning,Wheelchair accessible,Kitchen,Doorman,Elevator in building,Buzzer/wireless intercom,Heating,Family/kid friendly,Washer,Dryer,Essentials,Hangers,Hair dryer,Iron                                                                                                                                                  </td><td> NA</td><td>155</td><td> 80</td><td>      NA</td></tr>\n",
       "\t<tr><th scope=row>30</th><td>28005</td><td>Sol        </td><td>Apartment  </td><td>Entire home/apt</td><td> 8</td><td>1</td><td>3</td><td> 4</td><td>Real Bed     </td><td>TV,Internet,Wireless Internet,Kitchen,Breakfast,Elevator in building,Buzzer/wireless intercom,Heating,Family/kid friendly,Washer,Essentials,Shampoo,Hangers,Hair dryer,Iron,Laptop friendly workspace,Self Check-In,Lockbox                                                                                                                                     </td><td> NA</td><td>163</td><td>100</td><td>      NA</td></tr>\n",
       "\t<tr><th scope=row>31</th><td>28005</td><td>Imperial   </td><td>Apartment  </td><td>Entire home/apt</td><td> 3</td><td>1</td><td>1</td><td> 1</td><td>Real Bed     </td><td>TV,Internet,Wireless Internet,Kitchen,Pets allowed,Elevator in building,Heating,Family/kid friendly,Washer,Fire extinguisher,Essentials,Shampoo,Hangers,Hair dryer,Iron,Laptop friendly workspace,translation missing: en.hosting_amenity_50                                                                                                                    </td><td> NA</td><td> 70</td><td> 95</td><td>      NA</td></tr>\n",
       "\t<tr><th scope=row>32</th><td>28005</td><td>Imperial   </td><td>Apartment  </td><td>Entire home/apt</td><td> 3</td><td>1</td><td>2</td><td> 2</td><td>Real Bed     </td><td>TV,Wireless Internet,Kitchen,Heating,Family/kid friendly,Washer,Essentials,Hair dryer,translation missing: en.hosting_amenity_50                                                                                                                                                                                                                                </td><td> NA</td><td> 49</td><td> 88</td><td>      NA</td></tr>\n",
       "\t<tr><th scope=row>36</th><td>28005</td><td>Acacias    </td><td>House      </td><td>Entire home/apt</td><td> 4</td><td>2</td><td>2</td><td> 4</td><td>Real Bed     </td><td>TV,Wireless Internet,Air conditioning,Wheelchair accessible,Kitchen,Doorman,Elevator in building,Buzzer/wireless intercom,Heating,Washer,Essentials,Shampoo,Hangers,Hair dryer,Iron,Laptop friendly workspace                                                                                                                                                   </td><td> NA</td><td> 90</td><td> 92</td><td>      NA</td></tr>\n",
       "\t<tr><th scope=row>43</th><td>28013</td><td>Sol        </td><td>Apartment  </td><td>Entire home/apt</td><td> 4</td><td>1</td><td>1</td><td> 1</td><td>Pull-out Sofa</td><td>TV,Internet,Wireless Internet,Air conditioning,Kitchen,Elevator in building,Buzzer/wireless intercom,Heating,Family/kid friendly,Washer,Smoke detector,Carbon monoxide detector,First aid kit,Essentials,Shampoo,24-hour check-in,Hangers,Hair dryer,Iron,Laptop friendly workspace,translation missing: en.hosting_amenity_50                                  </td><td> NA</td><td> 64</td><td> 97</td><td>      NA</td></tr>\n",
       "\t<tr><th scope=row>44</th><td>28013</td><td>Sol        </td><td>Apartment  </td><td>Entire home/apt</td><td> 6</td><td>2</td><td>2</td><td> 2</td><td>Real Bed     </td><td>TV,Wireless Internet,Air conditioning,Kitchen,Elevator in building,Heating,Washer,Essentials,Shampoo                                                                                                                                                                                                                                                            </td><td> NA</td><td>109</td><td> 90</td><td>      NA</td></tr>\n",
       "\t<tr><th scope=row>45</th><td>28013</td><td>Sol        </td><td>Apartment  </td><td>Entire home/apt</td><td> 3</td><td>1</td><td>1</td><td> 2</td><td>Real Bed     </td><td>TV,Internet,Wireless Internet,Air conditioning,Kitchen,Smoking allowed,Elevator in building,Buzzer/wireless intercom,Heating,Family/kid friendly,Washer,Fire extinguisher,Essentials,Shampoo,Hangers,Hair dryer,Iron                                                                                                                                            </td><td> NA</td><td> 67</td><td> 95</td><td>      NA</td></tr>\n",
       "\t<tr><th scope=row>46</th><td>28013</td><td>Sol        </td><td>Apartment  </td><td>Entire home/apt</td><td> 2</td><td>1</td><td>1</td><td> 1</td><td>Real Bed     </td><td>TV,Internet,Wireless Internet,Air conditioning,Kitchen,Elevator in building,Buzzer/wireless intercom,Heating,Family/kid friendly,Washer,First aid kit,Essentials,Shampoo,Hair dryer,Iron                                                                                                                                                                        </td><td>269</td><td> 65</td><td> 93</td><td>24.99091</td></tr>\n",
       "\t<tr><th scope=row>⋮</th><td>⋮</td><td>⋮</td><td>⋮</td><td>⋮</td><td>⋮</td><td>⋮</td><td>⋮</td><td>⋮</td><td>⋮</td><td>⋮</td><td>⋮</td><td>⋮</td><td>⋮</td><td>⋮</td></tr>\n",
       "\t<tr><th scope=row>13157</th><td>28010</td><td>Almagro             </td><td>Apartment  </td><td>Entire home/apt</td><td> 2</td><td>1.0</td><td>0</td><td> 1</td><td>Pull-out Sofa</td><td>TV,Wireless Internet,Kitchen,Buzzer/wireless intercom,Heating,Essentials,Hangers,Iron,translation missing: en.hosting_amenity_49,translation missing: en.hosting_amenity_50                                                                                                                                          </td><td> NA</td><td> 30</td><td> 83</td><td>      NA</td></tr>\n",
       "\t<tr><th scope=row>13158</th><td>28010</td><td>Almagro             </td><td>Apartment  </td><td>Entire home/apt</td><td> 2</td><td>1.0</td><td>1</td><td> 1</td><td>Real Bed     </td><td>TV,Internet,Wireless Internet,Air conditioning,Kitchen,Pets allowed,Doorman,Elevator in building,Buzzer/wireless intercom,Heating,Family/kid friendly,Washer,Essentials,Hangers,Iron,Laptop friendly workspace,translation missing: en.hosting_amenity_49                                                            </td><td> NA</td><td> 45</td><td>100</td><td>      NA</td></tr>\n",
       "\t<tr><th scope=row>13159</th><td>28003</td><td>Rios Rosas          </td><td>Apartment  </td><td>Entire home/apt</td><td> 3</td><td>1.0</td><td>1</td><td> 1</td><td>Real Bed     </td><td>TV,Internet,Wireless Internet,Air conditioning,Kitchen,Elevator in building,Buzzer/wireless intercom,Heating,Family/kid friendly,Washer,Fire extinguisher,Essentials,24-hour check-in,Hangers,Hair dryer,Iron,Laptop friendly workspace                                                                              </td><td> NA</td><td> 39</td><td> 94</td><td>      NA</td></tr>\n",
       "\t<tr><th scope=row>13167</th><td>28008</td><td>Argüelles           </td><td>House      </td><td>Entire home/apt</td><td> 3</td><td>1.0</td><td>1</td><td> 2</td><td>Real Bed     </td><td>TV,Internet,Wireless Internet,Air conditioning,Kitchen,Elevator in building,Heating,Washer,Smoke detector,Fire extinguisher,Essentials,Hangers,Hair dryer,Iron,Laptop friendly workspace                                                                                                                             </td><td> NA</td><td>105</td><td> NA</td><td>      NA</td></tr>\n",
       "\t<tr><th scope=row>13168</th><td>28008</td><td>Argüelles           </td><td>House      </td><td>Entire home/apt</td><td> 5</td><td>1.0</td><td>3</td><td> 4</td><td>Real Bed     </td><td>TV,Internet,Wireless Internet,Wheelchair accessible,Kitchen,Smoking allowed,Doorman,Elevator in building,Buzzer/wireless intercom,Heating,Family/kid friendly,Washer,Fire extinguisher,Essentials,Shampoo,24-hour check-in,Hangers,Hair dryer,Iron,Laptop friendly workspace                                         </td><td> NA</td><td>139</td><td> 92</td><td>      NA</td></tr>\n",
       "\t<tr><th scope=row>13169</th><td>28008</td><td>Argüelles           </td><td>Apartment  </td><td>Entire home/apt</td><td> 4</td><td>1.0</td><td>1</td><td> 1</td><td>Real Bed     </td><td>TV,Wireless Internet,Kitchen,Elevator in building,Heating,Family/kid friendly,Washer,Dryer,Essentials,Shampoo,24-hour check-in,Hangers,Hair dryer,Iron,Laptop friendly workspace                                                                                                                                     </td><td> NA</td><td> 61</td><td> 92</td><td>      NA</td></tr>\n",
       "\t<tr><th scope=row>13175</th><td>28003</td><td>Ciudad Universitaria</td><td>Loft       </td><td>Entire home/apt</td><td> 3</td><td>1.0</td><td>1</td><td> 2</td><td>Real Bed     </td><td>TV,Wireless Internet,Kitchen,Breakfast,Elevator in building,Buzzer/wireless intercom,Heating,Family/kid friendly,Washer,Essentials,Shampoo,Hangers,Iron,Laptop friendly workspace                                                                                                                                    </td><td> NA</td><td> 55</td><td>100</td><td>      NA</td></tr>\n",
       "\t<tr><th scope=row>13176</th><td>28038</td><td>Numancia            </td><td>Apartment  </td><td>Entire home/apt</td><td> 6</td><td>1.0</td><td>3</td><td> 4</td><td>Real Bed     </td><td>TV,Internet,Wireless Internet,Air conditioning,Kitchen,Buzzer/wireless intercom,Heating,Family/kid friendly,Washer,First aid kit,Essentials,Shampoo,Hangers,Hair dryer,Iron,Laptop friendly workspace                                                                                                                </td><td> NA</td><td> 65</td><td> 94</td><td>      NA</td></tr>\n",
       "\t<tr><th scope=row>13179</th><td>28023</td><td>Aravaca             </td><td>Condominium</td><td>Entire home/apt</td><td> 3</td><td>1.0</td><td>1</td><td> 3</td><td>Real Bed     </td><td>TV,Internet,Wireless Internet,Pool,Kitchen,Free parking on premises,Doorman,Heating,Family/kid friendly,Washer,Essentials,24-hour check-in,Hangers,Iron,Laptop friendly workspace,Private entrance                                                                                                                   </td><td> NA</td><td> 50</td><td>100</td><td>      NA</td></tr>\n",
       "\t<tr><th scope=row>13183</th><td>28004</td><td>Universidad         </td><td>Other      </td><td>Entire home/apt</td><td> 3</td><td>1.0</td><td>1</td><td> 1</td><td>Real Bed     </td><td>TV,Internet,Wireless Internet,Air conditioning,Kitchen,Smoking allowed,Pets allowed,Elevator in building,Buzzer/wireless intercom,Heating,Family/kid friendly,Washer,Dryer,Fire extinguisher,Essentials,24-hour check-in,Hangers,Hair dryer,Iron                                                                     </td><td> NA</td><td> 43</td><td> 83</td><td>      NA</td></tr>\n",
       "\t<tr><th scope=row>13184</th><td>28004</td><td>Universidad         </td><td>Apartment  </td><td>Entire home/apt</td><td> 3</td><td>1.0</td><td>1</td><td> 1</td><td>Real Bed     </td><td>TV,Internet,Wireless Internet,Kitchen,Buzzer/wireless intercom,Heating,Washer,Dryer,Essentials,Shampoo,24-hour check-in,Hangers,Hair dryer,Iron,Laptop friendly workspace,translation missing: en.hosting_amenity_49,translation missing: en.hosting_amenity_50                                                      </td><td> NA</td><td> 80</td><td> 96</td><td>      NA</td></tr>\n",
       "\t<tr><th scope=row>13185</th><td>28004</td><td>Universidad         </td><td>Apartment  </td><td>Entire home/apt</td><td> 2</td><td>1.0</td><td>1</td><td> 1</td><td>Real Bed     </td><td>TV,Internet,Wireless Internet,Air conditioning,Kitchen,Elevator in building,Heating,Washer,Dryer,First aid kit,Essentials,Hangers,Hair dryer,Iron,translation missing: en.hosting_amenity_49,translation missing: en.hosting_amenity_50                                                                              </td><td> NA</td><td> 80</td><td> 99</td><td>      NA</td></tr>\n",
       "\t<tr><th scope=row>13186</th><td>28015</td><td>Universidad         </td><td>Apartment  </td><td>Entire home/apt</td><td> 4</td><td>1.0</td><td>1</td><td> 2</td><td>Real Bed     </td><td>TV,Internet,Wireless Internet,Air conditioning,Kitchen,Elevator in building,Heating,Family/kid friendly,Washer,Smoke detector,Fire extinguisher,Essentials,Shampoo,Lock on bedroom door,Hangers,Hair dryer,Iron                                                                                                      </td><td> NA</td><td>100</td><td>100</td><td>      NA</td></tr>\n",
       "\t<tr><th scope=row>13187</th><td>28015</td><td>Universidad         </td><td>Apartment  </td><td>Entire home/apt</td><td> 2</td><td>1.0</td><td>1</td><td> 2</td><td>Real Bed     </td><td>TV,Wireless Internet,Air conditioning,Kitchen,Elevator in building,Buzzer/wireless intercom,Heating,Family/kid friendly,Washer                                                                                                                                                                                       </td><td>291</td><td> 50</td><td> 87</td><td>27.03477</td></tr>\n",
       "\t<tr><th scope=row>13188</th><td>28015</td><td>Universidad         </td><td>Apartment  </td><td>Entire home/apt</td><td> 5</td><td>1.0</td><td>2</td><td> 3</td><td>Real Bed     </td><td>TV,Internet,Wireless Internet,Kitchen,Smoking allowed,Elevator in building,Buzzer/wireless intercom,Heating,Family/kid friendly,Washer,First aid kit,Essentials,Shampoo,24-hour check-in,Hangers,Hair dryer,Iron,Laptop friendly workspace                                                                           </td><td> NA</td><td> 85</td><td> 90</td><td>      NA</td></tr>\n",
       "\t<tr><th scope=row>13190</th><td>28015</td><td>Universidad         </td><td>Apartment  </td><td>Entire home/apt</td><td> 4</td><td>1.0</td><td>1</td><td> 2</td><td>Real Bed     </td><td>TV,Wireless Internet,Air conditioning,Kitchen,Smoking allowed,Heating,Family/kid friendly,Washer,Dryer,Smoke detector,First aid kit,Essentials,Shampoo,Hangers,Hair dryer,Iron                                                                                                                                       </td><td> NA</td><td> 60</td><td>100</td><td>      NA</td></tr>\n",
       "\t<tr><th scope=row>13191</th><td>28013</td><td>Universidad         </td><td>Apartment  </td><td>Entire home/apt</td><td> 2</td><td>1.0</td><td>1</td><td> 1</td><td>Real Bed     </td><td>TV,Wireless Internet,Air conditioning,Kitchen,Elevator in building,Heating,Washer,Dryer,Essentials,Shampoo,Hangers,Hair dryer,Iron,Laptop friendly workspace,translation missing: en.hosting_amenity_49,translation missing: en.hosting_amenity_50                                                                   </td><td> NA</td><td>145</td><td> NA</td><td>      NA</td></tr>\n",
       "\t<tr><th scope=row>13192</th><td>28004</td><td>Universidad         </td><td>Apartment  </td><td>Entire home/apt</td><td> 4</td><td>1.0</td><td>1</td><td> 2</td><td>Real Bed     </td><td>TV,Internet,Wireless Internet,Air conditioning,Kitchen,Pets allowed,Indoor fireplace,Buzzer/wireless intercom,Heating,Family/kid friendly,Washer,Smoke detector,Carbon monoxide detector,Essentials,Shampoo,24-hour check-in,Hangers,Hair dryer,Iron,Laptop friendly workspace                                       </td><td> NA</td><td> 62</td><td> 91</td><td>      NA</td></tr>\n",
       "\t<tr><th scope=row>13193</th><td>28004</td><td>Universidad         </td><td>Apartment  </td><td>Entire home/apt</td><td>14</td><td>5.5</td><td>5</td><td>10</td><td>Real Bed     </td><td>TV,Internet,Wireless Internet,Air conditioning,Kitchen,Smoking allowed,Elevator in building,Indoor fireplace,Family/kid friendly,Washer,Dryer,First aid kit,Fire extinguisher,Essentials                                                                                                                             </td><td> NA</td><td>300</td><td> 94</td><td>      NA</td></tr>\n",
       "\t<tr><th scope=row>13195</th><td>28004</td><td>Universidad         </td><td>Apartment  </td><td>Entire home/apt</td><td> 3</td><td>1.0</td><td>1</td><td> 2</td><td>Real Bed     </td><td>TV,Wireless Internet,Kitchen,Buzzer/wireless intercom,Heating,Family/kid friendly,Washer,Smoke detector,Essentials,Shampoo,24-hour check-in,Hangers,Laptop friendly workspace,translation missing: en.hosting_amenity_50                                                                                             </td><td> NA</td><td> 62</td><td> 81</td><td>      NA</td></tr>\n",
       "\t<tr><th scope=row>13198</th><td>28004</td><td>Universidad         </td><td>Apartment  </td><td>Entire home/apt</td><td> 4</td><td>1.0</td><td>2</td><td> 4</td><td>Pull-out Sofa</td><td>TV,Internet,Wireless Internet,Air conditioning,Kitchen,Smoking allowed,Pets allowed,Elevator in building,Heating,Family/kid friendly,Washer,Dryer,Essentials,Shampoo,Hangers,Hair dryer,Iron                                                                                                                         </td><td> NA</td><td> 90</td><td> 90</td><td>      NA</td></tr>\n",
       "\t<tr><th scope=row>13199</th><td>28004</td><td>Universidad         </td><td>Apartment  </td><td>Entire home/apt</td><td> 4</td><td>1.0</td><td>2</td><td> 2</td><td>Real Bed     </td><td>TV,Internet,Wireless Internet,Air conditioning,Kitchen,Smoking allowed,Pets allowed,Buzzer/wireless intercom,Heating,Family/kid friendly,Washer,Dryer,Essentials,Hangers,Hair dryer,Iron                                                                                                                             </td><td> NA</td><td> 70</td><td> 87</td><td>      NA</td></tr>\n",
       "\t<tr><th scope=row>13200</th><td>28004</td><td>Universidad         </td><td>Apartment  </td><td>Entire home/apt</td><td> 2</td><td>1.0</td><td>1</td><td> 1</td><td>Real Bed     </td><td>TV,Internet,Wireless Internet,Air conditioning,Kitchen,Smoking allowed,Pets allowed,Elevator in building,Heating,Family/kid friendly,Washer,First aid kit,Fire extinguisher,Essentials,Lock on bedroom door,Hangers,Hair dryer,Iron                                                                                  </td><td> NA</td><td> 40</td><td> 82</td><td>      NA</td></tr>\n",
       "\t<tr><th scope=row>13201</th><td>28004</td><td>Universidad         </td><td>Loft       </td><td>Entire home/apt</td><td> 2</td><td>1.0</td><td>1</td><td> 2</td><td>Real Bed     </td><td>Internet,Wireless Internet,Smoking allowed,Breakfast,Elevator in building,Heating,Shampoo,Hangers,Hair dryer,Iron,Laptop friendly workspace,translation missing: en.hosting_amenity_49,translation missing: en.hosting_amenity_50                                                                                    </td><td> NA</td><td> 30</td><td> NA</td><td>      NA</td></tr>\n",
       "\t<tr><th scope=row>13202</th><td>28004</td><td>Universidad         </td><td>Apartment  </td><td>Entire home/apt</td><td> 4</td><td>1.0</td><td>1</td><td> 2</td><td>Real Bed     </td><td>TV,Wireless Internet,Air conditioning,Kitchen,Smoking allowed,Pets allowed,Heating,Family/kid friendly,Washer,Fire extinguisher,Essentials,Lock on bedroom door,Hangers,Hair dryer,Iron                                                                                                                              </td><td> NA</td><td> 48</td><td> 83</td><td>      NA</td></tr>\n",
       "\t<tr><th scope=row>13203</th><td>28015</td><td>Universidad         </td><td>Apartment  </td><td>Entire home/apt</td><td> 2</td><td>1.0</td><td>1</td><td> 1</td><td>Real Bed     </td><td>TV,Internet,Wireless Internet,Air conditioning,Kitchen,Elevator in building,Buzzer/wireless intercom,Heating,Washer,Dryer,Smoke detector,Fire extinguisher,Essentials,Shampoo,Hangers,Hair dryer,Iron,Laptop friendly workspace,translation missing: en.hosting_amenity_49,translation missing: en.hosting_amenity_50</td><td> NA</td><td> 35</td><td> 90</td><td>      NA</td></tr>\n",
       "\t<tr><th scope=row>13204</th><td>28004</td><td>Universidad         </td><td>Apartment  </td><td>Entire home/apt</td><td> 3</td><td>1.0</td><td>1</td><td> 2</td><td>Real Bed     </td><td>TV,Wireless Internet,Air conditioning,Kitchen,Elevator in building,Buzzer/wireless intercom,Heating,Family/kid friendly,Washer,Dryer,Smoke detector,Carbon monoxide detector,Fire extinguisher,Essentials,Shampoo,24-hour check-in,Hangers,Hair dryer,Iron,Laptop friendly workspace                                 </td><td> NA</td><td> 79</td><td> 97</td><td>      NA</td></tr>\n",
       "\t<tr><th scope=row>13205</th><td>28013</td><td>Universidad         </td><td>Apartment  </td><td>Entire home/apt</td><td> 4</td><td>1.0</td><td>1</td><td> 1</td><td>Real Bed     </td><td>TV,Wireless Internet,Air conditioning,Pool,Kitchen,Doorman,Gym,Elevator in building,Buzzer/wireless intercom,Heating,Washer,First aid kit,Safety card,Essentials,Shampoo,Hangers,Hair dryer,Iron,Laptop friendly workspace                                                                                           </td><td> NA</td><td>150</td><td>100</td><td>      NA</td></tr>\n",
       "\t<tr><th scope=row>13206</th><td>28004</td><td>Universidad         </td><td>Loft       </td><td>Entire home/apt</td><td> 2</td><td>1.0</td><td>0</td><td> 1</td><td>Real Bed     </td><td>TV,Internet,Wireless Internet,Kitchen,Smoking allowed,Pets allowed,Elevator in building,Heating,Family/kid friendly,Washer,First aid kit,Essentials,Shampoo                                                                                                                                                          </td><td> NA</td><td> 80</td><td> 91</td><td>      NA</td></tr>\n",
       "\t<tr><th scope=row>13207</th><td>28004</td><td>Universidad         </td><td>Apartment  </td><td>Entire home/apt</td><td> 3</td><td>1.0</td><td>0</td><td> 2</td><td>Real Bed     </td><td>TV,Internet,Wireless Internet,Air conditioning,Kitchen,Heating,Family/kid friendly,Washer                                                                                                                                                                                                                            </td><td> NA</td><td> 69</td><td> 80</td><td>      NA</td></tr>\n",
       "</tbody>\n",
       "</table>\n"
      ],
      "text/latex": [
       "A data.frame: 7903 × 14\n",
       "\\begin{tabular}{r|llllllllllllll}\n",
       "  & CodigoPostal & Barrio & TipoPropiedad & TipoAlquiler & MaxOcupantes & NumBanyos & NumDormitorios & NumCamas & TipoCama & Comodidades & PiesCuadrados & Precio & Puntuacion & MetrosCuadrados\\\\\n",
       "  & <dbl> & <fct> & <fct> & <fct> & <int> & <dbl> & <int> & <int> & <fct> & <fct> & <int> & <int> & <int> & <dbl>\\\\\n",
       "\\hline\n",
       "\t2 & 28004 & Universidad & Apartment   & Entire home/apt &  6 & 1 & 3 &  5 & Real Bed      & TV,Internet,Wireless Internet,Air conditioning,Kitchen,Indoor fireplace,Heating,Family/kid friendly,Washer,Dryer,Smoke detector,Carbon monoxide detector,Essentials,Shampoo                                                                                                                                                                                      &  NA &  92 &  96 &       NA\\\\\n",
       "\t3 & 28004 & Universidad & Apartment   & Entire home/apt &  3 & 1 & 2 &  2 & Real Bed      & TV,Internet,Wireless Internet,Air conditioning,Kitchen,Doorman,Heating,Family/kid friendly,Washer,Essentials,Shampoo,Hangers,Hair dryer,Iron,Laptop friendly workspace                                                                                                                                                                                           &  NA &  55 &  91 &       NA\\\\\n",
       "\t4 & 28004 & Universidad & Loft        & Entire home/apt &  3 & 2 & 1 &  1 & Real Bed      & TV,Internet,Wireless Internet,Air conditioning,Kitchen,Pets allowed,Breakfast,Elevator in building,Indoor fireplace,Buzzer/wireless intercom,Heating,Washer,Essentials,Shampoo,Hangers,Hair dryer,Iron,Laptop friendly workspace,translation missing: en.hosting\\_amenity\\_49,translation missing: en.hosting\\_amenity\\_50                                           &  NA &  60 & 100 &       NA\\\\\n",
       "\t5 & 28015 & Universidad & Apartment   & Entire home/apt &  5 & 1 & 1 &  1 & Real Bed      & TV,Wireless Internet,Air conditioning,Kitchen,Smoking allowed,Pets allowed,Elevator in building,Heating,Family/kid friendly,Washer,Essentials,Iron                                                                                                                                                                                                               & 538 &  75 &  90 & 49.98181\\\\\n",
       "\t6 & 28004 & Universidad & Apartment   & Entire home/apt &  2 & 1 & 0 &  1 & Real Bed      & TV,Cable TV,Internet,Wireless Internet,Air conditioning,Wheelchair accessible,Kitchen,Doorman,Elevator in building,Buzzer/wireless intercom,Heating,Washer,Smoke detector,Carbon monoxide detector,First aid kit,Safety card,Fire extinguisher,Essentials,Shampoo,24-hour check-in,Hangers,Hair dryer,Iron,Laptop friendly workspace,Self Check-In,Doorman Entry &  NA &  55 &  95 &       NA\\\\\n",
       "\t8 & 28004 & Universidad & Apartment   & Entire home/apt &  3 & 1 & 1 & NA & Real Bed      & TV,Wireless Internet,Air conditioning,Kitchen,Elevator in building,Buzzer/wireless intercom,Heating,Washer                                                                                                                                                                                                                                                       &  NA &  70 &  84 &       NA\\\\\n",
       "\t9 & 28015 & Universidad & Apartment   & Entire home/apt &  2 & 1 & 1 &  1 & Real Bed      & TV,Internet,Wireless Internet,Kitchen,Elevator in building,Buzzer/wireless intercom,Heating,Family/kid friendly,Washer,Dryer,Essentials,Shampoo,translation missing: en.hosting\\_amenity\\_49                                                                                                                                                                       & 700 &  90 &  98 & 65.03210\\\\\n",
       "\t10 & 28004 & Universidad & Apartment   & Entire home/apt &  4 & 2 & 2 &  2 & Real Bed      & TV,Wireless Internet,Air conditioning,Kitchen,Elevator in building,Hot tub,Heating,Family/kid friendly,Washer,Dryer,Essentials,Hair dryer,Iron                                                                                                                                                                                                                   &  NA & 155 &  NA &       NA\\\\\n",
       "\t11 & 28004 & Universidad & Apartment   & Entire home/apt &  4 & 1 & 1 &  2 & Real Bed      & TV,Wireless Internet,Air conditioning,Wheelchair accessible,Kitchen,Elevator in building,Buzzer/wireless intercom,Heating,Family/kid friendly,Washer,Essentials,Shampoo                                                                                                                                                                                          &  40 &  70 &  90 &  3.71612\\\\\n",
       "\t15 & 28013 & Sol         & Apartment   & Entire home/apt &  4 & 1 & 1 &  1 & Real Bed      & TV,Wireless Internet,Air conditioning,Kitchen,Doorman,Elevator in building,Buzzer/wireless intercom,Heating,Family/kid friendly,Suitable for events,Washer,Essentials,Hangers,Hair dryer,Iron                                                                                                                                                                    & 646 &  75 &  91 & 60.01534\\\\\n",
       "\t16 & 28013 & Sol         & Condominium & Entire home/apt &  6 & 1 & 2 &  3 & Real Bed      & TV,Wireless Internet,Air conditioning,Kitchen,Doorman,Elevator in building,Buzzer/wireless intercom,Heating,Family/kid friendly,Washer,Dryer,Essentials,Shampoo,Hangers,Hair dryer,Iron                                                                                                                                                                          &  NA & 130 & 100 &       NA\\\\\n",
       "\t17 & 28013 & Sol         & Apartment   & Entire home/apt &  4 & 1 & 1 &  2 & Real Bed      & TV,Internet,Wireless Internet,Air conditioning,Kitchen,Doorman,Elevator in building,Buzzer/wireless intercom,Heating,Family/kid friendly,Washer,Smoke detector,Carbon monoxide detector,First aid kit,Safety card,Fire extinguisher,Essentials,Shampoo,24-hour check-in,Hangers,Hair dryer,Iron,Laptop friendly workspace                                        &  NA & 100 &  97 &       NA\\\\\n",
       "\t18 & 28012 & Sol         & Apartment   & Entire home/apt &  6 & 1 & 2 &  2 & Real Bed      & TV,Internet,Wireless Internet,Air conditioning,Kitchen,Smoking allowed,Elevator in building,Buzzer/wireless intercom,Heating,Family/kid friendly,Washer,Dryer,Essentials,Shampoo,Hangers,Hair dryer,Iron,Laptop friendly workspace                                                                                                                               &  NA & 160 &  95 &       NA\\\\\n",
       "\t19 & 28013 & Sol         & Apartment   & Entire home/apt &  4 & 1 & 1 &  2 & Real Bed      & TV,Internet,Wireless Internet,Air conditioning,Kitchen,Heating,Washer,Essentials,Hangers,Hair dryer,translation missing: en.hosting\\_amenity\\_50                                                                                                                                                                                                                   &  NA &  49 &  95 &       NA\\\\\n",
       "\t21 & 28013 & Sol         & Apartment   & Entire home/apt &  4 & 1 & 1 &  2 & Real Bed      & TV,Wireless Internet,Kitchen,Pets allowed,Elevator in building,Heating,Family/kid friendly,Washer,Essentials,Shampoo,Hangers,Hair dryer,Laptop friendly workspace                                                                                                                                                                                                &  NA &  70 &  88 &       NA\\\\\n",
       "\t22 & 28005 & Sol         & Apartment   & Entire home/apt & 10 & 2 & 4 &  7 & Real Bed      & TV,Internet,Wireless Internet,Air conditioning,Kitchen,Heating,Family/kid friendly,Washer,Essentials                                                                                                                                                                                                                                                             &  NA & 210 &  81 &       NA\\\\\n",
       "\t23 & 28013 & Sol         & Apartment   & Entire home/apt &  6 & 1 & 2 &  4 & Real Bed      & TV,Internet,Wireless Internet,Air conditioning,Kitchen,Smoking allowed,Pets allowed,Doorman,Elevator in building,Buzzer/wireless intercom,Heating,Family/kid friendly,Washer,First aid kit,Safety card,Essentials,Shampoo,Hangers,Hair dryer,Iron                                                                                                                &  NA & 120 &  99 &       NA\\\\\n",
       "\t24 & 28012 & Sol         & Apartment   & Entire home/apt &  4 & 1 & 1 &  2 & Real Bed      & TV,Internet,Wireless Internet,Air conditioning,Kitchen,Elevator in building,Heating,Family/kid friendly,Washer,Smoke detector,Carbon monoxide detector,Essentials,Shampoo,24-hour check-in,Hangers,Hair dryer,Iron,Laptop friendly workspace                                                                                                                     &  NA &  50 &  91 &       NA\\\\\n",
       "\t25 & 28012 & Sol         & Apartment   & Entire home/apt &  4 & 1 & 1 &  1 & Real Bed      & TV,Cable TV,Internet,Wireless Internet,Air conditioning,Kitchen,Elevator in building,Buzzer/wireless intercom,Heating,Family/kid friendly,Washer,Essentials,Hair dryer,Iron                                                                                                                                                                                      & 753 & 100 &  87 & 69.95596\\\\\n",
       "\t26 & 28013 & Sol         & Apartment   & Entire home/apt &  4 & 1 & 1 &  2 & Real Bed      & TV,Internet,Wireless Internet,Air conditioning,Kitchen,Breakfast,Elevator in building,Heating,Family/kid friendly,Washer,First aid kit,Fire extinguisher,Essentials,Shampoo,Hangers,Hair dryer,Iron,Laptop friendly workspace                                                                                                                                    &  NA &  75 & 100 &       NA\\\\\n",
       "\t27 & 28014 & Sol         & Condominium & Entire home/apt &  8 & 2 & 2 &  5 & Real Bed      & TV,Internet,Wireless Internet,Air conditioning,Wheelchair accessible,Kitchen,Doorman,Elevator in building,Buzzer/wireless intercom,Heating,Family/kid friendly,Washer,Smoke detector,Carbon monoxide detector,Essentials,Shampoo,24-hour check-in,Hangers,Hair dryer,Iron,Laptop friendly workspace                                                              &  NA & 155 &  93 &       NA\\\\\n",
       "\t28 & 28013 & Sol         & Apartment   & Entire home/apt &  6 & 2 & 2 &  3 & Real Bed      & TV,Internet,Wireless Internet,Air conditioning,Wheelchair accessible,Kitchen,Doorman,Elevator in building,Buzzer/wireless intercom,Heating,Family/kid friendly,Washer,Dryer,Essentials,Hangers,Hair dryer,Iron                                                                                                                                                   &  NA & 155 &  80 &       NA\\\\\n",
       "\t30 & 28005 & Sol         & Apartment   & Entire home/apt &  8 & 1 & 3 &  4 & Real Bed      & TV,Internet,Wireless Internet,Kitchen,Breakfast,Elevator in building,Buzzer/wireless intercom,Heating,Family/kid friendly,Washer,Essentials,Shampoo,Hangers,Hair dryer,Iron,Laptop friendly workspace,Self Check-In,Lockbox                                                                                                                                      &  NA & 163 & 100 &       NA\\\\\n",
       "\t31 & 28005 & Imperial    & Apartment   & Entire home/apt &  3 & 1 & 1 &  1 & Real Bed      & TV,Internet,Wireless Internet,Kitchen,Pets allowed,Elevator in building,Heating,Family/kid friendly,Washer,Fire extinguisher,Essentials,Shampoo,Hangers,Hair dryer,Iron,Laptop friendly workspace,translation missing: en.hosting\\_amenity\\_50                                                                                                                     &  NA &  70 &  95 &       NA\\\\\n",
       "\t32 & 28005 & Imperial    & Apartment   & Entire home/apt &  3 & 1 & 2 &  2 & Real Bed      & TV,Wireless Internet,Kitchen,Heating,Family/kid friendly,Washer,Essentials,Hair dryer,translation missing: en.hosting\\_amenity\\_50                                                                                                                                                                                                                                 &  NA &  49 &  88 &       NA\\\\\n",
       "\t36 & 28005 & Acacias     & House       & Entire home/apt &  4 & 2 & 2 &  4 & Real Bed      & TV,Wireless Internet,Air conditioning,Wheelchair accessible,Kitchen,Doorman,Elevator in building,Buzzer/wireless intercom,Heating,Washer,Essentials,Shampoo,Hangers,Hair dryer,Iron,Laptop friendly workspace                                                                                                                                                    &  NA &  90 &  92 &       NA\\\\\n",
       "\t43 & 28013 & Sol         & Apartment   & Entire home/apt &  4 & 1 & 1 &  1 & Pull-out Sofa & TV,Internet,Wireless Internet,Air conditioning,Kitchen,Elevator in building,Buzzer/wireless intercom,Heating,Family/kid friendly,Washer,Smoke detector,Carbon monoxide detector,First aid kit,Essentials,Shampoo,24-hour check-in,Hangers,Hair dryer,Iron,Laptop friendly workspace,translation missing: en.hosting\\_amenity\\_50                                   &  NA &  64 &  97 &       NA\\\\\n",
       "\t44 & 28013 & Sol         & Apartment   & Entire home/apt &  6 & 2 & 2 &  2 & Real Bed      & TV,Wireless Internet,Air conditioning,Kitchen,Elevator in building,Heating,Washer,Essentials,Shampoo                                                                                                                                                                                                                                                             &  NA & 109 &  90 &       NA\\\\\n",
       "\t45 & 28013 & Sol         & Apartment   & Entire home/apt &  3 & 1 & 1 &  2 & Real Bed      & TV,Internet,Wireless Internet,Air conditioning,Kitchen,Smoking allowed,Elevator in building,Buzzer/wireless intercom,Heating,Family/kid friendly,Washer,Fire extinguisher,Essentials,Shampoo,Hangers,Hair dryer,Iron                                                                                                                                             &  NA &  67 &  95 &       NA\\\\\n",
       "\t46 & 28013 & Sol         & Apartment   & Entire home/apt &  2 & 1 & 1 &  1 & Real Bed      & TV,Internet,Wireless Internet,Air conditioning,Kitchen,Elevator in building,Buzzer/wireless intercom,Heating,Family/kid friendly,Washer,First aid kit,Essentials,Shampoo,Hair dryer,Iron                                                                                                                                                                         & 269 &  65 &  93 & 24.99091\\\\\n",
       "\t⋮ & ⋮ & ⋮ & ⋮ & ⋮ & ⋮ & ⋮ & ⋮ & ⋮ & ⋮ & ⋮ & ⋮ & ⋮ & ⋮ & ⋮\\\\\n",
       "\t13157 & 28010 & Almagro              & Apartment   & Entire home/apt &  2 & 1.0 & 0 &  1 & Pull-out Sofa & TV,Wireless Internet,Kitchen,Buzzer/wireless intercom,Heating,Essentials,Hangers,Iron,translation missing: en.hosting\\_amenity\\_49,translation missing: en.hosting\\_amenity\\_50                                                                                                                                           &  NA &  30 &  83 &       NA\\\\\n",
       "\t13158 & 28010 & Almagro              & Apartment   & Entire home/apt &  2 & 1.0 & 1 &  1 & Real Bed      & TV,Internet,Wireless Internet,Air conditioning,Kitchen,Pets allowed,Doorman,Elevator in building,Buzzer/wireless intercom,Heating,Family/kid friendly,Washer,Essentials,Hangers,Iron,Laptop friendly workspace,translation missing: en.hosting\\_amenity\\_49                                                             &  NA &  45 & 100 &       NA\\\\\n",
       "\t13159 & 28003 & Rios Rosas           & Apartment   & Entire home/apt &  3 & 1.0 & 1 &  1 & Real Bed      & TV,Internet,Wireless Internet,Air conditioning,Kitchen,Elevator in building,Buzzer/wireless intercom,Heating,Family/kid friendly,Washer,Fire extinguisher,Essentials,24-hour check-in,Hangers,Hair dryer,Iron,Laptop friendly workspace                                                                               &  NA &  39 &  94 &       NA\\\\\n",
       "\t13167 & 28008 & Argüelles            & House       & Entire home/apt &  3 & 1.0 & 1 &  2 & Real Bed      & TV,Internet,Wireless Internet,Air conditioning,Kitchen,Elevator in building,Heating,Washer,Smoke detector,Fire extinguisher,Essentials,Hangers,Hair dryer,Iron,Laptop friendly workspace                                                                                                                              &  NA & 105 &  NA &       NA\\\\\n",
       "\t13168 & 28008 & Argüelles            & House       & Entire home/apt &  5 & 1.0 & 3 &  4 & Real Bed      & TV,Internet,Wireless Internet,Wheelchair accessible,Kitchen,Smoking allowed,Doorman,Elevator in building,Buzzer/wireless intercom,Heating,Family/kid friendly,Washer,Fire extinguisher,Essentials,Shampoo,24-hour check-in,Hangers,Hair dryer,Iron,Laptop friendly workspace                                          &  NA & 139 &  92 &       NA\\\\\n",
       "\t13169 & 28008 & Argüelles            & Apartment   & Entire home/apt &  4 & 1.0 & 1 &  1 & Real Bed      & TV,Wireless Internet,Kitchen,Elevator in building,Heating,Family/kid friendly,Washer,Dryer,Essentials,Shampoo,24-hour check-in,Hangers,Hair dryer,Iron,Laptop friendly workspace                                                                                                                                      &  NA &  61 &  92 &       NA\\\\\n",
       "\t13175 & 28003 & Ciudad Universitaria & Loft        & Entire home/apt &  3 & 1.0 & 1 &  2 & Real Bed      & TV,Wireless Internet,Kitchen,Breakfast,Elevator in building,Buzzer/wireless intercom,Heating,Family/kid friendly,Washer,Essentials,Shampoo,Hangers,Iron,Laptop friendly workspace                                                                                                                                     &  NA &  55 & 100 &       NA\\\\\n",
       "\t13176 & 28038 & Numancia             & Apartment   & Entire home/apt &  6 & 1.0 & 3 &  4 & Real Bed      & TV,Internet,Wireless Internet,Air conditioning,Kitchen,Buzzer/wireless intercom,Heating,Family/kid friendly,Washer,First aid kit,Essentials,Shampoo,Hangers,Hair dryer,Iron,Laptop friendly workspace                                                                                                                 &  NA &  65 &  94 &       NA\\\\\n",
       "\t13179 & 28023 & Aravaca              & Condominium & Entire home/apt &  3 & 1.0 & 1 &  3 & Real Bed      & TV,Internet,Wireless Internet,Pool,Kitchen,Free parking on premises,Doorman,Heating,Family/kid friendly,Washer,Essentials,24-hour check-in,Hangers,Iron,Laptop friendly workspace,Private entrance                                                                                                                    &  NA &  50 & 100 &       NA\\\\\n",
       "\t13183 & 28004 & Universidad          & Other       & Entire home/apt &  3 & 1.0 & 1 &  1 & Real Bed      & TV,Internet,Wireless Internet,Air conditioning,Kitchen,Smoking allowed,Pets allowed,Elevator in building,Buzzer/wireless intercom,Heating,Family/kid friendly,Washer,Dryer,Fire extinguisher,Essentials,24-hour check-in,Hangers,Hair dryer,Iron                                                                      &  NA &  43 &  83 &       NA\\\\\n",
       "\t13184 & 28004 & Universidad          & Apartment   & Entire home/apt &  3 & 1.0 & 1 &  1 & Real Bed      & TV,Internet,Wireless Internet,Kitchen,Buzzer/wireless intercom,Heating,Washer,Dryer,Essentials,Shampoo,24-hour check-in,Hangers,Hair dryer,Iron,Laptop friendly workspace,translation missing: en.hosting\\_amenity\\_49,translation missing: en.hosting\\_amenity\\_50                                                       &  NA &  80 &  96 &       NA\\\\\n",
       "\t13185 & 28004 & Universidad          & Apartment   & Entire home/apt &  2 & 1.0 & 1 &  1 & Real Bed      & TV,Internet,Wireless Internet,Air conditioning,Kitchen,Elevator in building,Heating,Washer,Dryer,First aid kit,Essentials,Hangers,Hair dryer,Iron,translation missing: en.hosting\\_amenity\\_49,translation missing: en.hosting\\_amenity\\_50                                                                               &  NA &  80 &  99 &       NA\\\\\n",
       "\t13186 & 28015 & Universidad          & Apartment   & Entire home/apt &  4 & 1.0 & 1 &  2 & Real Bed      & TV,Internet,Wireless Internet,Air conditioning,Kitchen,Elevator in building,Heating,Family/kid friendly,Washer,Smoke detector,Fire extinguisher,Essentials,Shampoo,Lock on bedroom door,Hangers,Hair dryer,Iron                                                                                                       &  NA & 100 & 100 &       NA\\\\\n",
       "\t13187 & 28015 & Universidad          & Apartment   & Entire home/apt &  2 & 1.0 & 1 &  2 & Real Bed      & TV,Wireless Internet,Air conditioning,Kitchen,Elevator in building,Buzzer/wireless intercom,Heating,Family/kid friendly,Washer                                                                                                                                                                                        & 291 &  50 &  87 & 27.03477\\\\\n",
       "\t13188 & 28015 & Universidad          & Apartment   & Entire home/apt &  5 & 1.0 & 2 &  3 & Real Bed      & TV,Internet,Wireless Internet,Kitchen,Smoking allowed,Elevator in building,Buzzer/wireless intercom,Heating,Family/kid friendly,Washer,First aid kit,Essentials,Shampoo,24-hour check-in,Hangers,Hair dryer,Iron,Laptop friendly workspace                                                                            &  NA &  85 &  90 &       NA\\\\\n",
       "\t13190 & 28015 & Universidad          & Apartment   & Entire home/apt &  4 & 1.0 & 1 &  2 & Real Bed      & TV,Wireless Internet,Air conditioning,Kitchen,Smoking allowed,Heating,Family/kid friendly,Washer,Dryer,Smoke detector,First aid kit,Essentials,Shampoo,Hangers,Hair dryer,Iron                                                                                                                                        &  NA &  60 & 100 &       NA\\\\\n",
       "\t13191 & 28013 & Universidad          & Apartment   & Entire home/apt &  2 & 1.0 & 1 &  1 & Real Bed      & TV,Wireless Internet,Air conditioning,Kitchen,Elevator in building,Heating,Washer,Dryer,Essentials,Shampoo,Hangers,Hair dryer,Iron,Laptop friendly workspace,translation missing: en.hosting\\_amenity\\_49,translation missing: en.hosting\\_amenity\\_50                                                                    &  NA & 145 &  NA &       NA\\\\\n",
       "\t13192 & 28004 & Universidad          & Apartment   & Entire home/apt &  4 & 1.0 & 1 &  2 & Real Bed      & TV,Internet,Wireless Internet,Air conditioning,Kitchen,Pets allowed,Indoor fireplace,Buzzer/wireless intercom,Heating,Family/kid friendly,Washer,Smoke detector,Carbon monoxide detector,Essentials,Shampoo,24-hour check-in,Hangers,Hair dryer,Iron,Laptop friendly workspace                                        &  NA &  62 &  91 &       NA\\\\\n",
       "\t13193 & 28004 & Universidad          & Apartment   & Entire home/apt & 14 & 5.5 & 5 & 10 & Real Bed      & TV,Internet,Wireless Internet,Air conditioning,Kitchen,Smoking allowed,Elevator in building,Indoor fireplace,Family/kid friendly,Washer,Dryer,First aid kit,Fire extinguisher,Essentials                                                                                                                              &  NA & 300 &  94 &       NA\\\\\n",
       "\t13195 & 28004 & Universidad          & Apartment   & Entire home/apt &  3 & 1.0 & 1 &  2 & Real Bed      & TV,Wireless Internet,Kitchen,Buzzer/wireless intercom,Heating,Family/kid friendly,Washer,Smoke detector,Essentials,Shampoo,24-hour check-in,Hangers,Laptop friendly workspace,translation missing: en.hosting\\_amenity\\_50                                                                                              &  NA &  62 &  81 &       NA\\\\\n",
       "\t13198 & 28004 & Universidad          & Apartment   & Entire home/apt &  4 & 1.0 & 2 &  4 & Pull-out Sofa & TV,Internet,Wireless Internet,Air conditioning,Kitchen,Smoking allowed,Pets allowed,Elevator in building,Heating,Family/kid friendly,Washer,Dryer,Essentials,Shampoo,Hangers,Hair dryer,Iron                                                                                                                          &  NA &  90 &  90 &       NA\\\\\n",
       "\t13199 & 28004 & Universidad          & Apartment   & Entire home/apt &  4 & 1.0 & 2 &  2 & Real Bed      & TV,Internet,Wireless Internet,Air conditioning,Kitchen,Smoking allowed,Pets allowed,Buzzer/wireless intercom,Heating,Family/kid friendly,Washer,Dryer,Essentials,Hangers,Hair dryer,Iron                                                                                                                              &  NA &  70 &  87 &       NA\\\\\n",
       "\t13200 & 28004 & Universidad          & Apartment   & Entire home/apt &  2 & 1.0 & 1 &  1 & Real Bed      & TV,Internet,Wireless Internet,Air conditioning,Kitchen,Smoking allowed,Pets allowed,Elevator in building,Heating,Family/kid friendly,Washer,First aid kit,Fire extinguisher,Essentials,Lock on bedroom door,Hangers,Hair dryer,Iron                                                                                   &  NA &  40 &  82 &       NA\\\\\n",
       "\t13201 & 28004 & Universidad          & Loft        & Entire home/apt &  2 & 1.0 & 1 &  2 & Real Bed      & Internet,Wireless Internet,Smoking allowed,Breakfast,Elevator in building,Heating,Shampoo,Hangers,Hair dryer,Iron,Laptop friendly workspace,translation missing: en.hosting\\_amenity\\_49,translation missing: en.hosting\\_amenity\\_50                                                                                     &  NA &  30 &  NA &       NA\\\\\n",
       "\t13202 & 28004 & Universidad          & Apartment   & Entire home/apt &  4 & 1.0 & 1 &  2 & Real Bed      & TV,Wireless Internet,Air conditioning,Kitchen,Smoking allowed,Pets allowed,Heating,Family/kid friendly,Washer,Fire extinguisher,Essentials,Lock on bedroom door,Hangers,Hair dryer,Iron                                                                                                                               &  NA &  48 &  83 &       NA\\\\\n",
       "\t13203 & 28015 & Universidad          & Apartment   & Entire home/apt &  2 & 1.0 & 1 &  1 & Real Bed      & TV,Internet,Wireless Internet,Air conditioning,Kitchen,Elevator in building,Buzzer/wireless intercom,Heating,Washer,Dryer,Smoke detector,Fire extinguisher,Essentials,Shampoo,Hangers,Hair dryer,Iron,Laptop friendly workspace,translation missing: en.hosting\\_amenity\\_49,translation missing: en.hosting\\_amenity\\_50 &  NA &  35 &  90 &       NA\\\\\n",
       "\t13204 & 28004 & Universidad          & Apartment   & Entire home/apt &  3 & 1.0 & 1 &  2 & Real Bed      & TV,Wireless Internet,Air conditioning,Kitchen,Elevator in building,Buzzer/wireless intercom,Heating,Family/kid friendly,Washer,Dryer,Smoke detector,Carbon monoxide detector,Fire extinguisher,Essentials,Shampoo,24-hour check-in,Hangers,Hair dryer,Iron,Laptop friendly workspace                                  &  NA &  79 &  97 &       NA\\\\\n",
       "\t13205 & 28013 & Universidad          & Apartment   & Entire home/apt &  4 & 1.0 & 1 &  1 & Real Bed      & TV,Wireless Internet,Air conditioning,Pool,Kitchen,Doorman,Gym,Elevator in building,Buzzer/wireless intercom,Heating,Washer,First aid kit,Safety card,Essentials,Shampoo,Hangers,Hair dryer,Iron,Laptop friendly workspace                                                                                            &  NA & 150 & 100 &       NA\\\\\n",
       "\t13206 & 28004 & Universidad          & Loft        & Entire home/apt &  2 & 1.0 & 0 &  1 & Real Bed      & TV,Internet,Wireless Internet,Kitchen,Smoking allowed,Pets allowed,Elevator in building,Heating,Family/kid friendly,Washer,First aid kit,Essentials,Shampoo                                                                                                                                                           &  NA &  80 &  91 &       NA\\\\\n",
       "\t13207 & 28004 & Universidad          & Apartment   & Entire home/apt &  3 & 1.0 & 0 &  2 & Real Bed      & TV,Internet,Wireless Internet,Air conditioning,Kitchen,Heating,Family/kid friendly,Washer                                                                                                                                                                                                                             &  NA &  69 &  80 &       NA\\\\\n",
       "\\end{tabular}\n"
      ],
      "text/markdown": [
       "\n",
       "A data.frame: 7903 × 14\n",
       "\n",
       "| <!--/--> | CodigoPostal &lt;dbl&gt; | Barrio &lt;fct&gt; | TipoPropiedad &lt;fct&gt; | TipoAlquiler &lt;fct&gt; | MaxOcupantes &lt;int&gt; | NumBanyos &lt;dbl&gt; | NumDormitorios &lt;int&gt; | NumCamas &lt;int&gt; | TipoCama &lt;fct&gt; | Comodidades &lt;fct&gt; | PiesCuadrados &lt;int&gt; | Precio &lt;int&gt; | Puntuacion &lt;int&gt; | MetrosCuadrados &lt;dbl&gt; |\n",
       "|---|---|---|---|---|---|---|---|---|---|---|---|---|---|---|\n",
       "| 2 | 28004 | Universidad | Apartment   | Entire home/apt |  6 | 1 | 3 |  5 | Real Bed      | TV,Internet,Wireless Internet,Air conditioning,Kitchen,Indoor fireplace,Heating,Family/kid friendly,Washer,Dryer,Smoke detector,Carbon monoxide detector,Essentials,Shampoo                                                                                                                                                                                      |  NA |  92 |  96 |       NA |\n",
       "| 3 | 28004 | Universidad | Apartment   | Entire home/apt |  3 | 1 | 2 |  2 | Real Bed      | TV,Internet,Wireless Internet,Air conditioning,Kitchen,Doorman,Heating,Family/kid friendly,Washer,Essentials,Shampoo,Hangers,Hair dryer,Iron,Laptop friendly workspace                                                                                                                                                                                           |  NA |  55 |  91 |       NA |\n",
       "| 4 | 28004 | Universidad | Loft        | Entire home/apt |  3 | 2 | 1 |  1 | Real Bed      | TV,Internet,Wireless Internet,Air conditioning,Kitchen,Pets allowed,Breakfast,Elevator in building,Indoor fireplace,Buzzer/wireless intercom,Heating,Washer,Essentials,Shampoo,Hangers,Hair dryer,Iron,Laptop friendly workspace,translation missing: en.hosting_amenity_49,translation missing: en.hosting_amenity_50                                           |  NA |  60 | 100 |       NA |\n",
       "| 5 | 28015 | Universidad | Apartment   | Entire home/apt |  5 | 1 | 1 |  1 | Real Bed      | TV,Wireless Internet,Air conditioning,Kitchen,Smoking allowed,Pets allowed,Elevator in building,Heating,Family/kid friendly,Washer,Essentials,Iron                                                                                                                                                                                                               | 538 |  75 |  90 | 49.98181 |\n",
       "| 6 | 28004 | Universidad | Apartment   | Entire home/apt |  2 | 1 | 0 |  1 | Real Bed      | TV,Cable TV,Internet,Wireless Internet,Air conditioning,Wheelchair accessible,Kitchen,Doorman,Elevator in building,Buzzer/wireless intercom,Heating,Washer,Smoke detector,Carbon monoxide detector,First aid kit,Safety card,Fire extinguisher,Essentials,Shampoo,24-hour check-in,Hangers,Hair dryer,Iron,Laptop friendly workspace,Self Check-In,Doorman Entry |  NA |  55 |  95 |       NA |\n",
       "| 8 | 28004 | Universidad | Apartment   | Entire home/apt |  3 | 1 | 1 | NA | Real Bed      | TV,Wireless Internet,Air conditioning,Kitchen,Elevator in building,Buzzer/wireless intercom,Heating,Washer                                                                                                                                                                                                                                                       |  NA |  70 |  84 |       NA |\n",
       "| 9 | 28015 | Universidad | Apartment   | Entire home/apt |  2 | 1 | 1 |  1 | Real Bed      | TV,Internet,Wireless Internet,Kitchen,Elevator in building,Buzzer/wireless intercom,Heating,Family/kid friendly,Washer,Dryer,Essentials,Shampoo,translation missing: en.hosting_amenity_49                                                                                                                                                                       | 700 |  90 |  98 | 65.03210 |\n",
       "| 10 | 28004 | Universidad | Apartment   | Entire home/apt |  4 | 2 | 2 |  2 | Real Bed      | TV,Wireless Internet,Air conditioning,Kitchen,Elevator in building,Hot tub,Heating,Family/kid friendly,Washer,Dryer,Essentials,Hair dryer,Iron                                                                                                                                                                                                                   |  NA | 155 |  NA |       NA |\n",
       "| 11 | 28004 | Universidad | Apartment   | Entire home/apt |  4 | 1 | 1 |  2 | Real Bed      | TV,Wireless Internet,Air conditioning,Wheelchair accessible,Kitchen,Elevator in building,Buzzer/wireless intercom,Heating,Family/kid friendly,Washer,Essentials,Shampoo                                                                                                                                                                                          |  40 |  70 |  90 |  3.71612 |\n",
       "| 15 | 28013 | Sol         | Apartment   | Entire home/apt |  4 | 1 | 1 |  1 | Real Bed      | TV,Wireless Internet,Air conditioning,Kitchen,Doorman,Elevator in building,Buzzer/wireless intercom,Heating,Family/kid friendly,Suitable for events,Washer,Essentials,Hangers,Hair dryer,Iron                                                                                                                                                                    | 646 |  75 |  91 | 60.01534 |\n",
       "| 16 | 28013 | Sol         | Condominium | Entire home/apt |  6 | 1 | 2 |  3 | Real Bed      | TV,Wireless Internet,Air conditioning,Kitchen,Doorman,Elevator in building,Buzzer/wireless intercom,Heating,Family/kid friendly,Washer,Dryer,Essentials,Shampoo,Hangers,Hair dryer,Iron                                                                                                                                                                          |  NA | 130 | 100 |       NA |\n",
       "| 17 | 28013 | Sol         | Apartment   | Entire home/apt |  4 | 1 | 1 |  2 | Real Bed      | TV,Internet,Wireless Internet,Air conditioning,Kitchen,Doorman,Elevator in building,Buzzer/wireless intercom,Heating,Family/kid friendly,Washer,Smoke detector,Carbon monoxide detector,First aid kit,Safety card,Fire extinguisher,Essentials,Shampoo,24-hour check-in,Hangers,Hair dryer,Iron,Laptop friendly workspace                                        |  NA | 100 |  97 |       NA |\n",
       "| 18 | 28012 | Sol         | Apartment   | Entire home/apt |  6 | 1 | 2 |  2 | Real Bed      | TV,Internet,Wireless Internet,Air conditioning,Kitchen,Smoking allowed,Elevator in building,Buzzer/wireless intercom,Heating,Family/kid friendly,Washer,Dryer,Essentials,Shampoo,Hangers,Hair dryer,Iron,Laptop friendly workspace                                                                                                                               |  NA | 160 |  95 |       NA |\n",
       "| 19 | 28013 | Sol         | Apartment   | Entire home/apt |  4 | 1 | 1 |  2 | Real Bed      | TV,Internet,Wireless Internet,Air conditioning,Kitchen,Heating,Washer,Essentials,Hangers,Hair dryer,translation missing: en.hosting_amenity_50                                                                                                                                                                                                                   |  NA |  49 |  95 |       NA |\n",
       "| 21 | 28013 | Sol         | Apartment   | Entire home/apt |  4 | 1 | 1 |  2 | Real Bed      | TV,Wireless Internet,Kitchen,Pets allowed,Elevator in building,Heating,Family/kid friendly,Washer,Essentials,Shampoo,Hangers,Hair dryer,Laptop friendly workspace                                                                                                                                                                                                |  NA |  70 |  88 |       NA |\n",
       "| 22 | 28005 | Sol         | Apartment   | Entire home/apt | 10 | 2 | 4 |  7 | Real Bed      | TV,Internet,Wireless Internet,Air conditioning,Kitchen,Heating,Family/kid friendly,Washer,Essentials                                                                                                                                                                                                                                                             |  NA | 210 |  81 |       NA |\n",
       "| 23 | 28013 | Sol         | Apartment   | Entire home/apt |  6 | 1 | 2 |  4 | Real Bed      | TV,Internet,Wireless Internet,Air conditioning,Kitchen,Smoking allowed,Pets allowed,Doorman,Elevator in building,Buzzer/wireless intercom,Heating,Family/kid friendly,Washer,First aid kit,Safety card,Essentials,Shampoo,Hangers,Hair dryer,Iron                                                                                                                |  NA | 120 |  99 |       NA |\n",
       "| 24 | 28012 | Sol         | Apartment   | Entire home/apt |  4 | 1 | 1 |  2 | Real Bed      | TV,Internet,Wireless Internet,Air conditioning,Kitchen,Elevator in building,Heating,Family/kid friendly,Washer,Smoke detector,Carbon monoxide detector,Essentials,Shampoo,24-hour check-in,Hangers,Hair dryer,Iron,Laptop friendly workspace                                                                                                                     |  NA |  50 |  91 |       NA |\n",
       "| 25 | 28012 | Sol         | Apartment   | Entire home/apt |  4 | 1 | 1 |  1 | Real Bed      | TV,Cable TV,Internet,Wireless Internet,Air conditioning,Kitchen,Elevator in building,Buzzer/wireless intercom,Heating,Family/kid friendly,Washer,Essentials,Hair dryer,Iron                                                                                                                                                                                      | 753 | 100 |  87 | 69.95596 |\n",
       "| 26 | 28013 | Sol         | Apartment   | Entire home/apt |  4 | 1 | 1 |  2 | Real Bed      | TV,Internet,Wireless Internet,Air conditioning,Kitchen,Breakfast,Elevator in building,Heating,Family/kid friendly,Washer,First aid kit,Fire extinguisher,Essentials,Shampoo,Hangers,Hair dryer,Iron,Laptop friendly workspace                                                                                                                                    |  NA |  75 | 100 |       NA |\n",
       "| 27 | 28014 | Sol         | Condominium | Entire home/apt |  8 | 2 | 2 |  5 | Real Bed      | TV,Internet,Wireless Internet,Air conditioning,Wheelchair accessible,Kitchen,Doorman,Elevator in building,Buzzer/wireless intercom,Heating,Family/kid friendly,Washer,Smoke detector,Carbon monoxide detector,Essentials,Shampoo,24-hour check-in,Hangers,Hair dryer,Iron,Laptop friendly workspace                                                              |  NA | 155 |  93 |       NA |\n",
       "| 28 | 28013 | Sol         | Apartment   | Entire home/apt |  6 | 2 | 2 |  3 | Real Bed      | TV,Internet,Wireless Internet,Air conditioning,Wheelchair accessible,Kitchen,Doorman,Elevator in building,Buzzer/wireless intercom,Heating,Family/kid friendly,Washer,Dryer,Essentials,Hangers,Hair dryer,Iron                                                                                                                                                   |  NA | 155 |  80 |       NA |\n",
       "| 30 | 28005 | Sol         | Apartment   | Entire home/apt |  8 | 1 | 3 |  4 | Real Bed      | TV,Internet,Wireless Internet,Kitchen,Breakfast,Elevator in building,Buzzer/wireless intercom,Heating,Family/kid friendly,Washer,Essentials,Shampoo,Hangers,Hair dryer,Iron,Laptop friendly workspace,Self Check-In,Lockbox                                                                                                                                      |  NA | 163 | 100 |       NA |\n",
       "| 31 | 28005 | Imperial    | Apartment   | Entire home/apt |  3 | 1 | 1 |  1 | Real Bed      | TV,Internet,Wireless Internet,Kitchen,Pets allowed,Elevator in building,Heating,Family/kid friendly,Washer,Fire extinguisher,Essentials,Shampoo,Hangers,Hair dryer,Iron,Laptop friendly workspace,translation missing: en.hosting_amenity_50                                                                                                                     |  NA |  70 |  95 |       NA |\n",
       "| 32 | 28005 | Imperial    | Apartment   | Entire home/apt |  3 | 1 | 2 |  2 | Real Bed      | TV,Wireless Internet,Kitchen,Heating,Family/kid friendly,Washer,Essentials,Hair dryer,translation missing: en.hosting_amenity_50                                                                                                                                                                                                                                 |  NA |  49 |  88 |       NA |\n",
       "| 36 | 28005 | Acacias     | House       | Entire home/apt |  4 | 2 | 2 |  4 | Real Bed      | TV,Wireless Internet,Air conditioning,Wheelchair accessible,Kitchen,Doorman,Elevator in building,Buzzer/wireless intercom,Heating,Washer,Essentials,Shampoo,Hangers,Hair dryer,Iron,Laptop friendly workspace                                                                                                                                                    |  NA |  90 |  92 |       NA |\n",
       "| 43 | 28013 | Sol         | Apartment   | Entire home/apt |  4 | 1 | 1 |  1 | Pull-out Sofa | TV,Internet,Wireless Internet,Air conditioning,Kitchen,Elevator in building,Buzzer/wireless intercom,Heating,Family/kid friendly,Washer,Smoke detector,Carbon monoxide detector,First aid kit,Essentials,Shampoo,24-hour check-in,Hangers,Hair dryer,Iron,Laptop friendly workspace,translation missing: en.hosting_amenity_50                                   |  NA |  64 |  97 |       NA |\n",
       "| 44 | 28013 | Sol         | Apartment   | Entire home/apt |  6 | 2 | 2 |  2 | Real Bed      | TV,Wireless Internet,Air conditioning,Kitchen,Elevator in building,Heating,Washer,Essentials,Shampoo                                                                                                                                                                                                                                                             |  NA | 109 |  90 |       NA |\n",
       "| 45 | 28013 | Sol         | Apartment   | Entire home/apt |  3 | 1 | 1 |  2 | Real Bed      | TV,Internet,Wireless Internet,Air conditioning,Kitchen,Smoking allowed,Elevator in building,Buzzer/wireless intercom,Heating,Family/kid friendly,Washer,Fire extinguisher,Essentials,Shampoo,Hangers,Hair dryer,Iron                                                                                                                                             |  NA |  67 |  95 |       NA |\n",
       "| 46 | 28013 | Sol         | Apartment   | Entire home/apt |  2 | 1 | 1 |  1 | Real Bed      | TV,Internet,Wireless Internet,Air conditioning,Kitchen,Elevator in building,Buzzer/wireless intercom,Heating,Family/kid friendly,Washer,First aid kit,Essentials,Shampoo,Hair dryer,Iron                                                                                                                                                                         | 269 |  65 |  93 | 24.99091 |\n",
       "| ⋮ | ⋮ | ⋮ | ⋮ | ⋮ | ⋮ | ⋮ | ⋮ | ⋮ | ⋮ | ⋮ | ⋮ | ⋮ | ⋮ | ⋮ |\n",
       "| 13157 | 28010 | Almagro              | Apartment   | Entire home/apt |  2 | 1.0 | 0 |  1 | Pull-out Sofa | TV,Wireless Internet,Kitchen,Buzzer/wireless intercom,Heating,Essentials,Hangers,Iron,translation missing: en.hosting_amenity_49,translation missing: en.hosting_amenity_50                                                                                                                                           |  NA |  30 |  83 |       NA |\n",
       "| 13158 | 28010 | Almagro              | Apartment   | Entire home/apt |  2 | 1.0 | 1 |  1 | Real Bed      | TV,Internet,Wireless Internet,Air conditioning,Kitchen,Pets allowed,Doorman,Elevator in building,Buzzer/wireless intercom,Heating,Family/kid friendly,Washer,Essentials,Hangers,Iron,Laptop friendly workspace,translation missing: en.hosting_amenity_49                                                             |  NA |  45 | 100 |       NA |\n",
       "| 13159 | 28003 | Rios Rosas           | Apartment   | Entire home/apt |  3 | 1.0 | 1 |  1 | Real Bed      | TV,Internet,Wireless Internet,Air conditioning,Kitchen,Elevator in building,Buzzer/wireless intercom,Heating,Family/kid friendly,Washer,Fire extinguisher,Essentials,24-hour check-in,Hangers,Hair dryer,Iron,Laptop friendly workspace                                                                               |  NA |  39 |  94 |       NA |\n",
       "| 13167 | 28008 | Argüelles            | House       | Entire home/apt |  3 | 1.0 | 1 |  2 | Real Bed      | TV,Internet,Wireless Internet,Air conditioning,Kitchen,Elevator in building,Heating,Washer,Smoke detector,Fire extinguisher,Essentials,Hangers,Hair dryer,Iron,Laptop friendly workspace                                                                                                                              |  NA | 105 |  NA |       NA |\n",
       "| 13168 | 28008 | Argüelles            | House       | Entire home/apt |  5 | 1.0 | 3 |  4 | Real Bed      | TV,Internet,Wireless Internet,Wheelchair accessible,Kitchen,Smoking allowed,Doorman,Elevator in building,Buzzer/wireless intercom,Heating,Family/kid friendly,Washer,Fire extinguisher,Essentials,Shampoo,24-hour check-in,Hangers,Hair dryer,Iron,Laptop friendly workspace                                          |  NA | 139 |  92 |       NA |\n",
       "| 13169 | 28008 | Argüelles            | Apartment   | Entire home/apt |  4 | 1.0 | 1 |  1 | Real Bed      | TV,Wireless Internet,Kitchen,Elevator in building,Heating,Family/kid friendly,Washer,Dryer,Essentials,Shampoo,24-hour check-in,Hangers,Hair dryer,Iron,Laptop friendly workspace                                                                                                                                      |  NA |  61 |  92 |       NA |\n",
       "| 13175 | 28003 | Ciudad Universitaria | Loft        | Entire home/apt |  3 | 1.0 | 1 |  2 | Real Bed      | TV,Wireless Internet,Kitchen,Breakfast,Elevator in building,Buzzer/wireless intercom,Heating,Family/kid friendly,Washer,Essentials,Shampoo,Hangers,Iron,Laptop friendly workspace                                                                                                                                     |  NA |  55 | 100 |       NA |\n",
       "| 13176 | 28038 | Numancia             | Apartment   | Entire home/apt |  6 | 1.0 | 3 |  4 | Real Bed      | TV,Internet,Wireless Internet,Air conditioning,Kitchen,Buzzer/wireless intercom,Heating,Family/kid friendly,Washer,First aid kit,Essentials,Shampoo,Hangers,Hair dryer,Iron,Laptop friendly workspace                                                                                                                 |  NA |  65 |  94 |       NA |\n",
       "| 13179 | 28023 | Aravaca              | Condominium | Entire home/apt |  3 | 1.0 | 1 |  3 | Real Bed      | TV,Internet,Wireless Internet,Pool,Kitchen,Free parking on premises,Doorman,Heating,Family/kid friendly,Washer,Essentials,24-hour check-in,Hangers,Iron,Laptop friendly workspace,Private entrance                                                                                                                    |  NA |  50 | 100 |       NA |\n",
       "| 13183 | 28004 | Universidad          | Other       | Entire home/apt |  3 | 1.0 | 1 |  1 | Real Bed      | TV,Internet,Wireless Internet,Air conditioning,Kitchen,Smoking allowed,Pets allowed,Elevator in building,Buzzer/wireless intercom,Heating,Family/kid friendly,Washer,Dryer,Fire extinguisher,Essentials,24-hour check-in,Hangers,Hair dryer,Iron                                                                      |  NA |  43 |  83 |       NA |\n",
       "| 13184 | 28004 | Universidad          | Apartment   | Entire home/apt |  3 | 1.0 | 1 |  1 | Real Bed      | TV,Internet,Wireless Internet,Kitchen,Buzzer/wireless intercom,Heating,Washer,Dryer,Essentials,Shampoo,24-hour check-in,Hangers,Hair dryer,Iron,Laptop friendly workspace,translation missing: en.hosting_amenity_49,translation missing: en.hosting_amenity_50                                                       |  NA |  80 |  96 |       NA |\n",
       "| 13185 | 28004 | Universidad          | Apartment   | Entire home/apt |  2 | 1.0 | 1 |  1 | Real Bed      | TV,Internet,Wireless Internet,Air conditioning,Kitchen,Elevator in building,Heating,Washer,Dryer,First aid kit,Essentials,Hangers,Hair dryer,Iron,translation missing: en.hosting_amenity_49,translation missing: en.hosting_amenity_50                                                                               |  NA |  80 |  99 |       NA |\n",
       "| 13186 | 28015 | Universidad          | Apartment   | Entire home/apt |  4 | 1.0 | 1 |  2 | Real Bed      | TV,Internet,Wireless Internet,Air conditioning,Kitchen,Elevator in building,Heating,Family/kid friendly,Washer,Smoke detector,Fire extinguisher,Essentials,Shampoo,Lock on bedroom door,Hangers,Hair dryer,Iron                                                                                                       |  NA | 100 | 100 |       NA |\n",
       "| 13187 | 28015 | Universidad          | Apartment   | Entire home/apt |  2 | 1.0 | 1 |  2 | Real Bed      | TV,Wireless Internet,Air conditioning,Kitchen,Elevator in building,Buzzer/wireless intercom,Heating,Family/kid friendly,Washer                                                                                                                                                                                        | 291 |  50 |  87 | 27.03477 |\n",
       "| 13188 | 28015 | Universidad          | Apartment   | Entire home/apt |  5 | 1.0 | 2 |  3 | Real Bed      | TV,Internet,Wireless Internet,Kitchen,Smoking allowed,Elevator in building,Buzzer/wireless intercom,Heating,Family/kid friendly,Washer,First aid kit,Essentials,Shampoo,24-hour check-in,Hangers,Hair dryer,Iron,Laptop friendly workspace                                                                            |  NA |  85 |  90 |       NA |\n",
       "| 13190 | 28015 | Universidad          | Apartment   | Entire home/apt |  4 | 1.0 | 1 |  2 | Real Bed      | TV,Wireless Internet,Air conditioning,Kitchen,Smoking allowed,Heating,Family/kid friendly,Washer,Dryer,Smoke detector,First aid kit,Essentials,Shampoo,Hangers,Hair dryer,Iron                                                                                                                                        |  NA |  60 | 100 |       NA |\n",
       "| 13191 | 28013 | Universidad          | Apartment   | Entire home/apt |  2 | 1.0 | 1 |  1 | Real Bed      | TV,Wireless Internet,Air conditioning,Kitchen,Elevator in building,Heating,Washer,Dryer,Essentials,Shampoo,Hangers,Hair dryer,Iron,Laptop friendly workspace,translation missing: en.hosting_amenity_49,translation missing: en.hosting_amenity_50                                                                    |  NA | 145 |  NA |       NA |\n",
       "| 13192 | 28004 | Universidad          | Apartment   | Entire home/apt |  4 | 1.0 | 1 |  2 | Real Bed      | TV,Internet,Wireless Internet,Air conditioning,Kitchen,Pets allowed,Indoor fireplace,Buzzer/wireless intercom,Heating,Family/kid friendly,Washer,Smoke detector,Carbon monoxide detector,Essentials,Shampoo,24-hour check-in,Hangers,Hair dryer,Iron,Laptop friendly workspace                                        |  NA |  62 |  91 |       NA |\n",
       "| 13193 | 28004 | Universidad          | Apartment   | Entire home/apt | 14 | 5.5 | 5 | 10 | Real Bed      | TV,Internet,Wireless Internet,Air conditioning,Kitchen,Smoking allowed,Elevator in building,Indoor fireplace,Family/kid friendly,Washer,Dryer,First aid kit,Fire extinguisher,Essentials                                                                                                                              |  NA | 300 |  94 |       NA |\n",
       "| 13195 | 28004 | Universidad          | Apartment   | Entire home/apt |  3 | 1.0 | 1 |  2 | Real Bed      | TV,Wireless Internet,Kitchen,Buzzer/wireless intercom,Heating,Family/kid friendly,Washer,Smoke detector,Essentials,Shampoo,24-hour check-in,Hangers,Laptop friendly workspace,translation missing: en.hosting_amenity_50                                                                                              |  NA |  62 |  81 |       NA |\n",
       "| 13198 | 28004 | Universidad          | Apartment   | Entire home/apt |  4 | 1.0 | 2 |  4 | Pull-out Sofa | TV,Internet,Wireless Internet,Air conditioning,Kitchen,Smoking allowed,Pets allowed,Elevator in building,Heating,Family/kid friendly,Washer,Dryer,Essentials,Shampoo,Hangers,Hair dryer,Iron                                                                                                                          |  NA |  90 |  90 |       NA |\n",
       "| 13199 | 28004 | Universidad          | Apartment   | Entire home/apt |  4 | 1.0 | 2 |  2 | Real Bed      | TV,Internet,Wireless Internet,Air conditioning,Kitchen,Smoking allowed,Pets allowed,Buzzer/wireless intercom,Heating,Family/kid friendly,Washer,Dryer,Essentials,Hangers,Hair dryer,Iron                                                                                                                              |  NA |  70 |  87 |       NA |\n",
       "| 13200 | 28004 | Universidad          | Apartment   | Entire home/apt |  2 | 1.0 | 1 |  1 | Real Bed      | TV,Internet,Wireless Internet,Air conditioning,Kitchen,Smoking allowed,Pets allowed,Elevator in building,Heating,Family/kid friendly,Washer,First aid kit,Fire extinguisher,Essentials,Lock on bedroom door,Hangers,Hair dryer,Iron                                                                                   |  NA |  40 |  82 |       NA |\n",
       "| 13201 | 28004 | Universidad          | Loft        | Entire home/apt |  2 | 1.0 | 1 |  2 | Real Bed      | Internet,Wireless Internet,Smoking allowed,Breakfast,Elevator in building,Heating,Shampoo,Hangers,Hair dryer,Iron,Laptop friendly workspace,translation missing: en.hosting_amenity_49,translation missing: en.hosting_amenity_50                                                                                     |  NA |  30 |  NA |       NA |\n",
       "| 13202 | 28004 | Universidad          | Apartment   | Entire home/apt |  4 | 1.0 | 1 |  2 | Real Bed      | TV,Wireless Internet,Air conditioning,Kitchen,Smoking allowed,Pets allowed,Heating,Family/kid friendly,Washer,Fire extinguisher,Essentials,Lock on bedroom door,Hangers,Hair dryer,Iron                                                                                                                               |  NA |  48 |  83 |       NA |\n",
       "| 13203 | 28015 | Universidad          | Apartment   | Entire home/apt |  2 | 1.0 | 1 |  1 | Real Bed      | TV,Internet,Wireless Internet,Air conditioning,Kitchen,Elevator in building,Buzzer/wireless intercom,Heating,Washer,Dryer,Smoke detector,Fire extinguisher,Essentials,Shampoo,Hangers,Hair dryer,Iron,Laptop friendly workspace,translation missing: en.hosting_amenity_49,translation missing: en.hosting_amenity_50 |  NA |  35 |  90 |       NA |\n",
       "| 13204 | 28004 | Universidad          | Apartment   | Entire home/apt |  3 | 1.0 | 1 |  2 | Real Bed      | TV,Wireless Internet,Air conditioning,Kitchen,Elevator in building,Buzzer/wireless intercom,Heating,Family/kid friendly,Washer,Dryer,Smoke detector,Carbon monoxide detector,Fire extinguisher,Essentials,Shampoo,24-hour check-in,Hangers,Hair dryer,Iron,Laptop friendly workspace                                  |  NA |  79 |  97 |       NA |\n",
       "| 13205 | 28013 | Universidad          | Apartment   | Entire home/apt |  4 | 1.0 | 1 |  1 | Real Bed      | TV,Wireless Internet,Air conditioning,Pool,Kitchen,Doorman,Gym,Elevator in building,Buzzer/wireless intercom,Heating,Washer,First aid kit,Safety card,Essentials,Shampoo,Hangers,Hair dryer,Iron,Laptop friendly workspace                                                                                            |  NA | 150 | 100 |       NA |\n",
       "| 13206 | 28004 | Universidad          | Loft        | Entire home/apt |  2 | 1.0 | 0 |  1 | Real Bed      | TV,Internet,Wireless Internet,Kitchen,Smoking allowed,Pets allowed,Elevator in building,Heating,Family/kid friendly,Washer,First aid kit,Essentials,Shampoo                                                                                                                                                           |  NA |  80 |  91 |       NA |\n",
       "| 13207 | 28004 | Universidad          | Apartment   | Entire home/apt |  3 | 1.0 | 0 |  2 | Real Bed      | TV,Internet,Wireless Internet,Air conditioning,Kitchen,Heating,Family/kid friendly,Washer                                                                                                                                                                                                                             |  NA |  69 |  80 |       NA |\n",
       "\n"
      ],
      "text/plain": [
       "      CodigoPostal Barrio               TipoPropiedad TipoAlquiler   \n",
       "2     28004        Universidad          Apartment     Entire home/apt\n",
       "3     28004        Universidad          Apartment     Entire home/apt\n",
       "4     28004        Universidad          Loft          Entire home/apt\n",
       "5     28015        Universidad          Apartment     Entire home/apt\n",
       "6     28004        Universidad          Apartment     Entire home/apt\n",
       "8     28004        Universidad          Apartment     Entire home/apt\n",
       "9     28015        Universidad          Apartment     Entire home/apt\n",
       "10    28004        Universidad          Apartment     Entire home/apt\n",
       "11    28004        Universidad          Apartment     Entire home/apt\n",
       "15    28013        Sol                  Apartment     Entire home/apt\n",
       "16    28013        Sol                  Condominium   Entire home/apt\n",
       "17    28013        Sol                  Apartment     Entire home/apt\n",
       "18    28012        Sol                  Apartment     Entire home/apt\n",
       "19    28013        Sol                  Apartment     Entire home/apt\n",
       "21    28013        Sol                  Apartment     Entire home/apt\n",
       "22    28005        Sol                  Apartment     Entire home/apt\n",
       "23    28013        Sol                  Apartment     Entire home/apt\n",
       "24    28012        Sol                  Apartment     Entire home/apt\n",
       "25    28012        Sol                  Apartment     Entire home/apt\n",
       "26    28013        Sol                  Apartment     Entire home/apt\n",
       "27    28014        Sol                  Condominium   Entire home/apt\n",
       "28    28013        Sol                  Apartment     Entire home/apt\n",
       "30    28005        Sol                  Apartment     Entire home/apt\n",
       "31    28005        Imperial             Apartment     Entire home/apt\n",
       "32    28005        Imperial             Apartment     Entire home/apt\n",
       "36    28005        Acacias              House         Entire home/apt\n",
       "43    28013        Sol                  Apartment     Entire home/apt\n",
       "44    28013        Sol                  Apartment     Entire home/apt\n",
       "45    28013        Sol                  Apartment     Entire home/apt\n",
       "46    28013        Sol                  Apartment     Entire home/apt\n",
       "⋮     ⋮            ⋮                    ⋮             ⋮              \n",
       "13157 28010        Almagro              Apartment     Entire home/apt\n",
       "13158 28010        Almagro              Apartment     Entire home/apt\n",
       "13159 28003        Rios Rosas           Apartment     Entire home/apt\n",
       "13167 28008        Argüelles            House         Entire home/apt\n",
       "13168 28008        Argüelles            House         Entire home/apt\n",
       "13169 28008        Argüelles            Apartment     Entire home/apt\n",
       "13175 28003        Ciudad Universitaria Loft          Entire home/apt\n",
       "13176 28038        Numancia             Apartment     Entire home/apt\n",
       "13179 28023        Aravaca              Condominium   Entire home/apt\n",
       "13183 28004        Universidad          Other         Entire home/apt\n",
       "13184 28004        Universidad          Apartment     Entire home/apt\n",
       "13185 28004        Universidad          Apartment     Entire home/apt\n",
       "13186 28015        Universidad          Apartment     Entire home/apt\n",
       "13187 28015        Universidad          Apartment     Entire home/apt\n",
       "13188 28015        Universidad          Apartment     Entire home/apt\n",
       "13190 28015        Universidad          Apartment     Entire home/apt\n",
       "13191 28013        Universidad          Apartment     Entire home/apt\n",
       "13192 28004        Universidad          Apartment     Entire home/apt\n",
       "13193 28004        Universidad          Apartment     Entire home/apt\n",
       "13195 28004        Universidad          Apartment     Entire home/apt\n",
       "13198 28004        Universidad          Apartment     Entire home/apt\n",
       "13199 28004        Universidad          Apartment     Entire home/apt\n",
       "13200 28004        Universidad          Apartment     Entire home/apt\n",
       "13201 28004        Universidad          Loft          Entire home/apt\n",
       "13202 28004        Universidad          Apartment     Entire home/apt\n",
       "13203 28015        Universidad          Apartment     Entire home/apt\n",
       "13204 28004        Universidad          Apartment     Entire home/apt\n",
       "13205 28013        Universidad          Apartment     Entire home/apt\n",
       "13206 28004        Universidad          Loft          Entire home/apt\n",
       "13207 28004        Universidad          Apartment     Entire home/apt\n",
       "      MaxOcupantes NumBanyos NumDormitorios NumCamas TipoCama     \n",
       "2      6           1         3               5       Real Bed     \n",
       "3      3           1         2               2       Real Bed     \n",
       "4      3           2         1               1       Real Bed     \n",
       "5      5           1         1               1       Real Bed     \n",
       "6      2           1         0               1       Real Bed     \n",
       "8      3           1         1              NA       Real Bed     \n",
       "9      2           1         1               1       Real Bed     \n",
       "10     4           2         2               2       Real Bed     \n",
       "11     4           1         1               2       Real Bed     \n",
       "15     4           1         1               1       Real Bed     \n",
       "16     6           1         2               3       Real Bed     \n",
       "17     4           1         1               2       Real Bed     \n",
       "18     6           1         2               2       Real Bed     \n",
       "19     4           1         1               2       Real Bed     \n",
       "21     4           1         1               2       Real Bed     \n",
       "22    10           2         4               7       Real Bed     \n",
       "23     6           1         2               4       Real Bed     \n",
       "24     4           1         1               2       Real Bed     \n",
       "25     4           1         1               1       Real Bed     \n",
       "26     4           1         1               2       Real Bed     \n",
       "27     8           2         2               5       Real Bed     \n",
       "28     6           2         2               3       Real Bed     \n",
       "30     8           1         3               4       Real Bed     \n",
       "31     3           1         1               1       Real Bed     \n",
       "32     3           1         2               2       Real Bed     \n",
       "36     4           2         2               4       Real Bed     \n",
       "43     4           1         1               1       Pull-out Sofa\n",
       "44     6           2         2               2       Real Bed     \n",
       "45     3           1         1               2       Real Bed     \n",
       "46     2           1         1               1       Real Bed     \n",
       "⋮     ⋮            ⋮         ⋮              ⋮        ⋮            \n",
       "13157  2           1.0       0               1       Pull-out Sofa\n",
       "13158  2           1.0       1               1       Real Bed     \n",
       "13159  3           1.0       1               1       Real Bed     \n",
       "13167  3           1.0       1               2       Real Bed     \n",
       "13168  5           1.0       3               4       Real Bed     \n",
       "13169  4           1.0       1               1       Real Bed     \n",
       "13175  3           1.0       1               2       Real Bed     \n",
       "13176  6           1.0       3               4       Real Bed     \n",
       "13179  3           1.0       1               3       Real Bed     \n",
       "13183  3           1.0       1               1       Real Bed     \n",
       "13184  3           1.0       1               1       Real Bed     \n",
       "13185  2           1.0       1               1       Real Bed     \n",
       "13186  4           1.0       1               2       Real Bed     \n",
       "13187  2           1.0       1               2       Real Bed     \n",
       "13188  5           1.0       2               3       Real Bed     \n",
       "13190  4           1.0       1               2       Real Bed     \n",
       "13191  2           1.0       1               1       Real Bed     \n",
       "13192  4           1.0       1               2       Real Bed     \n",
       "13193 14           5.5       5              10       Real Bed     \n",
       "13195  3           1.0       1               2       Real Bed     \n",
       "13198  4           1.0       2               4       Pull-out Sofa\n",
       "13199  4           1.0       2               2       Real Bed     \n",
       "13200  2           1.0       1               1       Real Bed     \n",
       "13201  2           1.0       1               2       Real Bed     \n",
       "13202  4           1.0       1               2       Real Bed     \n",
       "13203  2           1.0       1               1       Real Bed     \n",
       "13204  3           1.0       1               2       Real Bed     \n",
       "13205  4           1.0       1               1       Real Bed     \n",
       "13206  2           1.0       0               1       Real Bed     \n",
       "13207  3           1.0       0               2       Real Bed     \n",
       "      Comodidades                                                                                                                                                                                                                                                                                                                                                     \n",
       "2     TV,Internet,Wireless Internet,Air conditioning,Kitchen,Indoor fireplace,Heating,Family/kid friendly,Washer,Dryer,Smoke detector,Carbon monoxide detector,Essentials,Shampoo                                                                                                                                                                                     \n",
       "3     TV,Internet,Wireless Internet,Air conditioning,Kitchen,Doorman,Heating,Family/kid friendly,Washer,Essentials,Shampoo,Hangers,Hair dryer,Iron,Laptop friendly workspace                                                                                                                                                                                          \n",
       "4     TV,Internet,Wireless Internet,Air conditioning,Kitchen,Pets allowed,Breakfast,Elevator in building,Indoor fireplace,Buzzer/wireless intercom,Heating,Washer,Essentials,Shampoo,Hangers,Hair dryer,Iron,Laptop friendly workspace,translation missing: en.hosting_amenity_49,translation missing: en.hosting_amenity_50                                          \n",
       "5     TV,Wireless Internet,Air conditioning,Kitchen,Smoking allowed,Pets allowed,Elevator in building,Heating,Family/kid friendly,Washer,Essentials,Iron                                                                                                                                                                                                              \n",
       "6     TV,Cable TV,Internet,Wireless Internet,Air conditioning,Wheelchair accessible,Kitchen,Doorman,Elevator in building,Buzzer/wireless intercom,Heating,Washer,Smoke detector,Carbon monoxide detector,First aid kit,Safety card,Fire extinguisher,Essentials,Shampoo,24-hour check-in,Hangers,Hair dryer,Iron,Laptop friendly workspace,Self Check-In,Doorman Entry\n",
       "8     TV,Wireless Internet,Air conditioning,Kitchen,Elevator in building,Buzzer/wireless intercom,Heating,Washer                                                                                                                                                                                                                                                      \n",
       "9     TV,Internet,Wireless Internet,Kitchen,Elevator in building,Buzzer/wireless intercom,Heating,Family/kid friendly,Washer,Dryer,Essentials,Shampoo,translation missing: en.hosting_amenity_49                                                                                                                                                                      \n",
       "10    TV,Wireless Internet,Air conditioning,Kitchen,Elevator in building,Hot tub,Heating,Family/kid friendly,Washer,Dryer,Essentials,Hair dryer,Iron                                                                                                                                                                                                                  \n",
       "11    TV,Wireless Internet,Air conditioning,Wheelchair accessible,Kitchen,Elevator in building,Buzzer/wireless intercom,Heating,Family/kid friendly,Washer,Essentials,Shampoo                                                                                                                                                                                         \n",
       "15    TV,Wireless Internet,Air conditioning,Kitchen,Doorman,Elevator in building,Buzzer/wireless intercom,Heating,Family/kid friendly,Suitable for events,Washer,Essentials,Hangers,Hair dryer,Iron                                                                                                                                                                   \n",
       "16    TV,Wireless Internet,Air conditioning,Kitchen,Doorman,Elevator in building,Buzzer/wireless intercom,Heating,Family/kid friendly,Washer,Dryer,Essentials,Shampoo,Hangers,Hair dryer,Iron                                                                                                                                                                         \n",
       "17    TV,Internet,Wireless Internet,Air conditioning,Kitchen,Doorman,Elevator in building,Buzzer/wireless intercom,Heating,Family/kid friendly,Washer,Smoke detector,Carbon monoxide detector,First aid kit,Safety card,Fire extinguisher,Essentials,Shampoo,24-hour check-in,Hangers,Hair dryer,Iron,Laptop friendly workspace                                       \n",
       "18    TV,Internet,Wireless Internet,Air conditioning,Kitchen,Smoking allowed,Elevator in building,Buzzer/wireless intercom,Heating,Family/kid friendly,Washer,Dryer,Essentials,Shampoo,Hangers,Hair dryer,Iron,Laptop friendly workspace                                                                                                                              \n",
       "19    TV,Internet,Wireless Internet,Air conditioning,Kitchen,Heating,Washer,Essentials,Hangers,Hair dryer,translation missing: en.hosting_amenity_50                                                                                                                                                                                                                  \n",
       "21    TV,Wireless Internet,Kitchen,Pets allowed,Elevator in building,Heating,Family/kid friendly,Washer,Essentials,Shampoo,Hangers,Hair dryer,Laptop friendly workspace                                                                                                                                                                                               \n",
       "22    TV,Internet,Wireless Internet,Air conditioning,Kitchen,Heating,Family/kid friendly,Washer,Essentials                                                                                                                                                                                                                                                            \n",
       "23    TV,Internet,Wireless Internet,Air conditioning,Kitchen,Smoking allowed,Pets allowed,Doorman,Elevator in building,Buzzer/wireless intercom,Heating,Family/kid friendly,Washer,First aid kit,Safety card,Essentials,Shampoo,Hangers,Hair dryer,Iron                                                                                                               \n",
       "24    TV,Internet,Wireless Internet,Air conditioning,Kitchen,Elevator in building,Heating,Family/kid friendly,Washer,Smoke detector,Carbon monoxide detector,Essentials,Shampoo,24-hour check-in,Hangers,Hair dryer,Iron,Laptop friendly workspace                                                                                                                    \n",
       "25    TV,Cable TV,Internet,Wireless Internet,Air conditioning,Kitchen,Elevator in building,Buzzer/wireless intercom,Heating,Family/kid friendly,Washer,Essentials,Hair dryer,Iron                                                                                                                                                                                     \n",
       "26    TV,Internet,Wireless Internet,Air conditioning,Kitchen,Breakfast,Elevator in building,Heating,Family/kid friendly,Washer,First aid kit,Fire extinguisher,Essentials,Shampoo,Hangers,Hair dryer,Iron,Laptop friendly workspace                                                                                                                                   \n",
       "27    TV,Internet,Wireless Internet,Air conditioning,Wheelchair accessible,Kitchen,Doorman,Elevator in building,Buzzer/wireless intercom,Heating,Family/kid friendly,Washer,Smoke detector,Carbon monoxide detector,Essentials,Shampoo,24-hour check-in,Hangers,Hair dryer,Iron,Laptop friendly workspace                                                             \n",
       "28    TV,Internet,Wireless Internet,Air conditioning,Wheelchair accessible,Kitchen,Doorman,Elevator in building,Buzzer/wireless intercom,Heating,Family/kid friendly,Washer,Dryer,Essentials,Hangers,Hair dryer,Iron                                                                                                                                                  \n",
       "30    TV,Internet,Wireless Internet,Kitchen,Breakfast,Elevator in building,Buzzer/wireless intercom,Heating,Family/kid friendly,Washer,Essentials,Shampoo,Hangers,Hair dryer,Iron,Laptop friendly workspace,Self Check-In,Lockbox                                                                                                                                     \n",
       "31    TV,Internet,Wireless Internet,Kitchen,Pets allowed,Elevator in building,Heating,Family/kid friendly,Washer,Fire extinguisher,Essentials,Shampoo,Hangers,Hair dryer,Iron,Laptop friendly workspace,translation missing: en.hosting_amenity_50                                                                                                                    \n",
       "32    TV,Wireless Internet,Kitchen,Heating,Family/kid friendly,Washer,Essentials,Hair dryer,translation missing: en.hosting_amenity_50                                                                                                                                                                                                                                \n",
       "36    TV,Wireless Internet,Air conditioning,Wheelchair accessible,Kitchen,Doorman,Elevator in building,Buzzer/wireless intercom,Heating,Washer,Essentials,Shampoo,Hangers,Hair dryer,Iron,Laptop friendly workspace                                                                                                                                                   \n",
       "43    TV,Internet,Wireless Internet,Air conditioning,Kitchen,Elevator in building,Buzzer/wireless intercom,Heating,Family/kid friendly,Washer,Smoke detector,Carbon monoxide detector,First aid kit,Essentials,Shampoo,24-hour check-in,Hangers,Hair dryer,Iron,Laptop friendly workspace,translation missing: en.hosting_amenity_50                                  \n",
       "44    TV,Wireless Internet,Air conditioning,Kitchen,Elevator in building,Heating,Washer,Essentials,Shampoo                                                                                                                                                                                                                                                            \n",
       "45    TV,Internet,Wireless Internet,Air conditioning,Kitchen,Smoking allowed,Elevator in building,Buzzer/wireless intercom,Heating,Family/kid friendly,Washer,Fire extinguisher,Essentials,Shampoo,Hangers,Hair dryer,Iron                                                                                                                                            \n",
       "46    TV,Internet,Wireless Internet,Air conditioning,Kitchen,Elevator in building,Buzzer/wireless intercom,Heating,Family/kid friendly,Washer,First aid kit,Essentials,Shampoo,Hair dryer,Iron                                                                                                                                                                        \n",
       "⋮     ⋮                                                                                                                                                                                                                                                                                                                                                               \n",
       "13157 TV,Wireless Internet,Kitchen,Buzzer/wireless intercom,Heating,Essentials,Hangers,Iron,translation missing: en.hosting_amenity_49,translation missing: en.hosting_amenity_50                                                                                                                                                                                     \n",
       "13158 TV,Internet,Wireless Internet,Air conditioning,Kitchen,Pets allowed,Doorman,Elevator in building,Buzzer/wireless intercom,Heating,Family/kid friendly,Washer,Essentials,Hangers,Iron,Laptop friendly workspace,translation missing: en.hosting_amenity_49                                                                                                       \n",
       "13159 TV,Internet,Wireless Internet,Air conditioning,Kitchen,Elevator in building,Buzzer/wireless intercom,Heating,Family/kid friendly,Washer,Fire extinguisher,Essentials,24-hour check-in,Hangers,Hair dryer,Iron,Laptop friendly workspace                                                                                                                         \n",
       "13167 TV,Internet,Wireless Internet,Air conditioning,Kitchen,Elevator in building,Heating,Washer,Smoke detector,Fire extinguisher,Essentials,Hangers,Hair dryer,Iron,Laptop friendly workspace                                                                                                                                                                        \n",
       "13168 TV,Internet,Wireless Internet,Wheelchair accessible,Kitchen,Smoking allowed,Doorman,Elevator in building,Buzzer/wireless intercom,Heating,Family/kid friendly,Washer,Fire extinguisher,Essentials,Shampoo,24-hour check-in,Hangers,Hair dryer,Iron,Laptop friendly workspace                                                                                    \n",
       "13169 TV,Wireless Internet,Kitchen,Elevator in building,Heating,Family/kid friendly,Washer,Dryer,Essentials,Shampoo,24-hour check-in,Hangers,Hair dryer,Iron,Laptop friendly workspace                                                                                                                                                                                \n",
       "13175 TV,Wireless Internet,Kitchen,Breakfast,Elevator in building,Buzzer/wireless intercom,Heating,Family/kid friendly,Washer,Essentials,Shampoo,Hangers,Iron,Laptop friendly workspace                                                                                                                                                                               \n",
       "13176 TV,Internet,Wireless Internet,Air conditioning,Kitchen,Buzzer/wireless intercom,Heating,Family/kid friendly,Washer,First aid kit,Essentials,Shampoo,Hangers,Hair dryer,Iron,Laptop friendly workspace                                                                                                                                                           \n",
       "13179 TV,Internet,Wireless Internet,Pool,Kitchen,Free parking on premises,Doorman,Heating,Family/kid friendly,Washer,Essentials,24-hour check-in,Hangers,Iron,Laptop friendly workspace,Private entrance                                                                                                                                                              \n",
       "13183 TV,Internet,Wireless Internet,Air conditioning,Kitchen,Smoking allowed,Pets allowed,Elevator in building,Buzzer/wireless intercom,Heating,Family/kid friendly,Washer,Dryer,Fire extinguisher,Essentials,24-hour check-in,Hangers,Hair dryer,Iron                                                                                                                \n",
       "13184 TV,Internet,Wireless Internet,Kitchen,Buzzer/wireless intercom,Heating,Washer,Dryer,Essentials,Shampoo,24-hour check-in,Hangers,Hair dryer,Iron,Laptop friendly workspace,translation missing: en.hosting_amenity_49,translation missing: en.hosting_amenity_50                                                                                                 \n",
       "13185 TV,Internet,Wireless Internet,Air conditioning,Kitchen,Elevator in building,Heating,Washer,Dryer,First aid kit,Essentials,Hangers,Hair dryer,Iron,translation missing: en.hosting_amenity_49,translation missing: en.hosting_amenity_50                                                                                                                         \n",
       "13186 TV,Internet,Wireless Internet,Air conditioning,Kitchen,Elevator in building,Heating,Family/kid friendly,Washer,Smoke detector,Fire extinguisher,Essentials,Shampoo,Lock on bedroom door,Hangers,Hair dryer,Iron                                                                                                                                                 \n",
       "13187 TV,Wireless Internet,Air conditioning,Kitchen,Elevator in building,Buzzer/wireless intercom,Heating,Family/kid friendly,Washer                                                                                                                                                                                                                                  \n",
       "13188 TV,Internet,Wireless Internet,Kitchen,Smoking allowed,Elevator in building,Buzzer/wireless intercom,Heating,Family/kid friendly,Washer,First aid kit,Essentials,Shampoo,24-hour check-in,Hangers,Hair dryer,Iron,Laptop friendly workspace                                                                                                                      \n",
       "13190 TV,Wireless Internet,Air conditioning,Kitchen,Smoking allowed,Heating,Family/kid friendly,Washer,Dryer,Smoke detector,First aid kit,Essentials,Shampoo,Hangers,Hair dryer,Iron                                                                                                                                                                                  \n",
       "13191 TV,Wireless Internet,Air conditioning,Kitchen,Elevator in building,Heating,Washer,Dryer,Essentials,Shampoo,Hangers,Hair dryer,Iron,Laptop friendly workspace,translation missing: en.hosting_amenity_49,translation missing: en.hosting_amenity_50                                                                                                              \n",
       "13192 TV,Internet,Wireless Internet,Air conditioning,Kitchen,Pets allowed,Indoor fireplace,Buzzer/wireless intercom,Heating,Family/kid friendly,Washer,Smoke detector,Carbon monoxide detector,Essentials,Shampoo,24-hour check-in,Hangers,Hair dryer,Iron,Laptop friendly workspace                                                                                  \n",
       "13193 TV,Internet,Wireless Internet,Air conditioning,Kitchen,Smoking allowed,Elevator in building,Indoor fireplace,Family/kid friendly,Washer,Dryer,First aid kit,Fire extinguisher,Essentials                                                                                                                                                                        \n",
       "13195 TV,Wireless Internet,Kitchen,Buzzer/wireless intercom,Heating,Family/kid friendly,Washer,Smoke detector,Essentials,Shampoo,24-hour check-in,Hangers,Laptop friendly workspace,translation missing: en.hosting_amenity_50                                                                                                                                        \n",
       "13198 TV,Internet,Wireless Internet,Air conditioning,Kitchen,Smoking allowed,Pets allowed,Elevator in building,Heating,Family/kid friendly,Washer,Dryer,Essentials,Shampoo,Hangers,Hair dryer,Iron                                                                                                                                                                    \n",
       "13199 TV,Internet,Wireless Internet,Air conditioning,Kitchen,Smoking allowed,Pets allowed,Buzzer/wireless intercom,Heating,Family/kid friendly,Washer,Dryer,Essentials,Hangers,Hair dryer,Iron                                                                                                                                                                        \n",
       "13200 TV,Internet,Wireless Internet,Air conditioning,Kitchen,Smoking allowed,Pets allowed,Elevator in building,Heating,Family/kid friendly,Washer,First aid kit,Fire extinguisher,Essentials,Lock on bedroom door,Hangers,Hair dryer,Iron                                                                                                                             \n",
       "13201 Internet,Wireless Internet,Smoking allowed,Breakfast,Elevator in building,Heating,Shampoo,Hangers,Hair dryer,Iron,Laptop friendly workspace,translation missing: en.hosting_amenity_49,translation missing: en.hosting_amenity_50                                                                                                                               \n",
       "13202 TV,Wireless Internet,Air conditioning,Kitchen,Smoking allowed,Pets allowed,Heating,Family/kid friendly,Washer,Fire extinguisher,Essentials,Lock on bedroom door,Hangers,Hair dryer,Iron                                                                                                                                                                         \n",
       "13203 TV,Internet,Wireless Internet,Air conditioning,Kitchen,Elevator in building,Buzzer/wireless intercom,Heating,Washer,Dryer,Smoke detector,Fire extinguisher,Essentials,Shampoo,Hangers,Hair dryer,Iron,Laptop friendly workspace,translation missing: en.hosting_amenity_49,translation missing: en.hosting_amenity_50                                           \n",
       "13204 TV,Wireless Internet,Air conditioning,Kitchen,Elevator in building,Buzzer/wireless intercom,Heating,Family/kid friendly,Washer,Dryer,Smoke detector,Carbon monoxide detector,Fire extinguisher,Essentials,Shampoo,24-hour check-in,Hangers,Hair dryer,Iron,Laptop friendly workspace                                                                            \n",
       "13205 TV,Wireless Internet,Air conditioning,Pool,Kitchen,Doorman,Gym,Elevator in building,Buzzer/wireless intercom,Heating,Washer,First aid kit,Safety card,Essentials,Shampoo,Hangers,Hair dryer,Iron,Laptop friendly workspace                                                                                                                                      \n",
       "13206 TV,Internet,Wireless Internet,Kitchen,Smoking allowed,Pets allowed,Elevator in building,Heating,Family/kid friendly,Washer,First aid kit,Essentials,Shampoo                                                                                                                                                                                                     \n",
       "13207 TV,Internet,Wireless Internet,Air conditioning,Kitchen,Heating,Family/kid friendly,Washer                                                                                                                                                                                                                                                                       \n",
       "      PiesCuadrados Precio Puntuacion MetrosCuadrados\n",
       "2      NA            92     96              NA       \n",
       "3      NA            55     91              NA       \n",
       "4      NA            60    100              NA       \n",
       "5     538            75     90        49.98181       \n",
       "6      NA            55     95              NA       \n",
       "8      NA            70     84              NA       \n",
       "9     700            90     98        65.03210       \n",
       "10     NA           155     NA              NA       \n",
       "11     40            70     90         3.71612       \n",
       "15    646            75     91        60.01534       \n",
       "16     NA           130    100              NA       \n",
       "17     NA           100     97              NA       \n",
       "18     NA           160     95              NA       \n",
       "19     NA            49     95              NA       \n",
       "21     NA            70     88              NA       \n",
       "22     NA           210     81              NA       \n",
       "23     NA           120     99              NA       \n",
       "24     NA            50     91              NA       \n",
       "25    753           100     87        69.95596       \n",
       "26     NA            75    100              NA       \n",
       "27     NA           155     93              NA       \n",
       "28     NA           155     80              NA       \n",
       "30     NA           163    100              NA       \n",
       "31     NA            70     95              NA       \n",
       "32     NA            49     88              NA       \n",
       "36     NA            90     92              NA       \n",
       "43     NA            64     97              NA       \n",
       "44     NA           109     90              NA       \n",
       "45     NA            67     95              NA       \n",
       "46    269            65     93        24.99091       \n",
       "⋮     ⋮             ⋮      ⋮          ⋮              \n",
       "13157  NA            30     83              NA       \n",
       "13158  NA            45    100              NA       \n",
       "13159  NA            39     94              NA       \n",
       "13167  NA           105     NA              NA       \n",
       "13168  NA           139     92              NA       \n",
       "13169  NA            61     92              NA       \n",
       "13175  NA            55    100              NA       \n",
       "13176  NA            65     94              NA       \n",
       "13179  NA            50    100              NA       \n",
       "13183  NA            43     83              NA       \n",
       "13184  NA            80     96              NA       \n",
       "13185  NA            80     99              NA       \n",
       "13186  NA           100    100              NA       \n",
       "13187 291            50     87        27.03477       \n",
       "13188  NA            85     90              NA       \n",
       "13190  NA            60    100              NA       \n",
       "13191  NA           145     NA              NA       \n",
       "13192  NA            62     91              NA       \n",
       "13193  NA           300     94              NA       \n",
       "13195  NA            62     81              NA       \n",
       "13198  NA            90     90              NA       \n",
       "13199  NA            70     87              NA       \n",
       "13200  NA            40     82              NA       \n",
       "13201  NA            30     NA              NA       \n",
       "13202  NA            48     83              NA       \n",
       "13203  NA            35     90              NA       \n",
       "13204  NA            79     97              NA       \n",
       "13205  NA           150    100              NA       \n",
       "13206  NA            80     91              NA       \n",
       "13207  NA            69     80              NA       "
      ]
     },
     "metadata": {},
     "output_type": "display_data"
    }
   ],
   "source": [
    "#15\n",
    "airbnb_entire <- airbnb[airbnb[\"TipoAlquiler\"] == 'Entire home/apt',]\n",
    "airbnb_entire"
   ]
  },
  {
   "cell_type": "markdown",
   "metadata": {},
   "source": [
    "#16\n",
    "¿Cuales son los 5 barrios que tienen un mayor número de apartamentos enteros en alquiler?\n",
    "Nota: Mirar solo en airbnb_entire. A partir de este punto y hasta que se diga lo contrario partiremos de airbnb_entire."
   ]
  },
  {
   "cell_type": "code",
   "execution_count": 208,
   "metadata": {},
   "outputs": [
    {
     "data": {
      "text/plain": [
       "\n",
       "Embajadores Universidad     Palacio         Sol      Cortes \n",
       "       1228         984         769         701         574 "
      ]
     },
     "metadata": {},
     "output_type": "display_data"
    }
   ],
   "source": [
    "sort(table(airbnb_entire[\"Barrio\"]),decreasing=T)[1:5]"
   ]
  },
  {
   "cell_type": "markdown",
   "metadata": {},
   "source": [
    "#17\n",
    "¿Cuales son los 5 barrios que tienen un mayor precio medio de alquiler para apartamentos enteros (es decir, del dataframe airbnb_entire)?\n",
    "\n",
    "¿Cual es su precio medio?\n",
    "\n",
    "Ayuda: Usa la función aggregate `aggregate(.~colname,df,mean,na.rm=TRUE)`"
   ]
  },
  {
   "cell_type": "code",
   "execution_count": 209,
   "metadata": {},
   "outputs": [
    {
     "data": {
      "text/html": [
       "<table class=\"dataframe\">\n",
       "<caption>A data.frame: 5 × 2</caption>\n",
       "<thead>\n",
       "\t<tr><th></th><th scope=col>Barrio</th><th scope=col>Precio</th></tr>\n",
       "\t<tr><th></th><th scope=col>&lt;fct&gt;</th><th scope=col>&lt;dbl&gt;</th></tr>\n",
       "</thead>\n",
       "<tbody>\n",
       "\t<tr><th scope=row>77</th><td>Palomas      </td><td>309.7500</td></tr>\n",
       "\t<tr><th scope=row>50</th><td>Fuentelareina</td><td>180.0000</td></tr>\n",
       "\t<tr><th scope=row>93</th><td>Recoletos    </td><td>161.9254</td></tr>\n",
       "\t<tr><th scope=row>43</th><td>El Plantío   </td><td>150.0000</td></tr>\n",
       "\t<tr><th scope=row>30</th><td>Castellana   </td><td>141.3889</td></tr>\n",
       "</tbody>\n",
       "</table>\n"
      ],
      "text/latex": [
       "A data.frame: 5 × 2\n",
       "\\begin{tabular}{r|ll}\n",
       "  & Barrio & Precio\\\\\n",
       "  & <fct> & <dbl>\\\\\n",
       "\\hline\n",
       "\t77 & Palomas       & 309.7500\\\\\n",
       "\t50 & Fuentelareina & 180.0000\\\\\n",
       "\t93 & Recoletos     & 161.9254\\\\\n",
       "\t43 & El Plantío    & 150.0000\\\\\n",
       "\t30 & Castellana    & 141.3889\\\\\n",
       "\\end{tabular}\n"
      ],
      "text/markdown": [
       "\n",
       "A data.frame: 5 × 2\n",
       "\n",
       "| <!--/--> | Barrio &lt;fct&gt; | Precio &lt;dbl&gt; |\n",
       "|---|---|---|\n",
       "| 77 | Palomas       | 309.7500 |\n",
       "| 50 | Fuentelareina | 180.0000 |\n",
       "| 93 | Recoletos     | 161.9254 |\n",
       "| 43 | El Plantío    | 150.0000 |\n",
       "| 30 | Castellana    | 141.3889 |\n",
       "\n"
      ],
      "text/plain": [
       "   Barrio        Precio  \n",
       "77 Palomas       309.7500\n",
       "50 Fuentelareina 180.0000\n",
       "93 Recoletos     161.9254\n",
       "43 El Plantío    150.0000\n",
       "30 Castellana    141.3889"
      ]
     },
     "metadata": {},
     "output_type": "display_data"
    }
   ],
   "source": [
    "#17\n",
    "group_mean <- aggregate(Precio~Barrio, airbnb_entire, mean, na.rm=T)\n",
    "group_mean[order(group_mean$Precio, decreasing = T)[1:5],]\n"
   ]
  },
  {
   "cell_type": "markdown",
   "metadata": {},
   "source": [
    "#18\n",
    "¿Cuantos apartamentos hay en cada uno de esos barrios?\n",
    "\n",
    "Mostrar una dataframe con el nombre del barrio, el precio y el número de entradas.\n",
    "\n",
    "Ayuda: Podeis crear un nuevo dataframe con las columnas \"Barrio\" y \"Freq\" que contenga el número de entradas en cada barrio y hacer un merge con el dataframe del punto anterior."
   ]
  },
  {
   "cell_type": "code",
   "execution_count": 210,
   "metadata": {},
   "outputs": [
    {
     "data": {
      "text/html": [
       "<table class=\"dataframe\">\n",
       "<caption>A data.frame: 5 × 3</caption>\n",
       "<thead>\n",
       "\t<tr><th></th><th scope=col>Barrio</th><th scope=col>Precio</th><th scope=col>Freq</th></tr>\n",
       "\t<tr><th></th><th scope=col>&lt;fct&gt;</th><th scope=col>&lt;dbl&gt;</th><th scope=col>&lt;int&gt;</th></tr>\n",
       "</thead>\n",
       "<tbody>\n",
       "\t<tr><th scope=row>45</th><td>Embajadores</td><td> 73.70497</td><td>1228</td></tr>\n",
       "\t<tr><th scope=row>109</th><td>Universidad</td><td> 79.39674</td><td> 984</td></tr>\n",
       "\t<tr><th scope=row>76</th><td>Palacio    </td><td> 93.30599</td><td> 769</td></tr>\n",
       "\t<tr><th scope=row>106</th><td>Sol        </td><td>100.75036</td><td> 701</td></tr>\n",
       "\t<tr><th scope=row>39</th><td>Cortes     </td><td> 94.39373</td><td> 574</td></tr>\n",
       "</tbody>\n",
       "</table>\n"
      ],
      "text/latex": [
       "A data.frame: 5 × 3\n",
       "\\begin{tabular}{r|lll}\n",
       "  & Barrio & Precio & Freq\\\\\n",
       "  & <fct> & <dbl> & <int>\\\\\n",
       "\\hline\n",
       "\t45 & Embajadores &  73.70497 & 1228\\\\\n",
       "\t109 & Universidad &  79.39674 &  984\\\\\n",
       "\t76 & Palacio     &  93.30599 &  769\\\\\n",
       "\t106 & Sol         & 100.75036 &  701\\\\\n",
       "\t39 & Cortes      &  94.39373 &  574\\\\\n",
       "\\end{tabular}\n"
      ],
      "text/markdown": [
       "\n",
       "A data.frame: 5 × 3\n",
       "\n",
       "| <!--/--> | Barrio &lt;fct&gt; | Precio &lt;dbl&gt; | Freq &lt;int&gt; |\n",
       "|---|---|---|---|\n",
       "| 45 | Embajadores |  73.70497 | 1228 |\n",
       "| 109 | Universidad |  79.39674 |  984 |\n",
       "| 76 | Palacio     |  93.30599 |  769 |\n",
       "| 106 | Sol         | 100.75036 |  701 |\n",
       "| 39 | Cortes      |  94.39373 |  574 |\n",
       "\n"
      ],
      "text/plain": [
       "    Barrio      Precio    Freq\n",
       "45  Embajadores  73.70497 1228\n",
       "109 Universidad  79.39674  984\n",
       "76  Palacio      93.30599  769\n",
       "106 Sol         100.75036  701\n",
       "39  Cortes       94.39373  574"
      ]
     },
     "metadata": {},
     "output_type": "display_data"
    }
   ],
   "source": [
    "#18\n",
    "ApPorBarrio <- airbnb_entire %>% group_by(Barrio) %>% summarize(Freq=n())\n",
    "\n",
    "Baprnen <- merge(group_mean,ApPorBarrio, by = 'Barrio')\n",
    "\n",
    "Baprnen[order(Baprnen$Freq, decreasing = T)[1:5],]"
   ]
  },
  {
   "cell_type": "markdown",
   "metadata": {},
   "source": [
    "#19\n",
    "Partiendo del dataframe anterior, muestra los 5 barrios con mayor precio, pero que tengan más de 100 entradas de alquiler."
   ]
  },
  {
   "cell_type": "code",
   "execution_count": 211,
   "metadata": {
    "scrolled": true
   },
   "outputs": [
    {
     "data": {
      "text/html": [
       "<table class=\"dataframe\">\n",
       "<caption>A data.frame: 5 × 3</caption>\n",
       "<thead>\n",
       "\t<tr><th></th><th scope=col>Barrio</th><th scope=col>Precio</th><th scope=col>Freq</th></tr>\n",
       "\t<tr><th></th><th scope=col>&lt;fct&gt;</th><th scope=col>&lt;dbl&gt;</th><th scope=col>&lt;int&gt;</th></tr>\n",
       "</thead>\n",
       "<tbody>\n",
       "\t<tr><th scope=row>1</th><td>Recoletos</td><td>161.92537</td><td>135</td></tr>\n",
       "\t<tr><th scope=row>2</th><td>Goya     </td><td>111.33803</td><td>142</td></tr>\n",
       "\t<tr><th scope=row>3</th><td>Sol      </td><td>100.75036</td><td>701</td></tr>\n",
       "\t<tr><th scope=row>4</th><td>Trafalgar</td><td> 98.57848</td><td>223</td></tr>\n",
       "\t<tr><th scope=row>5</th><td>Justicia </td><td> 98.25468</td><td>534</td></tr>\n",
       "</tbody>\n",
       "</table>\n"
      ],
      "text/latex": [
       "A data.frame: 5 × 3\n",
       "\\begin{tabular}{r|lll}\n",
       "  & Barrio & Precio & Freq\\\\\n",
       "  & <fct> & <dbl> & <int>\\\\\n",
       "\\hline\n",
       "\t1 & Recoletos & 161.92537 & 135\\\\\n",
       "\t2 & Goya      & 111.33803 & 142\\\\\n",
       "\t3 & Sol       & 100.75036 & 701\\\\\n",
       "\t4 & Trafalgar &  98.57848 & 223\\\\\n",
       "\t5 & Justicia  &  98.25468 & 534\\\\\n",
       "\\end{tabular}\n"
      ],
      "text/markdown": [
       "\n",
       "A data.frame: 5 × 3\n",
       "\n",
       "| <!--/--> | Barrio &lt;fct&gt; | Precio &lt;dbl&gt; | Freq &lt;int&gt; |\n",
       "|---|---|---|---|\n",
       "| 1 | Recoletos | 161.92537 | 135 |\n",
       "| 2 | Goya      | 111.33803 | 142 |\n",
       "| 3 | Sol       | 100.75036 | 701 |\n",
       "| 4 | Trafalgar |  98.57848 | 223 |\n",
       "| 5 | Justicia  |  98.25468 | 534 |\n",
       "\n"
      ],
      "text/plain": [
       "  Barrio    Precio    Freq\n",
       "1 Recoletos 161.92537 135 \n",
       "2 Goya      111.33803 142 \n",
       "3 Sol       100.75036 701 \n",
       "4 Trafalgar  98.57848 223 \n",
       "5 Justicia   98.25468 534 "
      ]
     },
     "metadata": {},
     "output_type": "display_data"
    }
   ],
   "source": [
    "#19\n",
    "Entradas <- Baprnen[Baprnen$Freq > 100,]\n",
    "\n",
    "topEntradas <- head(arrange(Entradas,desc(Precio)), n = 5)\n",
    "\n",
    "topEntradas\n",
    "\n"
   ]
  },
  {
   "cell_type": "markdown",
   "metadata": {},
   "source": [
    "#20\n",
    "Dibuja el diagrama de densidad de distribución de los diferentes precios. Serían 5 gráficas, una por cada barrio."
   ]
  },
  {
   "cell_type": "code",
   "execution_count": 212,
   "metadata": {},
   "outputs": [
    {
     "name": "stderr",
     "output_type": "stream",
     "text": [
      "Warning message:\n",
      "“Removed 1 rows containing non-finite values (stat_density).”\n"
     ]
    },
    {
     "data": {
      "image/png": "[encoded data removed]",
      "text/plain": [
       "plot without title"
      ]
     },
     "metadata": {
      "image/png": {
       "height": 240,
       "width": 360
      }
     },
     "output_type": "display_data"
    }
   ],
   "source": [
    "#20\n",
    "ggplot(airbnb_entire[airbnb_entire$Barrio %in% topEntradas[,1],], aes(x=Precio, color=Barrio))+\n",
    "geom_density()"
   ]
  },
  {
   "cell_type": "markdown",
   "metadata": {},
   "source": [
    "#21\n",
    "Calcula el tamaño medio, en metros cuadrados, para los 5 barrios anteriores y muestralo en el mismo dataframe junto con el precio y número de entradas"
   ]
  },
  {
   "cell_type": "code",
   "execution_count": 213,
   "metadata": {},
   "outputs": [
    {
     "data": {
      "text/html": [
       "<table class=\"dataframe\">\n",
       "<caption>A data.frame: 5 × 4</caption>\n",
       "<thead>\n",
       "\t<tr><th scope=col>Barrio</th><th scope=col>Precio</th><th scope=col>Freq</th><th scope=col>Mt2 medios</th></tr>\n",
       "\t<tr><th scope=col>&lt;fct&gt;</th><th scope=col>&lt;dbl&gt;</th><th scope=col>&lt;int&gt;</th><th scope=col>&lt;dbl&gt;</th></tr>\n",
       "</thead>\n",
       "<tbody>\n",
       "\t<tr><td>Goya     </td><td>111.33803</td><td>142</td><td>51.68504</td></tr>\n",
       "\t<tr><td>Justicia </td><td> 98.25468</td><td>534</td><td>28.52669</td></tr>\n",
       "\t<tr><td>Recoletos</td><td>161.92537</td><td>135</td><td>26.66316</td></tr>\n",
       "\t<tr><td>Sol      </td><td>100.75036</td><td>701</td><td>45.61692</td></tr>\n",
       "\t<tr><td>Trafalgar</td><td> 98.57848</td><td>223</td><td>29.30426</td></tr>\n",
       "</tbody>\n",
       "</table>\n"
      ],
      "text/latex": [
       "A data.frame: 5 × 4\n",
       "\\begin{tabular}{llll}\n",
       " Barrio & Precio & Freq & Mt2 medios\\\\\n",
       " <fct> & <dbl> & <int> & <dbl>\\\\\n",
       "\\hline\n",
       "\t Goya      & 111.33803 & 142 & 51.68504\\\\\n",
       "\t Justicia  &  98.25468 & 534 & 28.52669\\\\\n",
       "\t Recoletos & 161.92537 & 135 & 26.66316\\\\\n",
       "\t Sol       & 100.75036 & 701 & 45.61692\\\\\n",
       "\t Trafalgar &  98.57848 & 223 & 29.30426\\\\\n",
       "\\end{tabular}\n"
      ],
      "text/markdown": [
       "\n",
       "A data.frame: 5 × 4\n",
       "\n",
       "| Barrio &lt;fct&gt; | Precio &lt;dbl&gt; | Freq &lt;int&gt; | Mt2 medios &lt;dbl&gt; |\n",
       "|---|---|---|---|\n",
       "| Goya      | 111.33803 | 142 | 51.68504 |\n",
       "| Justicia  |  98.25468 | 534 | 28.52669 |\n",
       "| Recoletos | 161.92537 | 135 | 26.66316 |\n",
       "| Sol       | 100.75036 | 701 | 45.61692 |\n",
       "| Trafalgar |  98.57848 | 223 | 29.30426 |\n",
       "\n"
      ],
      "text/plain": [
       "  Barrio    Precio    Freq Mt2 medios\n",
       "1 Goya      111.33803 142  51.68504  \n",
       "2 Justicia   98.25468 534  28.52669  \n",
       "3 Recoletos 161.92537 135  26.66316  \n",
       "4 Sol       100.75036 701  45.61692  \n",
       "5 Trafalgar  98.57848 223  29.30426  "
      ]
     },
     "metadata": {},
     "output_type": "display_data"
    }
   ],
   "source": [
    "bTop <- airbnb_entire[airbnb_entire$Barrio %in% topEntradas$Barrio,]\n",
    "mtxb <- aggregate(bTop$MetrosCuadrados, list(bTop$Barrio), mean, na.rm=TRUE)\n",
    "names(mtxb) <- c(\"Barrio\",\"Mt2 medios\")\n",
    "totalbarrios <- merge(Baprnen, mtxb, by = \"Barrio\")\n",
    "totalbarrios "
   ]
  },
  {
   "cell_type": "markdown",
   "metadata": {},
   "source": [
    "#22\n",
    "Dibuja el diagrama de densidad de distribución de los diferentes tamaños de apartamentos. Serían 5 gráficas, una por cada barrio."
   ]
  },
  {
   "cell_type": "code",
   "execution_count": 214,
   "metadata": {},
   "outputs": [
    {
     "name": "stderr",
     "output_type": "stream",
     "text": [
      "Warning message:\n",
      "“Removed 1645 rows containing non-finite values (stat_density).”\n"
     ]
    },
    {
     "data": {
      "image/png": "[encoded data removed]",
      "text/plain": [
       "plot without title"
      ]
     },
     "metadata": {
      "image/png": {
       "height": 240,
       "width": 360
      }
     },
     "output_type": "display_data"
    }
   ],
   "source": [
    "#22\n",
    "ggplot(airbnb_entire[airbnb_entire$Barrio %in% topEntradas[,1],], aes(x=MetrosCuadrados, color=Barrio))+\n",
    "geom_density()\n",
    "\n"
   ]
  },
  {
   "cell_type": "markdown",
   "metadata": {},
   "source": [
    "#23\n",
    "Esta claro que las medias de metros cuadrados de cada uno de estos 5 barrios parecen ser diferentes, pero ¿son estadísticamente diferentes?\n",
    "¿Que test habría que usar para comprobarlo?"
   ]
  },
  {
   "cell_type": "code",
   "execution_count": 215,
   "metadata": {},
   "outputs": [
    {
     "data": {
      "text/plain": [
       "\n",
       "\tShapiro-Wilk normality test\n",
       "\n",
       "data:  airbnb$MetrosCuadrados[airbnb$Barrio == \"Goya\"]\n",
       "W = 0.82224, p-value = 0.1215\n"
      ]
     },
     "metadata": {},
     "output_type": "display_data"
    },
    {
     "data": {
      "text/plain": [
       "\n",
       "\tShapiro-Wilk normality test\n",
       "\n",
       "data:  airbnb$MetrosCuadrados[airbnb$Barrio == \"Justicia\"]\n",
       "W = 0.75479, p-value = 5.855e-05\n"
      ]
     },
     "metadata": {},
     "output_type": "display_data"
    },
    {
     "data": {
      "text/plain": [
       "\n",
       "\tShapiro-Wilk normality test\n",
       "\n",
       "data:  airbnb$MetrosCuadrados[airbnb$Barrio == \"Recoletos\"]\n",
       "W = 0.75, p-value < 2.2e-16\n"
      ]
     },
     "metadata": {},
     "output_type": "display_data"
    },
    {
     "data": {
      "text/plain": [
       "\n",
       "\tShapiro-Wilk normality test\n",
       "\n",
       "data:  airbnb$MetrosCuadrados[airbnb$Barrio == \"Sol\"]\n",
       "W = 0.80374, p-value = 4.974e-08\n"
      ]
     },
     "metadata": {},
     "output_type": "display_data"
    },
    {
     "data": {
      "text/plain": [
       "\n",
       "\tShapiro-Wilk normality test\n",
       "\n",
       "data:  airbnb$MetrosCuadrados[airbnb$Barrio == \"Trafalgar\"]\n",
       "W = 0.78548, p-value = 0.009655\n"
      ]
     },
     "metadata": {},
     "output_type": "display_data"
    }
   ],
   "source": [
    "#23\n",
    "shapiro.test(airbnb$MetrosCuadrados[airbnb$Barrio=='Goya'])\n",
    "shapiro.test(airbnb$MetrosCuadrados[airbnb$Barrio=='Justicia'])\n",
    "shapiro.test(airbnb$MetrosCuadrados[airbnb$Barrio=='Recoletos'])\n",
    "shapiro.test(airbnb$MetrosCuadrados[airbnb$Barrio=='Sol'])\n",
    "shapiro.test(airbnb$MetrosCuadrados[airbnb$Barrio=='Trafalgar'])\n",
    "\n",
    "#   Result\n",
    "# - Goya p-value      = 0.1215    - Distribucion Normal\n",
    "# - Justicia p-value  = 5.855e-05 - Distribucion NO Normal\n",
    "# - Recoletos p-value = 2.2e-16   - Distribucion NO Normal\n",
    "# - Sol p-value       = 4.974e-08 - Distribucion NO Normal\n",
    "# - Trafalgar p-value = 0.009655  - Distribucion NO Normal\n",
    "\n"
   ]
  },
  {
   "cell_type": "code",
   "execution_count": 216,
   "metadata": {
    "scrolled": true
   },
   "outputs": [
    {
     "data": {
      "text/plain": [
       "\n",
       "\tKruskal-Wallis rank sum test\n",
       "\n",
       "data:  MetrosCuadrados by Barrio\n",
       "Kruskal-Wallis chi-squared = 1.882, df = 4, p-value = 0.7574\n"
      ]
     },
     "metadata": {},
     "output_type": "display_data"
    },
    {
     "data": {
      "text/html": [
       "'Los resultados no fueron estadísticamente significativos.'"
      ],
      "text/latex": [
       "'Los resultados no fueron estadísticamente significativos.'"
      ],
      "text/markdown": [
       "'Los resultados no fueron estadísticamente significativos.'"
      ],
      "text/plain": [
       "[1] \"Los resultados no fueron estadísticamente significativos.\""
      ]
     },
     "metadata": {},
     "output_type": "display_data"
    }
   ],
   "source": [
    "#kruskal.test(weight ~ group, data = my_data)\n",
    "\n",
    "dfmt2 <- airbnb_entire [airbnb_entire$Barrio == \"Recoletos\" | airbnb_entire$Barrio == \"Sol\" | airbnb_entire$Barrio == \"Goya\" | airbnb_entire$Barrio == \"Trafalgar\" | airbnb_entire$Barrio == \"Justicia\",c(\"Barrio\",\"MetrosCuadrados\") ]\n",
    "\n",
    "\n",
    "kruskal.test(MetrosCuadrados ~ Barrio, data=dfmt2)\n",
    "paste(\"Los resultados no fueron estadísticamente significativos.\")\n",
    "\n",
    "#   Result\n",
    "# - Kruskal-Wallis rank sum test p-value      = 0.7574    - Distribucion Normal\n"
   ]
  },
  {
   "cell_type": "markdown",
   "metadata": {},
   "source": [
    "#24\n",
    "Para únicamente los pisos de alquiler en el barrio de Sol:\n",
    "\n",
    "``barrio_sol<-subset(airbnb_entire,Barrio==\"Sol\")``\n",
    "\n",
    "Calcular un modelo lineal que combine alguna de estas variables:\n",
    "* NumBanyos\n",
    "* NumDormitorios\n",
    "* MaxOcupantes\n",
    "* MetrosCuadrados"
   ]
  },
  {
   "cell_type": "code",
   "execution_count": 217,
   "metadata": {},
   "outputs": [
    {
     "name": "stderr",
     "output_type": "stream",
     "text": [
      "`geom_smooth()` using formula 'y ~ x'\n",
      "\n",
      "Warning message:\n",
      "“Removed 641 rows containing non-finite values (stat_smooth).”\n",
      "Warning message:\n",
      "“Removed 641 rows containing missing values (geom_point).”\n"
     ]
    },
    {
     "data": {
      "image/png": "[encoded data removed]",
      "text/plain": [
       "plot without title"
      ]
     },
     "metadata": {
      "image/png": {
       "height": 240,
       "width": 360
      }
     },
     "output_type": "display_data"
    }
   ],
   "source": [
    "barrio_sol<-subset(airbnb_entire,Barrio==\"Sol\")\n",
    "\n",
    "resp24 <- ggplot(barrio_sol, aes(x=MetrosCuadrados, y=NumDormitorios)) +\n",
    "  geom_point()+\n",
    "    geom_smooth(method = lm, se = FALSE)\n",
    "\n",
    "resp24"
   ]
  },
  {
   "cell_type": "markdown",
   "metadata": {},
   "source": [
    "#25\n",
    "Primero calculamos la correlación para ver como se relacionan estas variables entre sí."
   ]
  },
  {
   "cell_type": "code",
   "execution_count": 218,
   "metadata": {},
   "outputs": [
    {
     "data": {
      "text/html": [
       "<table class=\"dataframe\">\n",
       "<caption>A matrix: 4 × 4 of type dbl</caption>\n",
       "<thead>\n",
       "\t<tr><th></th><th scope=col>NumBanyos</th><th scope=col>NumDormitorios</th><th scope=col>MaxOcupantes</th><th scope=col>MetrosCuadrados</th></tr>\n",
       "</thead>\n",
       "<tbody>\n",
       "\t<tr><th scope=row>NumBanyos</th><td>1.0000000</td><td>0.6761906</td><td>0.6578162</td><td>0.4820549</td></tr>\n",
       "\t<tr><th scope=row>NumDormitorios</th><td>0.6761906</td><td>1.0000000</td><td>0.7594598</td><td>0.5684521</td></tr>\n",
       "\t<tr><th scope=row>MaxOcupantes</th><td>0.6578162</td><td>0.7594598</td><td>1.0000000</td><td>0.4286233</td></tr>\n",
       "\t<tr><th scope=row>MetrosCuadrados</th><td>0.4820549</td><td>0.5684521</td><td>0.4286233</td><td>1.0000000</td></tr>\n",
       "</tbody>\n",
       "</table>\n"
      ],
      "text/latex": [
       "A matrix: 4 × 4 of type dbl\n",
       "\\begin{tabular}{r|llll}\n",
       "  & NumBanyos & NumDormitorios & MaxOcupantes & MetrosCuadrados\\\\\n",
       "\\hline\n",
       "\tNumBanyos & 1.0000000 & 0.6761906 & 0.6578162 & 0.4820549\\\\\n",
       "\tNumDormitorios & 0.6761906 & 1.0000000 & 0.7594598 & 0.5684521\\\\\n",
       "\tMaxOcupantes & 0.6578162 & 0.7594598 & 1.0000000 & 0.4286233\\\\\n",
       "\tMetrosCuadrados & 0.4820549 & 0.5684521 & 0.4286233 & 1.0000000\\\\\n",
       "\\end{tabular}\n"
      ],
      "text/markdown": [
       "\n",
       "A matrix: 4 × 4 of type dbl\n",
       "\n",
       "| <!--/--> | NumBanyos | NumDormitorios | MaxOcupantes | MetrosCuadrados |\n",
       "|---|---|---|---|---|\n",
       "| NumBanyos | 1.0000000 | 0.6761906 | 0.6578162 | 0.4820549 |\n",
       "| NumDormitorios | 0.6761906 | 1.0000000 | 0.7594598 | 0.5684521 |\n",
       "| MaxOcupantes | 0.6578162 | 0.7594598 | 1.0000000 | 0.4286233 |\n",
       "| MetrosCuadrados | 0.4820549 | 0.5684521 | 0.4286233 | 1.0000000 |\n",
       "\n"
      ],
      "text/plain": [
       "                NumBanyos NumDormitorios MaxOcupantes MetrosCuadrados\n",
       "NumBanyos       1.0000000 0.6761906      0.6578162    0.4820549      \n",
       "NumDormitorios  0.6761906 1.0000000      0.7594598    0.5684521      \n",
       "MaxOcupantes    0.6578162 0.7594598      1.0000000    0.4286233      \n",
       "MetrosCuadrados 0.4820549 0.5684521      0.4286233    1.0000000      "
      ]
     },
     "metadata": {},
     "output_type": "display_data"
    }
   ],
   "source": [
    "#25\n",
    "correlacion <- c(\"NumBanyos\",\"NumDormitorios\",\"MaxOcupantes\",\"MetrosCuadrados\")\n",
    "\n",
    "cor(barrio_sol[,correlacion], use=\"pairwise.complete.obs\")\n"
   ]
  },
  {
   "cell_type": "markdown",
   "metadata": {},
   "source": [
    "#26\n",
    "Se observa que la correlación entre el número de dormitorios y los metros cuadrados es sorprendentemente baja.\n",
    "¿Son de fiar esos números?\n",
    "\n",
    "Mediante un histograma o curvas de densidad podemos descartar números que no tienen sentido en el dataframe barrio_sol,\n",
    "para tener una matriz de correlación que tenga mayor sentido.\n"
   ]
  },
  {
   "cell_type": "code",
   "execution_count": 219,
   "metadata": {},
   "outputs": [
    {
     "name": "stderr",
     "output_type": "stream",
     "text": [
      "Warning message:\n",
      "“Removed 641 rows containing non-finite values (stat_density).”\n"
     ]
    },
    {
     "data": {
      "image/png": "[encoded data removed]",
      "text/plain": [
       "plot without title"
      ]
     },
     "metadata": {
      "image/png": {
       "height": 240,
       "width": 360
      }
     },
     "output_type": "display_data"
    },
    {
     "data": {
      "text/html": [
       "'En los metros cuadrados se observan muchos valores cercanos a 0'"
      ],
      "text/latex": [
       "'En los metros cuadrados se observan muchos valores cercanos a 0'"
      ],
      "text/markdown": [
       "'En los metros cuadrados se observan muchos valores cercanos a 0'"
      ],
      "text/plain": [
       "[1] \"En los metros cuadrados se observan muchos valores cercanos a 0\""
      ]
     },
     "metadata": {},
     "output_type": "display_data"
    },
    {
     "data": {
      "image/png": "[encoded data removed]",
      "text/plain": [
       "plot without title"
      ]
     },
     "metadata": {
      "image/png": {
       "height": 240,
       "width": 360
      }
     },
     "output_type": "display_data"
    }
   ],
   "source": [
    "ggplot(barrio_sol, aes(x=MetrosCuadrados)) +\n",
    "  geom_density(linetype = 3)\n",
    "\n",
    "ggplot(barrio_sol, aes(x=NumDormitorios)) +\n",
    "  geom_density(linetype = 3)\n",
    "\n",
    "\n",
    "paste(\"En los metros cuadrados se observan muchos valores cercanos a 0\")"
   ]
  },
  {
   "cell_type": "code",
   "execution_count": 277,
   "metadata": {},
   "outputs": [
    {
     "data": {
      "text/html": [
       "'Se realiza limpieza de esos valores'"
      ],
      "text/latex": [
       "'Se realiza limpieza de esos valores'"
      ],
      "text/markdown": [
       "'Se realiza limpieza de esos valores'"
      ],
      "text/plain": [
       "[1] \"Se realiza limpieza de esos valores\""
      ]
     },
     "metadata": {},
     "output_type": "display_data"
    }
   ],
   "source": [
    "(\"Se realiza limpieza de esos valores\")\n",
    "\n",
    "barrio_sol[which(barrio_sol$MetrosCuadrados < 10), \"MetrosCuadrados\"] <- NA"
   ]
  },
  {
   "cell_type": "code",
   "execution_count": 223,
   "metadata": {},
   "outputs": [
    {
     "name": "stderr",
     "output_type": "stream",
     "text": [
      "Warning message:\n",
      "“Removed 666 rows containing non-finite values (stat_density).”\n"
     ]
    },
    {
     "data": {
      "image/png": "[encoded data removed]",
      "text/plain": [
       "plot without title"
      ]
     },
     "metadata": {
      "image/png": {
       "height": 240,
       "width": 360
      }
     },
     "output_type": "display_data"
    },
    {
     "data": {
      "text/html": [
       "<table class=\"dataframe\">\n",
       "<caption>A matrix: 4 × 4 of type dbl</caption>\n",
       "<thead>\n",
       "\t<tr><th></th><th scope=col>NumBanyos</th><th scope=col>NumDormitorios</th><th scope=col>MaxOcupantes</th><th scope=col>MetrosCuadrados</th></tr>\n",
       "</thead>\n",
       "<tbody>\n",
       "\t<tr><th scope=row>NumBanyos</th><td>1.0000000</td><td>0.6761906</td><td>0.6578162</td><td>0.6113095</td></tr>\n",
       "\t<tr><th scope=row>NumDormitorios</th><td>0.6761906</td><td>1.0000000</td><td>0.7594598</td><td>0.8215065</td></tr>\n",
       "\t<tr><th scope=row>MaxOcupantes</th><td>0.6578162</td><td>0.7594598</td><td>1.0000000</td><td>0.7121088</td></tr>\n",
       "\t<tr><th scope=row>MetrosCuadrados</th><td>0.6113095</td><td>0.8215065</td><td>0.7121088</td><td>1.0000000</td></tr>\n",
       "</tbody>\n",
       "</table>\n"
      ],
      "text/latex": [
       "A matrix: 4 × 4 of type dbl\n",
       "\\begin{tabular}{r|llll}\n",
       "  & NumBanyos & NumDormitorios & MaxOcupantes & MetrosCuadrados\\\\\n",
       "\\hline\n",
       "\tNumBanyos & 1.0000000 & 0.6761906 & 0.6578162 & 0.6113095\\\\\n",
       "\tNumDormitorios & 0.6761906 & 1.0000000 & 0.7594598 & 0.8215065\\\\\n",
       "\tMaxOcupantes & 0.6578162 & 0.7594598 & 1.0000000 & 0.7121088\\\\\n",
       "\tMetrosCuadrados & 0.6113095 & 0.8215065 & 0.7121088 & 1.0000000\\\\\n",
       "\\end{tabular}\n"
      ],
      "text/markdown": [
       "\n",
       "A matrix: 4 × 4 of type dbl\n",
       "\n",
       "| <!--/--> | NumBanyos | NumDormitorios | MaxOcupantes | MetrosCuadrados |\n",
       "|---|---|---|---|---|\n",
       "| NumBanyos | 1.0000000 | 0.6761906 | 0.6578162 | 0.6113095 |\n",
       "| NumDormitorios | 0.6761906 | 1.0000000 | 0.7594598 | 0.8215065 |\n",
       "| MaxOcupantes | 0.6578162 | 0.7594598 | 1.0000000 | 0.7121088 |\n",
       "| MetrosCuadrados | 0.6113095 | 0.8215065 | 0.7121088 | 1.0000000 |\n",
       "\n"
      ],
      "text/plain": [
       "                NumBanyos NumDormitorios MaxOcupantes MetrosCuadrados\n",
       "NumBanyos       1.0000000 0.6761906      0.6578162    0.6113095      \n",
       "NumDormitorios  0.6761906 1.0000000      0.7594598    0.8215065      \n",
       "MaxOcupantes    0.6578162 0.7594598      1.0000000    0.7121088      \n",
       "MetrosCuadrados 0.6113095 0.8215065      0.7121088    1.0000000      "
      ]
     },
     "metadata": {},
     "output_type": "display_data"
    },
    {
     "data": {
      "image/png": "[encoded data removed]",
      "text/plain": [
       "plot without title"
      ]
     },
     "metadata": {
      "image/png": {
       "height": 240,
       "width": 360
      }
     },
     "output_type": "display_data"
    }
   ],
   "source": [
    "ggplot(barrio_sol, aes(x=MetrosCuadrados)) +\n",
    "  geom_density(linetype = 3)\n",
    "\n",
    "ggplot(barrio_sol, aes(x=NumDormitorios)) +\n",
    "  geom_density(linetype = 3)\n",
    "\n",
    "cor(barrio_sol[,correlacion], use=\"pairwise.complete.obs\")"
   ]
  },
  {
   "cell_type": "markdown",
   "metadata": {},
   "source": [
    "#27\n",
    "Una vez que hayamos filtrado los datos correspondientes calcular el valor o la combinación de valores que mejor nos permite obtener el precio de un inmueble."
   ]
  },
  {
   "cell_type": "code",
   "execution_count": 229,
   "metadata": {},
   "outputs": [
    {
     "data": {
      "text/plain": [
       "\n",
       "Call:\n",
       "lm(formula = Precio ~ NumBanyos + NumDormitorios + MaxOcupantes + \n",
       "    MetrosCuadrados, data = barrio_sol)\n",
       "\n",
       "Residuals:\n",
       "    Min      1Q  Median      3Q     Max \n",
       "-76.852 -13.673  -5.048  18.523  69.473 \n",
       "\n",
       "Coefficients:\n",
       "                Estimate Std. Error t value Pr(>|t|)   \n",
       "(Intercept)      28.0362    12.9584   2.164  0.03859 * \n",
       "NumBanyos         0.5647    14.6038   0.039  0.96941   \n",
       "NumDormitorios   28.2119     8.5440   3.302  0.00249 **\n",
       "MaxOcupantes      2.6738     4.4329   0.603  0.55093   \n",
       "MetrosCuadrados   0.2237     0.2050   1.091  0.28393   \n",
       "---\n",
       "Signif. codes:  0 ‘***’ 0.001 ‘**’ 0.01 ‘*’ 0.05 ‘.’ 0.1 ‘ ’ 1\n",
       "\n",
       "Residual standard error: 31.32 on 30 degrees of freedom\n",
       "  (666 observations deleted due to missingness)\n",
       "Multiple R-squared:  0.7588,\tAdjusted R-squared:  0.7267 \n",
       "F-statistic:  23.6 on 4 and 30 DF,  p-value: 6.728e-09\n"
      ]
     },
     "metadata": {},
     "output_type": "display_data"
    },
    {
     "data": {
      "text/html": [
       "'NumBanyos, MaxOcupantes y MetrosCuadrados tienen un PR alto indicando que sus valores no son representativos'"
      ],
      "text/latex": [
       "'NumBanyos, MaxOcupantes y MetrosCuadrados tienen un PR alto indicando que sus valores no son representativos'"
      ],
      "text/markdown": [
       "'NumBanyos, MaxOcupantes y MetrosCuadrados tienen un PR alto indicando que sus valores no son representativos'"
      ],
      "text/plain": [
       "[1] \"NumBanyos, MaxOcupantes y MetrosCuadrados tienen un PR alto indicando que sus valores no son representativos\""
      ]
     },
     "metadata": {},
     "output_type": "display_data"
    }
   ],
   "source": [
    "#27\n",
    "combi <- lm(data = barrio_sol, formula = Precio ~ NumBanyos + NumDormitorios + MaxOcupantes + MetrosCuadrados)\n",
    "summary(combi)\n",
    "\n",
    "\n",
    "paste(\"NumBanyos, MaxOcupantes y MetrosCuadrados tienen un PR alto indicando que sus valores no son representativos\")\n"
   ]
  },
  {
   "cell_type": "markdown",
   "metadata": {},
   "source": [
    "#28\n",
    "¿Que variable es más fiable para conocer el precio de un inmueble, el número de habitaciones o los metros cuadrados?"
   ]
  },
  {
   "cell_type": "code",
   "execution_count": 236,
   "metadata": {},
   "outputs": [
    {
     "data": {
      "text/plain": [
       "\n",
       "Call:\n",
       "lm(formula = Precio ~ NumDormitorios, data = barrio_sol)\n",
       "\n",
       "Residuals:\n",
       "     Min       1Q   Median       3Q      Max \n",
       "-206.225  -22.676   -4.312   16.416  263.960 \n",
       "\n",
       "Coefficients:\n",
       "               Estimate Std. Error t value Pr(>|t|)    \n",
       "(Intercept)      52.584      2.568   20.48   <2e-16 ***\n",
       "NumDormitorios   33.364      1.459   22.87   <2e-16 ***\n",
       "---\n",
       "Signif. codes:  0 ‘***’ 0.001 ‘**’ 0.01 ‘*’ 0.05 ‘.’ 0.1 ‘ ’ 1\n",
       "\n",
       "Residual standard error: 38.9 on 699 degrees of freedom\n",
       "Multiple R-squared:  0.4281,\tAdjusted R-squared:  0.4272 \n",
       "F-statistic: 523.1 on 1 and 699 DF,  p-value: < 2.2e-16\n"
      ]
     },
     "metadata": {},
     "output_type": "display_data"
    },
    {
     "data": {
      "text/html": [
       "<table class=\"dataframe\">\n",
       "<caption>A matrix: 2 × 2 of type dbl</caption>\n",
       "<thead>\n",
       "\t<tr><th></th><th scope=col>2.5 %</th><th scope=col>97.5 %</th></tr>\n",
       "</thead>\n",
       "<tbody>\n",
       "\t<tr><th scope=row>(Intercept)</th><td>47.54299</td><td>57.62561</td></tr>\n",
       "\t<tr><th scope=row>NumDormitorios</th><td>30.50004</td><td>36.22803</td></tr>\n",
       "</tbody>\n",
       "</table>\n"
      ],
      "text/latex": [
       "A matrix: 2 × 2 of type dbl\n",
       "\\begin{tabular}{r|ll}\n",
       "  & 2.5 \\% & 97.5 \\%\\\\\n",
       "\\hline\n",
       "\t(Intercept) & 47.54299 & 57.62561\\\\\n",
       "\tNumDormitorios & 30.50004 & 36.22803\\\\\n",
       "\\end{tabular}\n"
      ],
      "text/markdown": [
       "\n",
       "A matrix: 2 × 2 of type dbl\n",
       "\n",
       "| <!--/--> | 2.5 % | 97.5 % |\n",
       "|---|---|---|\n",
       "| (Intercept) | 47.54299 | 57.62561 |\n",
       "| NumDormitorios | 30.50004 | 36.22803 |\n",
       "\n"
      ],
      "text/plain": [
       "               2.5 %    97.5 %  \n",
       "(Intercept)    47.54299 57.62561\n",
       "NumDormitorios 30.50004 36.22803"
      ]
     },
     "metadata": {},
     "output_type": "display_data"
    },
    {
     "data": {
      "text/html": [
       "'la variable NumDormitorios ya que tiene un PR 0.00249 ** y un R-squared:0.4272'"
      ],
      "text/latex": [
       "'la variable NumDormitorios ya que tiene un PR 0.00249 ** y un R-squared:0.4272'"
      ],
      "text/markdown": [
       "'la variable NumDormitorios ya que tiene un PR 0.00249 ** y un R-squared:0.4272'"
      ],
      "text/plain": [
       "[1] \"la variable NumDormitorios ya que tiene un PR 0.00249 ** y un R-squared:0.4272\""
      ]
     },
     "metadata": {},
     "output_type": "display_data"
    }
   ],
   "source": [
    "#28\n",
    "#28\n",
    "\n",
    "habvspr <- lm(data=barrio_sol, formula =  Precio ~ NumDormitorios)\n",
    "summary(habvspr)\n",
    "confint(habvspr)\n",
    "paste(\"la variable NumDormitorios ya que tiene un PR 0.00249 ** y un R-squared:0.4272\")"
   ]
  },
  {
   "cell_type": "markdown",
   "metadata": {},
   "source": [
    "#29\n",
    "Responde con su correspondiente margen de error del 95%, ¿cuantos euros incrementa el precio del alquiler por cada metro cuadrado extra del piso?"
   ]
  },
  {
   "cell_type": "code",
   "execution_count": 291,
   "metadata": {
    "scrolled": false
   },
   "outputs": [
    {
     "data": {
      "text/html": [
       "<span style=white-space:pre-wrap>'El precio por metro cuadrado se incrementa en:  0.98 € --- min: 0.69 --- max: 1.26 €'</span>"
      ],
      "text/latex": [
       "'El precio por metro cuadrado se incrementa en:  0.98 € --- min: 0.69 --- max: 1.26 €'"
      ],
      "text/markdown": [
       "<span style=white-space:pre-wrap>'El precio por metro cuadrado se incrementa en:  0.98 € --- min: 0.69 --- max: 1.26 €'</span>"
      ],
      "text/plain": [
       "[1] \"El precio por metro cuadrado se incrementa en:  0.98 € --- min: 0.69 --- max: 1.26 €\""
      ]
     },
     "metadata": {},
     "output_type": "display_data"
    },
    {
     "data": {
      "text/html": [
       "<span style=white-space:pre-wrap>'R-squared:  0.5838 '</span>"
      ],
      "text/latex": [
       "'R-squared:  0.5838 '"
      ],
      "text/markdown": [
       "<span style=white-space:pre-wrap>'R-squared:  0.5838 '</span>"
      ],
      "text/plain": [
       "[1] \"R-squared:  0.5838 \""
      ]
     },
     "metadata": {},
     "output_type": "display_data"
    },
    {
     "data": {
      "text/html": [
       "<table class=\"dataframe\">\n",
       "<caption>A matrix: 2 × 2 of type dbl</caption>\n",
       "<thead>\n",
       "\t<tr><th></th><th scope=col>2.5 %</th><th scope=col>97.5 %</th></tr>\n",
       "</thead>\n",
       "<tbody>\n",
       "\t<tr><th scope=row>(Intercept)</th><td>5.1272761</td><td>56.70291</td></tr>\n",
       "\t<tr><th scope=row>MetrosCuadrados</th><td>0.6940201</td><td> 1.26525</td></tr>\n",
       "</tbody>\n",
       "</table>\n"
      ],
      "text/latex": [
       "A matrix: 2 × 2 of type dbl\n",
       "\\begin{tabular}{r|ll}\n",
       "  & 2.5 \\% & 97.5 \\%\\\\\n",
       "\\hline\n",
       "\t(Intercept) & 5.1272761 & 56.70291\\\\\n",
       "\tMetrosCuadrados & 0.6940201 &  1.26525\\\\\n",
       "\\end{tabular}\n"
      ],
      "text/markdown": [
       "\n",
       "A matrix: 2 × 2 of type dbl\n",
       "\n",
       "| <!--/--> | 2.5 % | 97.5 % |\n",
       "|---|---|---|\n",
       "| (Intercept) | 5.1272761 | 56.70291 |\n",
       "| MetrosCuadrados | 0.6940201 |  1.26525 |\n",
       "\n"
      ],
      "text/plain": [
       "                2.5 %     97.5 %  \n",
       "(Intercept)     5.1272761 56.70291\n",
       "MetrosCuadrados 0.6940201  1.26525"
      ]
     },
     "metadata": {},
     "output_type": "display_data"
    },
    {
     "data": {
      "text/plain": [
       "\n",
       "Call:\n",
       "lm(formula = Precio ~ MetrosCuadrados, data = barrio_sol)\n",
       "\n",
       "Residuals:\n",
       "    Min      1Q  Median      3Q     Max \n",
       "-65.154 -18.405  -0.139   9.146 122.102 \n",
       "\n",
       "Coefficients:\n",
       "                Estimate Std. Error t value Pr(>|t|)    \n",
       "(Intercept)      30.9151    12.6752   2.439   0.0203 *  \n",
       "MetrosCuadrados   0.9796     0.1404   6.978  5.6e-08 ***\n",
       "---\n",
       "Signif. codes:  0 ‘***’ 0.001 ‘**’ 0.01 ‘*’ 0.05 ‘.’ 0.1 ‘ ’ 1\n",
       "\n",
       "Residual standard error: 38.65 on 33 degrees of freedom\n",
       "  (666 observations deleted due to missingness)\n",
       "Multiple R-squared:  0.5961,\tAdjusted R-squared:  0.5838 \n",
       "F-statistic:  48.7 on 1 and 33 DF,  p-value: 5.596e-08\n"
      ]
     },
     "metadata": {},
     "output_type": "display_data"
    }
   ],
   "source": [
    "#29\n",
    "model_95 <- lm(data = barrio_sol, formula = Precio ~ MetrosCuadrados)\n",
    "model_s <- summary(model_95)\n",
    "mod95c <-confint(model_95)\n",
    "\n",
    "paste(\"El precio por metro cuadrado se incrementa en: \", \n",
    "      round(model_s$coefficients[2,1],2),\"€ ---\",\"min: 0.69 --- max: 1.26 €\")\n",
    "paste(\"R-squared:  0.5838 \")\n",
    "mod95c\n",
    "model_s"
   ]
  },
  {
   "cell_type": "code",
   "execution_count": null,
   "metadata": {},
   "outputs": [],
   "source": []
  },
  {
   "cell_type": "markdown",
   "metadata": {},
   "source": [
    "#30\n",
    "Responde con su correspondiente margen de error del 95%, ¿cuantos euros incrementa el precio del alquiler por cada habitación?"
   ]
  },
  {
   "cell_type": "code",
   "execution_count": 293,
   "metadata": {},
   "outputs": [
    {
     "data": {
      "text/html": [
       "<span style=white-space:pre-wrap>'33.36,  min: 30.50 max: 36.22 €'</span>"
      ],
      "text/latex": [
       "'33.36,  min: 30.50 max: 36.22 €'"
      ],
      "text/markdown": [
       "<span style=white-space:pre-wrap>'33.36,  min: 30.50 max: 36.22 €'</span>"
      ],
      "text/plain": [
       "[1] \"33.36,  min: 30.50 max: 36.22 €\""
      ]
     },
     "metadata": {},
     "output_type": "display_data"
    },
    {
     "data": {
      "text/html": [
       "'R-squared: 0.4272 '"
      ],
      "text/latex": [
       "'R-squared: 0.4272 '"
      ],
      "text/markdown": [
       "'R-squared: 0.4272 '"
      ],
      "text/plain": [
       "[1] \"R-squared: 0.4272 \""
      ]
     },
     "metadata": {},
     "output_type": "display_data"
    },
    {
     "data": {
      "text/plain": [
       "\n",
       "Call:\n",
       "lm(formula = Precio ~ NumDormitorios, data = barrio_sol)\n",
       "\n",
       "Residuals:\n",
       "     Min       1Q   Median       3Q      Max \n",
       "-206.225  -22.676   -4.312   16.416  263.960 \n",
       "\n",
       "Coefficients:\n",
       "               Estimate Std. Error t value Pr(>|t|)    \n",
       "(Intercept)      52.584      2.568   20.48   <2e-16 ***\n",
       "NumDormitorios   33.364      1.459   22.87   <2e-16 ***\n",
       "---\n",
       "Signif. codes:  0 ‘***’ 0.001 ‘**’ 0.01 ‘*’ 0.05 ‘.’ 0.1 ‘ ’ 1\n",
       "\n",
       "Residual standard error: 38.9 on 699 degrees of freedom\n",
       "Multiple R-squared:  0.4281,\tAdjusted R-squared:  0.4272 \n",
       "F-statistic: 523.1 on 1 and 699 DF,  p-value: < 2.2e-16\n"
      ]
     },
     "metadata": {},
     "output_type": "display_data"
    },
    {
     "data": {
      "text/html": [
       "<table class=\"dataframe\">\n",
       "<caption>A matrix: 2 × 2 of type dbl</caption>\n",
       "<thead>\n",
       "\t<tr><th></th><th scope=col>2.5 %</th><th scope=col>97.5 %</th></tr>\n",
       "</thead>\n",
       "<tbody>\n",
       "\t<tr><th scope=row>(Intercept)</th><td>47.54299</td><td>57.62561</td></tr>\n",
       "\t<tr><th scope=row>NumDormitorios</th><td>30.50004</td><td>36.22803</td></tr>\n",
       "</tbody>\n",
       "</table>\n"
      ],
      "text/latex": [
       "A matrix: 2 × 2 of type dbl\n",
       "\\begin{tabular}{r|ll}\n",
       "  & 2.5 \\% & 97.5 \\%\\\\\n",
       "\\hline\n",
       "\t(Intercept) & 47.54299 & 57.62561\\\\\n",
       "\tNumDormitorios & 30.50004 & 36.22803\\\\\n",
       "\\end{tabular}\n"
      ],
      "text/markdown": [
       "\n",
       "A matrix: 2 × 2 of type dbl\n",
       "\n",
       "| <!--/--> | 2.5 % | 97.5 % |\n",
       "|---|---|---|\n",
       "| (Intercept) | 47.54299 | 57.62561 |\n",
       "| NumDormitorios | 30.50004 | 36.22803 |\n",
       "\n"
      ],
      "text/plain": [
       "               2.5 %    97.5 %  \n",
       "(Intercept)    47.54299 57.62561\n",
       "NumDormitorios 30.50004 36.22803"
      ]
     },
     "metadata": {},
     "output_type": "display_data"
    }
   ],
   "source": [
    "#30\n",
    "\n",
    "mod_hab_95 <- lm(data = barrio_sol, formula = Precio ~ NumDormitorios)\n",
    "\n",
    "mod_hab95c <-confint(mod_hab_95)\n",
    "mod_hab_s <- summary(mod_hab_95)\n",
    "\n",
    "paste(\"33.36,  min: 30.50 max: 36.22 €\")\n",
    "\n",
    "paste(\"R-squared: 0.4272 \")\n",
    "\n",
    "mod_hab_s\n",
    "mod_hab95c"
   ]
  },
  {
   "cell_type": "markdown",
   "metadata": {},
   "source": [
    "#31\n",
    "¿Cual es la probabilidad de encontrar, en el barrio de Sol, un apartamento en alquiler con 3 dormitorios?\n",
    "¿Cual es el intervalo de confianza de esa probabilidad?"
   ]
  },
  {
   "cell_type": "code",
   "execution_count": 325,
   "metadata": {},
   "outputs": [
    {
     "data": {
      "text/html": [
       "<span style=white-space:pre-wrap>'Cantidad de apartamento en alquiler en el barrio del sol:  701 cantidad de apartamentos con tres habitaciones 55'</span>"
      ],
      "text/latex": [
       "'Cantidad de apartamento en alquiler en el barrio del sol:  701 cantidad de apartamentos con tres habitaciones 55'"
      ],
      "text/markdown": [
       "<span style=white-space:pre-wrap>'Cantidad de apartamento en alquiler en el barrio del sol:  701 cantidad de apartamentos con tres habitaciones 55'</span>"
      ],
      "text/plain": [
       "[1] \"Cantidad de apartamento en alquiler en el barrio del sol:  701 cantidad de apartamentos con tres habitaciones 55\""
      ]
     },
     "metadata": {},
     "output_type": "display_data"
    },
    {
     "data": {
      "text/html": [
       "<span style=white-space:pre-wrap>'PROBABILIDAD:  0.078'</span>"
      ],
      "text/latex": [
       "'PROBABILIDAD:  0.078'"
      ],
      "text/markdown": [
       "<span style=white-space:pre-wrap>'PROBABILIDAD:  0.078'</span>"
      ],
      "text/plain": [
       "[1] \"PROBABILIDAD:  0.078\""
      ]
     },
     "metadata": {},
     "output_type": "display_data"
    },
    {
     "data": {
      "text/html": [
       "'INTERVALO DE CONFIANZA DEL 95% ENTRE UN: 0.06 Y UN: 0.1'"
      ],
      "text/latex": [
       "'INTERVALO DE CONFIANZA DEL 95\\% ENTRE UN: 0.06 Y UN: 0.1'"
      ],
      "text/markdown": [
       "'INTERVALO DE CONFIANZA DEL 95% ENTRE UN: 0.06 Y UN: 0.1'"
      ],
      "text/plain": [
       "[1] \"INTERVALO DE CONFIANZA DEL 95% ENTRE UN: 0.06 Y UN: 0.1\""
      ]
     },
     "metadata": {},
     "output_type": "display_data"
    }
   ],
   "source": [
    "#31\n",
    "tres_sol <- barrio_sol[barrio_sol$NumDormitorios == 3,] %>% nrow()\n",
    "total_sol <- nrow(barrio_sol)\n",
    "paste(\"Cantidad de apartamento en alquiler en el barrio del sol: \", total_sol,\"cantidad de apartamentos con tres habitaciones\",tres_sol)\n",
    "\n",
    "x <- binom.test(tres_sol, total_sol)\n",
    "\n",
    "\n",
    "paste(\"PROBABILIDAD: \",round(x$estimate,3))\n",
    " paste(\"INTERVALO DE CONFIANZA DEL 95% ENTRE UN:\",round(x$conf.int[1],2),\"Y UN:\",round(x$conf.int[2],2))\n",
    "\n"
   ]
  }
 ],
 "metadata": {
  "kernelspec": {
   "display_name": "R",
   "language": "R",
   "name": "ir"
  },
  "language_info": {
   "codemirror_mode": "r",
   "file_extension": ".r",
   "mimetype": "text/x-r-source",
   "name": "R",
   "pygments_lexer": "r",
   "version": "4.1.0"
  }
 },
 "nbformat": 4,
 "nbformat_minor": 2
}
